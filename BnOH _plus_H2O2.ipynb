{
 "cells": [
  {
   "cell_type": "markdown",
   "metadata": {},
   "source": [
    "##### Imports"
   ]
  },
  {
   "cell_type": "code",
   "execution_count": null,
   "metadata": {},
   "outputs": [],
   "source": [
    "from pathlib import Path\n",
    "\n",
    "# RDKit as conformer generator\n",
    "from rdkit import Chem\n",
    "from rdkit.Chem import AllChem, rdMolAlign, Draw\n",
    "from IPython.display import display, Markdown\n",
    "\n",
    "# OPI imports for performing ORCA calculations and reading output\n",
    "from opi.core import Calculator\n",
    "from opi.input import simple_keywords\n",
    "from opi.input.structures.structure import Structure\n",
    "from opi.input.simple_keywords import BasisSet, Dft, ForceField, Scf, Task, Docker, SolvationModel, Solvent \n",
    "from opi.input.simple_keywords.goat import Goat\n",
    "from opi.input.blocks import BlockDocker , BlockGeom, TSMode, Hybrid, geom_wrapper, BlockIrc \n",
    "from opi.input import blocks\n",
    "from opi.input.blocks.block_geom import Scan\n",
    "from opi.input.blocks.base import Block, InputFilePath\n",
    "# for plotting results and visualization of molecules\n",
    "from opi.input.blocks import BlockGeom, Hybrid\n",
    "from opi.input.blocks.base import NumList\n",
    "import py3Dmol\n",
    "import pandas as pd\n",
    "import matplotlib.pyplot as plt\n",
    "from comp_chem_utils.utils import show_structure, setup_calc\n",
    "\n"
   ]
  },
  {
   "cell_type": "markdown",
   "metadata": {},
   "source": [
    "## BnOH + H2O2"
   ]
  },
  {
   "cell_type": "code",
   "execution_count": 4,
   "metadata": {},
   "outputs": [],
   "source": [
    "# Define SMILES for host and guest\n",
    "host = \"c1ccccc1CO\"  # Benzyl alcohol\n",
    "guest = \"OO\"         # Hydrogen peroxide\n",
    "\n",
    "# Define base working directory\n",
    "base_dir = Path(\"BnOH_plus_H2O2\")\n",
    "xtb_dir = base_dir / \"xtb\""
   ]
  },
  {
   "cell_type": "markdown",
   "metadata": {},
   "source": [
    "### Docking reactants"
   ]
  },
  {
   "cell_type": "code",
   "execution_count": 5,
   "metadata": {},
   "outputs": [],
   "source": [
    "# Set up docking calculation\n",
    "calc = setup_docking_calc(\n",
    "    working_dir=xtb_dir,\n",
    "    host_smiles=host,\n",
    "    guest_smiles=guest,\n",
    "    basename=\"BnOH_H2O2\",\n",
    "    visualize=False,\n",
    ")"
   ]
  },
  {
   "cell_type": "code",
   "execution_count": 6,
   "metadata": {},
   "outputs": [],
   "source": [
    "# run the docking calculation\n",
    "calc.run()"
   ]
  },
  {
   "cell_type": "code",
   "execution_count": 3,
   "metadata": {},
   "outputs": [
    {
     "data": {
      "text/markdown": [
       "### BnOH + H2O2 Docking Result"
      ],
      "text/plain": [
       "<IPython.core.display.Markdown object>"
      ]
     },
     "metadata": {},
     "output_type": "display_data"
    },
    {
     "data": {
      "application/3dmoljs_load.v0": "<div id=\"3dmolviewer_17517345940950274\"  style=\"position: relative; width: 400px; height: 400px;\">\n        <p id=\"3dmolwarning_17517345940950274\" style=\"background-color:#ffcccc;color:black\">3Dmol.js failed to load for some reason.  Please check your browser console for error messages.<br></p>\n        </div>\n<script>\n\nvar loadScriptAsync = function(uri){\n  return new Promise((resolve, reject) => {\n    //this is to ignore the existence of requirejs amd\n    var savedexports, savedmodule;\n    if (typeof exports !== 'undefined') savedexports = exports;\n    else exports = {}\n    if (typeof module !== 'undefined') savedmodule = module;\n    else module = {}\n\n    var tag = document.createElement('script');\n    tag.src = uri;\n    tag.async = true;\n    tag.onload = () => {\n        exports = savedexports;\n        module = savedmodule;\n        resolve();\n    };\n  var firstScriptTag = document.getElementsByTagName('script')[0];\n  firstScriptTag.parentNode.insertBefore(tag, firstScriptTag);\n});\n};\n\nif(typeof $3Dmolpromise === 'undefined') {\n$3Dmolpromise = null;\n  $3Dmolpromise = loadScriptAsync('https://cdn.jsdelivr.net/npm/3dmol@2.5.1/build/3Dmol-min.js');\n}\n\nvar viewer_17517345940950274 = null;\nvar warn = document.getElementById(\"3dmolwarning_17517345940950274\");\nif(warn) {\n    warn.parentNode.removeChild(warn);\n}\n$3Dmolpromise.then(function() {\nviewer_17517345940950274 = $3Dmol.createViewer(document.getElementById(\"3dmolviewer_17517345940950274\"),{backgroundColor:\"white\"});\nviewer_17517345940950274.zoomTo();\n\tviewer_17517345940950274.addModel(\"20\\n\\nC            -0.2935437383996711             1.0803812170633664             0.4467718800357657\\nC            -1.6145209986768316             0.8383406834302867             0.7779879504722098\\nC            -2.2263872530737414            -0.3396769300720802             0.3812185174073356\\nC            -1.5119693698489187            -1.2761708904007087            -0.3461507067435959\\nC            -0.1874172652925140            -1.0383712850613358            -0.6718896960419375\\nC             0.4297312454319672             0.1419478825994418            -0.2806227634019600\\nC             1.8751873173841975             0.4104199541975018            -0.6148257804173067\\nO             2.6879015383895202             0.5767400526457975             0.5371489394062405\\nH             0.1868021943999642             1.9997450317957308             0.7476378420120531\\nH            -2.1689771518353771             1.5722987102088717             1.3430748688449550\\nH            -3.2584703855052157            -0.5264176309552931             0.6371950337426310\\nH            -1.9852756684981365            -2.1949368041702466            -0.6585603423212014\\nH             0.3677010384784462            -1.7718000544746451            -1.2390097531769142\\nH             1.9604477739793444             1.3525324501191081            -1.1635565468469469\\nH             2.2781501246325520            -0.3962313496182978            -1.2400649080229547\\nH             2.6180567892522744            -0.2116861953246025             1.0925160317760532\\nO             1.8881735594258517             3.6901224133566566             0.9690822162698947\\nO             3.2084147641946705             3.2377687853618529             1.2464232277694307\\nH             1.9463436671581351             4.6427254953681958             1.1599313824934931\\nH             3.1482435926678587             2.2728953891019397             1.0567884845891937\\n\\n\",\"xyz\");\n\tviewer_17517345940950274.setBackgroundColor(\"white\");\n\tviewer_17517345940950274.setStyle({\"stick\": {\"radius\": 0.1}, \"sphere\": {\"scale\": 0.2}});\n\tviewer_17517345940950274.addLabel(\"C0\",{\"position\": {\"x\": -0.2935437383996711, \"y\": 1.0803812170633664, \"z\": 0.4467718800357657}, \"fontSize\": 18, \"fontColor\": \"black\", \"backgroundColor\": \"white\", \"showBackground\": false, \"id\": \"bnoh + h2o2 docking result_atom_0\"});\n\tviewer_17517345940950274.addLabel(\"C1\",{\"position\": {\"x\": -1.6145209986768316, \"y\": 0.8383406834302867, \"z\": 0.7779879504722098}, \"fontSize\": 18, \"fontColor\": \"black\", \"backgroundColor\": \"white\", \"showBackground\": false, \"id\": \"bnoh + h2o2 docking result_atom_1\"});\n\tviewer_17517345940950274.addLabel(\"C2\",{\"position\": {\"x\": -2.2263872530737414, \"y\": -0.3396769300720802, \"z\": 0.3812185174073356}, \"fontSize\": 18, \"fontColor\": \"black\", \"backgroundColor\": \"white\", \"showBackground\": false, \"id\": \"bnoh + h2o2 docking result_atom_2\"});\n\tviewer_17517345940950274.addLabel(\"C3\",{\"position\": {\"x\": -1.5119693698489187, \"y\": -1.2761708904007087, \"z\": -0.3461507067435959}, \"fontSize\": 18, \"fontColor\": \"black\", \"backgroundColor\": \"white\", \"showBackground\": false, \"id\": \"bnoh + h2o2 docking result_atom_3\"});\n\tviewer_17517345940950274.addLabel(\"C4\",{\"position\": {\"x\": -0.187417265292514, \"y\": -1.0383712850613358, \"z\": -0.6718896960419375}, \"fontSize\": 18, \"fontColor\": \"black\", \"backgroundColor\": \"white\", \"showBackground\": false, \"id\": \"bnoh + h2o2 docking result_atom_4\"});\n\tviewer_17517345940950274.addLabel(\"C5\",{\"position\": {\"x\": 0.4297312454319672, \"y\": 0.1419478825994418, \"z\": -0.28062276340196}, \"fontSize\": 18, \"fontColor\": \"black\", \"backgroundColor\": \"white\", \"showBackground\": false, \"id\": \"bnoh + h2o2 docking result_atom_5\"});\n\tviewer_17517345940950274.addLabel(\"C6\",{\"position\": {\"x\": 1.8751873173841975, \"y\": 0.4104199541975018, \"z\": -0.6148257804173067}, \"fontSize\": 18, \"fontColor\": \"black\", \"backgroundColor\": \"white\", \"showBackground\": false, \"id\": \"bnoh + h2o2 docking result_atom_6\"});\n\tviewer_17517345940950274.addLabel(\"O7\",{\"position\": {\"x\": 2.68790153838952, \"y\": 0.5767400526457975, \"z\": 0.5371489394062405}, \"fontSize\": 18, \"fontColor\": \"black\", \"backgroundColor\": \"white\", \"showBackground\": false, \"id\": \"bnoh + h2o2 docking result_atom_7\"});\n\tviewer_17517345940950274.addLabel(\"H8\",{\"position\": {\"x\": 0.1868021943999642, \"y\": 1.9997450317957308, \"z\": 0.7476378420120531}, \"fontSize\": 18, \"fontColor\": \"black\", \"backgroundColor\": \"white\", \"showBackground\": false, \"id\": \"bnoh + h2o2 docking result_atom_8\"});\n\tviewer_17517345940950274.addLabel(\"H9\",{\"position\": {\"x\": -2.168977151835377, \"y\": 1.5722987102088717, \"z\": 1.343074868844955}, \"fontSize\": 18, \"fontColor\": \"black\", \"backgroundColor\": \"white\", \"showBackground\": false, \"id\": \"bnoh + h2o2 docking result_atom_9\"});\n\tviewer_17517345940950274.addLabel(\"H10\",{\"position\": {\"x\": -3.2584703855052157, \"y\": -0.5264176309552931, \"z\": 0.637195033742631}, \"fontSize\": 18, \"fontColor\": \"black\", \"backgroundColor\": \"white\", \"showBackground\": false, \"id\": \"bnoh + h2o2 docking result_atom_10\"});\n\tviewer_17517345940950274.addLabel(\"H11\",{\"position\": {\"x\": -1.9852756684981365, \"y\": -2.1949368041702466, \"z\": -0.6585603423212014}, \"fontSize\": 18, \"fontColor\": \"black\", \"backgroundColor\": \"white\", \"showBackground\": false, \"id\": \"bnoh + h2o2 docking result_atom_11\"});\n\tviewer_17517345940950274.addLabel(\"H12\",{\"position\": {\"x\": 0.3677010384784462, \"y\": -1.771800054474645, \"z\": -1.2390097531769142}, \"fontSize\": 18, \"fontColor\": \"black\", \"backgroundColor\": \"white\", \"showBackground\": false, \"id\": \"bnoh + h2o2 docking result_atom_12\"});\n\tviewer_17517345940950274.addLabel(\"H13\",{\"position\": {\"x\": 1.9604477739793444, \"y\": 1.352532450119108, \"z\": -1.1635565468469469}, \"fontSize\": 18, \"fontColor\": \"black\", \"backgroundColor\": \"white\", \"showBackground\": false, \"id\": \"bnoh + h2o2 docking result_atom_13\"});\n\tviewer_17517345940950274.addLabel(\"H14\",{\"position\": {\"x\": 2.278150124632552, \"y\": -0.3962313496182978, \"z\": -1.2400649080229547}, \"fontSize\": 18, \"fontColor\": \"black\", \"backgroundColor\": \"white\", \"showBackground\": false, \"id\": \"bnoh + h2o2 docking result_atom_14\"});\n\tviewer_17517345940950274.addLabel(\"H15\",{\"position\": {\"x\": 2.6180567892522744, \"y\": -0.2116861953246025, \"z\": 1.0925160317760532}, \"fontSize\": 18, \"fontColor\": \"black\", \"backgroundColor\": \"white\", \"showBackground\": false, \"id\": \"bnoh + h2o2 docking result_atom_15\"});\n\tviewer_17517345940950274.addLabel(\"O16\",{\"position\": {\"x\": 1.8881735594258517, \"y\": 3.6901224133566566, \"z\": 0.9690822162698947}, \"fontSize\": 18, \"fontColor\": \"black\", \"backgroundColor\": \"white\", \"showBackground\": false, \"id\": \"bnoh + h2o2 docking result_atom_16\"});\n\tviewer_17517345940950274.addLabel(\"O17\",{\"position\": {\"x\": 3.2084147641946705, \"y\": 3.237768785361853, \"z\": 1.2464232277694307}, \"fontSize\": 18, \"fontColor\": \"black\", \"backgroundColor\": \"white\", \"showBackground\": false, \"id\": \"bnoh + h2o2 docking result_atom_17\"});\n\tviewer_17517345940950274.addLabel(\"H18\",{\"position\": {\"x\": 1.9463436671581351, \"y\": 4.642725495368196, \"z\": 1.1599313824934931}, \"fontSize\": 18, \"fontColor\": \"black\", \"backgroundColor\": \"white\", \"showBackground\": false, \"id\": \"bnoh + h2o2 docking result_atom_18\"});\n\tviewer_17517345940950274.addLabel(\"H19\",{\"position\": {\"x\": 3.1482435926678587, \"y\": 2.2728953891019397, \"z\": 1.0567884845891937}, \"fontSize\": 18, \"fontColor\": \"black\", \"backgroundColor\": \"white\", \"showBackground\": false, \"id\": \"bnoh + h2o2 docking result_atom_19\"});\n\tviewer_17517345940950274.addLabel(\"1.38\",{\"position\": {\"x\": -0.9540323685382514, \"y\": 0.9593609502468265, \"z\": 0.6123799152539877}, \"fontSize\": 18, \"fontColor\": \"black\", \"backgroundColor\": \"white\", \"showBackground\": false});\n\tviewer_17517345940950274.addLabel(\"1.39\",{\"position\": {\"x\": 0.06809375351614808, \"y\": 0.6111645498314041, \"z\": 0.08307455831690283}, \"fontSize\": 18, \"fontColor\": \"black\", \"backgroundColor\": \"white\", \"showBackground\": false});\n\tviewer_17517345940950274.addLabel(\"1.08\",{\"position\": {\"x\": -0.053370771999853434, \"y\": 1.5400631244295486, \"z\": 0.5972048610239094}, \"fontSize\": 18, \"fontColor\": \"black\", \"backgroundColor\": \"white\", \"showBackground\": false});\n\tviewer_17517345940950274.addLabel(\"1.39\",{\"position\": {\"x\": -1.9204541258752865, \"y\": 0.24933187667910323, \"z\": 0.5796032339397728}, \"fontSize\": 18, \"fontColor\": \"black\", \"backgroundColor\": \"white\", \"showBackground\": false});\n\tviewer_17517345940950274.addLabel(\"1.08\",{\"position\": {\"x\": -1.8917490752561044, \"y\": 1.2053196968195792, \"z\": 1.0605314096585823}, \"fontSize\": 18, \"fontColor\": \"black\", \"backgroundColor\": \"white\", \"showBackground\": false});\n\tviewer_17517345940950274.addLabel(\"1.38\",{\"position\": {\"x\": -1.86917831146133, \"y\": -0.8079239102363944, \"z\": 0.017533905331869853}, \"fontSize\": 18, \"fontColor\": \"black\", \"backgroundColor\": \"white\", \"showBackground\": false});\n\tviewer_17517345940950274.addLabel(\"1.08\",{\"position\": {\"x\": -2.7424288192894783, \"y\": -0.4330472805136867, \"z\": 0.5092067755749833}, \"fontSize\": 18, \"fontColor\": \"black\", \"backgroundColor\": \"white\", \"showBackground\": false});\n\tviewer_17517345940950274.addLabel(\"1.38\",{\"position\": {\"x\": -0.8496933175707164, \"y\": -1.1572710877310222, \"z\": -0.5090202013927667}, \"fontSize\": 18, \"fontColor\": \"black\", \"backgroundColor\": \"white\", \"showBackground\": false});\n\tviewer_17517345940950274.addLabel(\"1.08\",{\"position\": {\"x\": -1.7486225191735276, \"y\": -1.7355538472854777, \"z\": -0.5023555245323986}, \"fontSize\": 18, \"fontColor\": \"black\", \"backgroundColor\": \"white\", \"showBackground\": false});\n\tviewer_17517345940950274.addLabel(\"1.39\",{\"position\": {\"x\": 0.1211569900697266, \"y\": -0.448211701230947, \"z\": -0.47625622972194875}, \"fontSize\": 18, \"fontColor\": \"black\", \"backgroundColor\": \"white\", \"showBackground\": false});\n\tviewer_17517345940950274.addLabel(\"1.08\",{\"position\": {\"x\": 0.0901418865929661, \"y\": -1.4050856697679905, \"z\": -0.9554497246094258}, \"fontSize\": 18, \"fontColor\": \"black\", \"backgroundColor\": \"white\", \"showBackground\": false});\n\tviewer_17517345940950274.addLabel(\"1.51\",{\"position\": {\"x\": 1.1524592814080823, \"y\": 0.2761839183984718, \"z\": -0.4477242719096334}, \"fontSize\": 18, \"fontColor\": \"black\", \"backgroundColor\": \"white\", \"showBackground\": false});\n\tviewer_17517345940950274.addLabel(\"1.42\",{\"position\": {\"x\": 2.2815444278868586, \"y\": 0.49358000342164965, \"z\": -0.0388384205055331}, \"fontSize\": 18, \"fontColor\": \"black\", \"backgroundColor\": \"white\", \"showBackground\": false});\n\tviewer_17517345940950274.addLabel(\"1.09\",{\"position\": {\"x\": 1.917817545681771, \"y\": 0.8814762021583049, \"z\": -0.8891911636321268}, \"fontSize\": 18, \"fontColor\": \"black\", \"backgroundColor\": \"white\", \"showBackground\": false});\n\tviewer_17517345940950274.addLabel(\"1.10\",{\"position\": {\"x\": 2.0766687210083745, \"y\": 0.007094302289602006, \"z\": -0.9274453442201307}, \"fontSize\": 18, \"fontColor\": \"black\", \"backgroundColor\": \"white\", \"showBackground\": false});\n\tviewer_17517345940950274.addLabel(\"0.97\",{\"position\": {\"x\": 2.6529791638208975, \"y\": 0.1825269286605975, \"z\": 0.8148324855911468}, \"fontSize\": 18, \"fontColor\": \"black\", \"backgroundColor\": \"white\", \"showBackground\": false});\n\tviewer_17517345940950274.addLabel(\"1.42\",{\"position\": {\"x\": 2.548294161810261, \"y\": 3.4639455993592545, \"z\": 1.1077527220196628}, \"fontSize\": 18, \"fontColor\": \"black\", \"backgroundColor\": \"white\", \"showBackground\": false});\n\tviewer_17517345940950274.addLabel(\"0.97\",{\"position\": {\"x\": 1.9172586132919935, \"y\": 4.166423954362426, \"z\": 1.064506799381694}, \"fontSize\": 18, \"fontColor\": \"black\", \"backgroundColor\": \"white\", \"showBackground\": false});\n\tviewer_17517345940950274.addLabel(\"0.99\",{\"position\": {\"x\": 3.1783291784312646, \"y\": 2.7553320872318965, \"z\": 1.1516058561793123}, \"fontSize\": 18, \"fontColor\": \"black\", \"backgroundColor\": \"white\", \"showBackground\": false});\n\tviewer_17517345940950274.zoomTo();\nviewer_17517345940950274.render();\n});\n</script>",
      "text/html": [
       "<div id=\"3dmolviewer_17517345940950274\"  style=\"position: relative; width: 400px; height: 400px;\">\n",
       "        <p id=\"3dmolwarning_17517345940950274\" style=\"background-color:#ffcccc;color:black\">3Dmol.js failed to load for some reason.  Please check your browser console for error messages.<br></p>\n",
       "        </div>\n",
       "<script>\n",
       "\n",
       "var loadScriptAsync = function(uri){\n",
       "  return new Promise((resolve, reject) => {\n",
       "    //this is to ignore the existence of requirejs amd\n",
       "    var savedexports, savedmodule;\n",
       "    if (typeof exports !== 'undefined') savedexports = exports;\n",
       "    else exports = {}\n",
       "    if (typeof module !== 'undefined') savedmodule = module;\n",
       "    else module = {}\n",
       "\n",
       "    var tag = document.createElement('script');\n",
       "    tag.src = uri;\n",
       "    tag.async = true;\n",
       "    tag.onload = () => {\n",
       "        exports = savedexports;\n",
       "        module = savedmodule;\n",
       "        resolve();\n",
       "    };\n",
       "  var firstScriptTag = document.getElementsByTagName('script')[0];\n",
       "  firstScriptTag.parentNode.insertBefore(tag, firstScriptTag);\n",
       "});\n",
       "};\n",
       "\n",
       "if(typeof $3Dmolpromise === 'undefined') {\n",
       "$3Dmolpromise = null;\n",
       "  $3Dmolpromise = loadScriptAsync('https://cdn.jsdelivr.net/npm/3dmol@2.5.1/build/3Dmol-min.js');\n",
       "}\n",
       "\n",
       "var viewer_17517345940950274 = null;\n",
       "var warn = document.getElementById(\"3dmolwarning_17517345940950274\");\n",
       "if(warn) {\n",
       "    warn.parentNode.removeChild(warn);\n",
       "}\n",
       "$3Dmolpromise.then(function() {\n",
       "viewer_17517345940950274 = $3Dmol.createViewer(document.getElementById(\"3dmolviewer_17517345940950274\"),{backgroundColor:\"white\"});\n",
       "viewer_17517345940950274.zoomTo();\n",
       "\tviewer_17517345940950274.addModel(\"20\\n\\nC            -0.2935437383996711             1.0803812170633664             0.4467718800357657\\nC            -1.6145209986768316             0.8383406834302867             0.7779879504722098\\nC            -2.2263872530737414            -0.3396769300720802             0.3812185174073356\\nC            -1.5119693698489187            -1.2761708904007087            -0.3461507067435959\\nC            -0.1874172652925140            -1.0383712850613358            -0.6718896960419375\\nC             0.4297312454319672             0.1419478825994418            -0.2806227634019600\\nC             1.8751873173841975             0.4104199541975018            -0.6148257804173067\\nO             2.6879015383895202             0.5767400526457975             0.5371489394062405\\nH             0.1868021943999642             1.9997450317957308             0.7476378420120531\\nH            -2.1689771518353771             1.5722987102088717             1.3430748688449550\\nH            -3.2584703855052157            -0.5264176309552931             0.6371950337426310\\nH            -1.9852756684981365            -2.1949368041702466            -0.6585603423212014\\nH             0.3677010384784462            -1.7718000544746451            -1.2390097531769142\\nH             1.9604477739793444             1.3525324501191081            -1.1635565468469469\\nH             2.2781501246325520            -0.3962313496182978            -1.2400649080229547\\nH             2.6180567892522744            -0.2116861953246025             1.0925160317760532\\nO             1.8881735594258517             3.6901224133566566             0.9690822162698947\\nO             3.2084147641946705             3.2377687853618529             1.2464232277694307\\nH             1.9463436671581351             4.6427254953681958             1.1599313824934931\\nH             3.1482435926678587             2.2728953891019397             1.0567884845891937\\n\\n\",\"xyz\");\n",
       "\tviewer_17517345940950274.setBackgroundColor(\"white\");\n",
       "\tviewer_17517345940950274.setStyle({\"stick\": {\"radius\": 0.1}, \"sphere\": {\"scale\": 0.2}});\n",
       "\tviewer_17517345940950274.addLabel(\"C0\",{\"position\": {\"x\": -0.2935437383996711, \"y\": 1.0803812170633664, \"z\": 0.4467718800357657}, \"fontSize\": 18, \"fontColor\": \"black\", \"backgroundColor\": \"white\", \"showBackground\": false, \"id\": \"bnoh + h2o2 docking result_atom_0\"});\n",
       "\tviewer_17517345940950274.addLabel(\"C1\",{\"position\": {\"x\": -1.6145209986768316, \"y\": 0.8383406834302867, \"z\": 0.7779879504722098}, \"fontSize\": 18, \"fontColor\": \"black\", \"backgroundColor\": \"white\", \"showBackground\": false, \"id\": \"bnoh + h2o2 docking result_atom_1\"});\n",
       "\tviewer_17517345940950274.addLabel(\"C2\",{\"position\": {\"x\": -2.2263872530737414, \"y\": -0.3396769300720802, \"z\": 0.3812185174073356}, \"fontSize\": 18, \"fontColor\": \"black\", \"backgroundColor\": \"white\", \"showBackground\": false, \"id\": \"bnoh + h2o2 docking result_atom_2\"});\n",
       "\tviewer_17517345940950274.addLabel(\"C3\",{\"position\": {\"x\": -1.5119693698489187, \"y\": -1.2761708904007087, \"z\": -0.3461507067435959}, \"fontSize\": 18, \"fontColor\": \"black\", \"backgroundColor\": \"white\", \"showBackground\": false, \"id\": \"bnoh + h2o2 docking result_atom_3\"});\n",
       "\tviewer_17517345940950274.addLabel(\"C4\",{\"position\": {\"x\": -0.187417265292514, \"y\": -1.0383712850613358, \"z\": -0.6718896960419375}, \"fontSize\": 18, \"fontColor\": \"black\", \"backgroundColor\": \"white\", \"showBackground\": false, \"id\": \"bnoh + h2o2 docking result_atom_4\"});\n",
       "\tviewer_17517345940950274.addLabel(\"C5\",{\"position\": {\"x\": 0.4297312454319672, \"y\": 0.1419478825994418, \"z\": -0.28062276340196}, \"fontSize\": 18, \"fontColor\": \"black\", \"backgroundColor\": \"white\", \"showBackground\": false, \"id\": \"bnoh + h2o2 docking result_atom_5\"});\n",
       "\tviewer_17517345940950274.addLabel(\"C6\",{\"position\": {\"x\": 1.8751873173841975, \"y\": 0.4104199541975018, \"z\": -0.6148257804173067}, \"fontSize\": 18, \"fontColor\": \"black\", \"backgroundColor\": \"white\", \"showBackground\": false, \"id\": \"bnoh + h2o2 docking result_atom_6\"});\n",
       "\tviewer_17517345940950274.addLabel(\"O7\",{\"position\": {\"x\": 2.68790153838952, \"y\": 0.5767400526457975, \"z\": 0.5371489394062405}, \"fontSize\": 18, \"fontColor\": \"black\", \"backgroundColor\": \"white\", \"showBackground\": false, \"id\": \"bnoh + h2o2 docking result_atom_7\"});\n",
       "\tviewer_17517345940950274.addLabel(\"H8\",{\"position\": {\"x\": 0.1868021943999642, \"y\": 1.9997450317957308, \"z\": 0.7476378420120531}, \"fontSize\": 18, \"fontColor\": \"black\", \"backgroundColor\": \"white\", \"showBackground\": false, \"id\": \"bnoh + h2o2 docking result_atom_8\"});\n",
       "\tviewer_17517345940950274.addLabel(\"H9\",{\"position\": {\"x\": -2.168977151835377, \"y\": 1.5722987102088717, \"z\": 1.343074868844955}, \"fontSize\": 18, \"fontColor\": \"black\", \"backgroundColor\": \"white\", \"showBackground\": false, \"id\": \"bnoh + h2o2 docking result_atom_9\"});\n",
       "\tviewer_17517345940950274.addLabel(\"H10\",{\"position\": {\"x\": -3.2584703855052157, \"y\": -0.5264176309552931, \"z\": 0.637195033742631}, \"fontSize\": 18, \"fontColor\": \"black\", \"backgroundColor\": \"white\", \"showBackground\": false, \"id\": \"bnoh + h2o2 docking result_atom_10\"});\n",
       "\tviewer_17517345940950274.addLabel(\"H11\",{\"position\": {\"x\": -1.9852756684981365, \"y\": -2.1949368041702466, \"z\": -0.6585603423212014}, \"fontSize\": 18, \"fontColor\": \"black\", \"backgroundColor\": \"white\", \"showBackground\": false, \"id\": \"bnoh + h2o2 docking result_atom_11\"});\n",
       "\tviewer_17517345940950274.addLabel(\"H12\",{\"position\": {\"x\": 0.3677010384784462, \"y\": -1.771800054474645, \"z\": -1.2390097531769142}, \"fontSize\": 18, \"fontColor\": \"black\", \"backgroundColor\": \"white\", \"showBackground\": false, \"id\": \"bnoh + h2o2 docking result_atom_12\"});\n",
       "\tviewer_17517345940950274.addLabel(\"H13\",{\"position\": {\"x\": 1.9604477739793444, \"y\": 1.352532450119108, \"z\": -1.1635565468469469}, \"fontSize\": 18, \"fontColor\": \"black\", \"backgroundColor\": \"white\", \"showBackground\": false, \"id\": \"bnoh + h2o2 docking result_atom_13\"});\n",
       "\tviewer_17517345940950274.addLabel(\"H14\",{\"position\": {\"x\": 2.278150124632552, \"y\": -0.3962313496182978, \"z\": -1.2400649080229547}, \"fontSize\": 18, \"fontColor\": \"black\", \"backgroundColor\": \"white\", \"showBackground\": false, \"id\": \"bnoh + h2o2 docking result_atom_14\"});\n",
       "\tviewer_17517345940950274.addLabel(\"H15\",{\"position\": {\"x\": 2.6180567892522744, \"y\": -0.2116861953246025, \"z\": 1.0925160317760532}, \"fontSize\": 18, \"fontColor\": \"black\", \"backgroundColor\": \"white\", \"showBackground\": false, \"id\": \"bnoh + h2o2 docking result_atom_15\"});\n",
       "\tviewer_17517345940950274.addLabel(\"O16\",{\"position\": {\"x\": 1.8881735594258517, \"y\": 3.6901224133566566, \"z\": 0.9690822162698947}, \"fontSize\": 18, \"fontColor\": \"black\", \"backgroundColor\": \"white\", \"showBackground\": false, \"id\": \"bnoh + h2o2 docking result_atom_16\"});\n",
       "\tviewer_17517345940950274.addLabel(\"O17\",{\"position\": {\"x\": 3.2084147641946705, \"y\": 3.237768785361853, \"z\": 1.2464232277694307}, \"fontSize\": 18, \"fontColor\": \"black\", \"backgroundColor\": \"white\", \"showBackground\": false, \"id\": \"bnoh + h2o2 docking result_atom_17\"});\n",
       "\tviewer_17517345940950274.addLabel(\"H18\",{\"position\": {\"x\": 1.9463436671581351, \"y\": 4.642725495368196, \"z\": 1.1599313824934931}, \"fontSize\": 18, \"fontColor\": \"black\", \"backgroundColor\": \"white\", \"showBackground\": false, \"id\": \"bnoh + h2o2 docking result_atom_18\"});\n",
       "\tviewer_17517345940950274.addLabel(\"H19\",{\"position\": {\"x\": 3.1482435926678587, \"y\": 2.2728953891019397, \"z\": 1.0567884845891937}, \"fontSize\": 18, \"fontColor\": \"black\", \"backgroundColor\": \"white\", \"showBackground\": false, \"id\": \"bnoh + h2o2 docking result_atom_19\"});\n",
       "\tviewer_17517345940950274.addLabel(\"1.38\",{\"position\": {\"x\": -0.9540323685382514, \"y\": 0.9593609502468265, \"z\": 0.6123799152539877}, \"fontSize\": 18, \"fontColor\": \"black\", \"backgroundColor\": \"white\", \"showBackground\": false});\n",
       "\tviewer_17517345940950274.addLabel(\"1.39\",{\"position\": {\"x\": 0.06809375351614808, \"y\": 0.6111645498314041, \"z\": 0.08307455831690283}, \"fontSize\": 18, \"fontColor\": \"black\", \"backgroundColor\": \"white\", \"showBackground\": false});\n",
       "\tviewer_17517345940950274.addLabel(\"1.08\",{\"position\": {\"x\": -0.053370771999853434, \"y\": 1.5400631244295486, \"z\": 0.5972048610239094}, \"fontSize\": 18, \"fontColor\": \"black\", \"backgroundColor\": \"white\", \"showBackground\": false});\n",
       "\tviewer_17517345940950274.addLabel(\"1.39\",{\"position\": {\"x\": -1.9204541258752865, \"y\": 0.24933187667910323, \"z\": 0.5796032339397728}, \"fontSize\": 18, \"fontColor\": \"black\", \"backgroundColor\": \"white\", \"showBackground\": false});\n",
       "\tviewer_17517345940950274.addLabel(\"1.08\",{\"position\": {\"x\": -1.8917490752561044, \"y\": 1.2053196968195792, \"z\": 1.0605314096585823}, \"fontSize\": 18, \"fontColor\": \"black\", \"backgroundColor\": \"white\", \"showBackground\": false});\n",
       "\tviewer_17517345940950274.addLabel(\"1.38\",{\"position\": {\"x\": -1.86917831146133, \"y\": -0.8079239102363944, \"z\": 0.017533905331869853}, \"fontSize\": 18, \"fontColor\": \"black\", \"backgroundColor\": \"white\", \"showBackground\": false});\n",
       "\tviewer_17517345940950274.addLabel(\"1.08\",{\"position\": {\"x\": -2.7424288192894783, \"y\": -0.4330472805136867, \"z\": 0.5092067755749833}, \"fontSize\": 18, \"fontColor\": \"black\", \"backgroundColor\": \"white\", \"showBackground\": false});\n",
       "\tviewer_17517345940950274.addLabel(\"1.38\",{\"position\": {\"x\": -0.8496933175707164, \"y\": -1.1572710877310222, \"z\": -0.5090202013927667}, \"fontSize\": 18, \"fontColor\": \"black\", \"backgroundColor\": \"white\", \"showBackground\": false});\n",
       "\tviewer_17517345940950274.addLabel(\"1.08\",{\"position\": {\"x\": -1.7486225191735276, \"y\": -1.7355538472854777, \"z\": -0.5023555245323986}, \"fontSize\": 18, \"fontColor\": \"black\", \"backgroundColor\": \"white\", \"showBackground\": false});\n",
       "\tviewer_17517345940950274.addLabel(\"1.39\",{\"position\": {\"x\": 0.1211569900697266, \"y\": -0.448211701230947, \"z\": -0.47625622972194875}, \"fontSize\": 18, \"fontColor\": \"black\", \"backgroundColor\": \"white\", \"showBackground\": false});\n",
       "\tviewer_17517345940950274.addLabel(\"1.08\",{\"position\": {\"x\": 0.0901418865929661, \"y\": -1.4050856697679905, \"z\": -0.9554497246094258}, \"fontSize\": 18, \"fontColor\": \"black\", \"backgroundColor\": \"white\", \"showBackground\": false});\n",
       "\tviewer_17517345940950274.addLabel(\"1.51\",{\"position\": {\"x\": 1.1524592814080823, \"y\": 0.2761839183984718, \"z\": -0.4477242719096334}, \"fontSize\": 18, \"fontColor\": \"black\", \"backgroundColor\": \"white\", \"showBackground\": false});\n",
       "\tviewer_17517345940950274.addLabel(\"1.42\",{\"position\": {\"x\": 2.2815444278868586, \"y\": 0.49358000342164965, \"z\": -0.0388384205055331}, \"fontSize\": 18, \"fontColor\": \"black\", \"backgroundColor\": \"white\", \"showBackground\": false});\n",
       "\tviewer_17517345940950274.addLabel(\"1.09\",{\"position\": {\"x\": 1.917817545681771, \"y\": 0.8814762021583049, \"z\": -0.8891911636321268}, \"fontSize\": 18, \"fontColor\": \"black\", \"backgroundColor\": \"white\", \"showBackground\": false});\n",
       "\tviewer_17517345940950274.addLabel(\"1.10\",{\"position\": {\"x\": 2.0766687210083745, \"y\": 0.007094302289602006, \"z\": -0.9274453442201307}, \"fontSize\": 18, \"fontColor\": \"black\", \"backgroundColor\": \"white\", \"showBackground\": false});\n",
       "\tviewer_17517345940950274.addLabel(\"0.97\",{\"position\": {\"x\": 2.6529791638208975, \"y\": 0.1825269286605975, \"z\": 0.8148324855911468}, \"fontSize\": 18, \"fontColor\": \"black\", \"backgroundColor\": \"white\", \"showBackground\": false});\n",
       "\tviewer_17517345940950274.addLabel(\"1.42\",{\"position\": {\"x\": 2.548294161810261, \"y\": 3.4639455993592545, \"z\": 1.1077527220196628}, \"fontSize\": 18, \"fontColor\": \"black\", \"backgroundColor\": \"white\", \"showBackground\": false});\n",
       "\tviewer_17517345940950274.addLabel(\"0.97\",{\"position\": {\"x\": 1.9172586132919935, \"y\": 4.166423954362426, \"z\": 1.064506799381694}, \"fontSize\": 18, \"fontColor\": \"black\", \"backgroundColor\": \"white\", \"showBackground\": false});\n",
       "\tviewer_17517345940950274.addLabel(\"0.99\",{\"position\": {\"x\": 3.1783291784312646, \"y\": 2.7553320872318965, \"z\": 1.1516058561793123}, \"fontSize\": 18, \"fontColor\": \"black\", \"backgroundColor\": \"white\", \"showBackground\": false});\n",
       "\tviewer_17517345940950274.zoomTo();\n",
       "viewer_17517345940950274.render();\n",
       "});\n",
       "</script>"
      ]
     },
     "metadata": {},
     "output_type": "display_data"
    }
   ],
   "source": [
    "show_structure(\"/home/madsr2d2/chem/comp_chem/BnOH_plus_H2O2/xtb/docking/BnOH_H2O2.docker.xyz\", title=\"BnOH + H2O2 Docking Result\")"
   ]
  },
  {
   "cell_type": "markdown",
   "metadata": {},
   "source": [
    "### TS search"
   ]
  },
  {
   "cell_type": "markdown",
   "metadata": {},
   "source": [
    "#### TS guess"
   ]
  },
  {
   "cell_type": "code",
   "execution_count": 119,
   "metadata": {},
   "outputs": [],
   "source": [
    "# generate TS guess\n",
    "ts_dir = xtb_dir / \"ts\"\n",
    "ts_guess_dir  = ts_dir / \"guess\""
   ]
  },
  {
   "cell_type": "code",
   "execution_count": 134,
   "metadata": {},
   "outputs": [],
   "source": [
    "geom_block = BlockGeom()\n",
    "geom_block.constraints = BlockGeom.constraint_str([\"a 6 13 16 170.0 C\", \"B 13 16 1.7 C\" , \"a 13 16 17 170.0 c\"])\n",
    "geom_path = \"/home/madsr2d2/chem/comp_chem/BnOH_plus_H2O2/xtb/docking/BnOH_H2O2.docker.xyz\"\n",
    "geom_block.recalc_hess = 100\n",
    "geom_block.maxiter = 1000\n",
    "sk_list = [\"xtb\", \"alpb(water)\", \"opt\", \"TightSCF\", \"Slowconv\"]"
   ]
  },
  {
   "cell_type": "code",
   "execution_count": 135,
   "metadata": {},
   "outputs": [
    {
     "data": {
      "text/markdown": [
       "### BnOH_H2O2_TS_guess"
      ],
      "text/plain": [
       "<IPython.core.display.Markdown object>"
      ]
     },
     "metadata": {},
     "output_type": "display_data"
    },
    {
     "data": {
      "application/3dmoljs_load.v0": "<div id=\"3dmolviewer_17517391658622847\"  style=\"position: relative; width: 400px; height: 400px;\">\n        <p id=\"3dmolwarning_17517391658622847\" style=\"background-color:#ffcccc;color:black\">3Dmol.js failed to load for some reason.  Please check your browser console for error messages.<br></p>\n        </div>\n<script>\n\nvar loadScriptAsync = function(uri){\n  return new Promise((resolve, reject) => {\n    //this is to ignore the existence of requirejs amd\n    var savedexports, savedmodule;\n    if (typeof exports !== 'undefined') savedexports = exports;\n    else exports = {}\n    if (typeof module !== 'undefined') savedmodule = module;\n    else module = {}\n\n    var tag = document.createElement('script');\n    tag.src = uri;\n    tag.async = true;\n    tag.onload = () => {\n        exports = savedexports;\n        module = savedmodule;\n        resolve();\n    };\n  var firstScriptTag = document.getElementsByTagName('script')[0];\n  firstScriptTag.parentNode.insertBefore(tag, firstScriptTag);\n});\n};\n\nif(typeof $3Dmolpromise === 'undefined') {\n$3Dmolpromise = null;\n  $3Dmolpromise = loadScriptAsync('https://cdn.jsdelivr.net/npm/3dmol@2.5.1/build/3Dmol-min.js');\n}\n\nvar viewer_17517391658622847 = null;\nvar warn = document.getElementById(\"3dmolwarning_17517391658622847\");\nif(warn) {\n    warn.parentNode.removeChild(warn);\n}\n$3Dmolpromise.then(function() {\nviewer_17517391658622847 = $3Dmol.createViewer(document.getElementById(\"3dmolviewer_17517391658622847\"),{backgroundColor:\"white\"});\nviewer_17517391658622847.zoomTo();\n\tviewer_17517391658622847.addModel(\"20\\n\\nC            -0.2935437383996711             1.0803812170633664             0.4467718800357657\\nC            -1.6145209986768316             0.8383406834302867             0.7779879504722098\\nC            -2.2263872530737414            -0.3396769300720802             0.3812185174073356\\nC            -1.5119693698489187            -1.2761708904007087            -0.3461507067435959\\nC            -0.1874172652925140            -1.0383712850613358            -0.6718896960419375\\nC             0.4297312454319672             0.1419478825994418            -0.2806227634019600\\nC             1.8751873173841975             0.4104199541975018            -0.6148257804173067\\nO             2.6879015383895202             0.5767400526457975             0.5371489394062405\\nH             0.1868021943999642             1.9997450317957308             0.7476378420120531\\nH            -2.1689771518353771             1.5722987102088717             1.3430748688449550\\nH            -3.2584703855052157            -0.5264176309552931             0.6371950337426310\\nH            -1.9852756684981365            -2.1949368041702466            -0.6585603423212014\\nH             0.3677010384784462            -1.7718000544746451            -1.2390097531769142\\nH             1.9604477739793444             1.3525324501191081            -1.1635565468469469\\nH             2.2781501246325520            -0.3962313496182978            -1.2400649080229547\\nH             2.6180567892522744            -0.2116861953246025             1.0925160317760532\\nO             1.8881735594258517             3.6901224133566566             0.9690822162698947\\nO             3.2084147641946705             3.2377687853618529             1.2464232277694307\\nH             1.9463436671581351             4.6427254953681958             1.1599313824934931\\nH             3.1482435926678587             2.2728953891019397             1.0567884845891937\\n\\n\",\"xyz\");\n\tviewer_17517391658622847.setBackgroundColor(\"white\");\n\tviewer_17517391658622847.setStyle({\"stick\": {\"radius\": 0.1}, \"sphere\": {\"scale\": 0.2}});\n\tviewer_17517391658622847.addLabel(\"C0\",{\"position\": {\"x\": -0.2935437383996711, \"y\": 1.0803812170633664, \"z\": 0.4467718800357657}, \"fontSize\": 18, \"fontColor\": \"black\", \"backgroundColor\": \"white\", \"showBackground\": false, \"id\": \"bnoh_h2o2_ts_guess_atom_0\"});\n\tviewer_17517391658622847.addLabel(\"C1\",{\"position\": {\"x\": -1.6145209986768316, \"y\": 0.8383406834302867, \"z\": 0.7779879504722098}, \"fontSize\": 18, \"fontColor\": \"black\", \"backgroundColor\": \"white\", \"showBackground\": false, \"id\": \"bnoh_h2o2_ts_guess_atom_1\"});\n\tviewer_17517391658622847.addLabel(\"C2\",{\"position\": {\"x\": -2.2263872530737414, \"y\": -0.3396769300720802, \"z\": 0.3812185174073356}, \"fontSize\": 18, \"fontColor\": \"black\", \"backgroundColor\": \"white\", \"showBackground\": false, \"id\": \"bnoh_h2o2_ts_guess_atom_2\"});\n\tviewer_17517391658622847.addLabel(\"C3\",{\"position\": {\"x\": -1.5119693698489187, \"y\": -1.2761708904007087, \"z\": -0.3461507067435959}, \"fontSize\": 18, \"fontColor\": \"black\", \"backgroundColor\": \"white\", \"showBackground\": false, \"id\": \"bnoh_h2o2_ts_guess_atom_3\"});\n\tviewer_17517391658622847.addLabel(\"C4\",{\"position\": {\"x\": -0.187417265292514, \"y\": -1.0383712850613358, \"z\": -0.6718896960419375}, \"fontSize\": 18, \"fontColor\": \"black\", \"backgroundColor\": \"white\", \"showBackground\": false, \"id\": \"bnoh_h2o2_ts_guess_atom_4\"});\n\tviewer_17517391658622847.addLabel(\"C5\",{\"position\": {\"x\": 0.4297312454319672, \"y\": 0.1419478825994418, \"z\": -0.28062276340196}, \"fontSize\": 18, \"fontColor\": \"black\", \"backgroundColor\": \"white\", \"showBackground\": false, \"id\": \"bnoh_h2o2_ts_guess_atom_5\"});\n\tviewer_17517391658622847.addLabel(\"C6\",{\"position\": {\"x\": 1.8751873173841975, \"y\": 0.4104199541975018, \"z\": -0.6148257804173067}, \"fontSize\": 18, \"fontColor\": \"black\", \"backgroundColor\": \"white\", \"showBackground\": false, \"id\": \"bnoh_h2o2_ts_guess_atom_6\"});\n\tviewer_17517391658622847.addLabel(\"O7\",{\"position\": {\"x\": 2.68790153838952, \"y\": 0.5767400526457975, \"z\": 0.5371489394062405}, \"fontSize\": 18, \"fontColor\": \"black\", \"backgroundColor\": \"white\", \"showBackground\": false, \"id\": \"bnoh_h2o2_ts_guess_atom_7\"});\n\tviewer_17517391658622847.addLabel(\"H8\",{\"position\": {\"x\": 0.1868021943999642, \"y\": 1.9997450317957308, \"z\": 0.7476378420120531}, \"fontSize\": 18, \"fontColor\": \"black\", \"backgroundColor\": \"white\", \"showBackground\": false, \"id\": \"bnoh_h2o2_ts_guess_atom_8\"});\n\tviewer_17517391658622847.addLabel(\"H9\",{\"position\": {\"x\": -2.168977151835377, \"y\": 1.5722987102088717, \"z\": 1.343074868844955}, \"fontSize\": 18, \"fontColor\": \"black\", \"backgroundColor\": \"white\", \"showBackground\": false, \"id\": \"bnoh_h2o2_ts_guess_atom_9\"});\n\tviewer_17517391658622847.addLabel(\"H10\",{\"position\": {\"x\": -3.2584703855052157, \"y\": -0.5264176309552931, \"z\": 0.637195033742631}, \"fontSize\": 18, \"fontColor\": \"black\", \"backgroundColor\": \"white\", \"showBackground\": false, \"id\": \"bnoh_h2o2_ts_guess_atom_10\"});\n\tviewer_17517391658622847.addLabel(\"H11\",{\"position\": {\"x\": -1.9852756684981365, \"y\": -2.1949368041702466, \"z\": -0.6585603423212014}, \"fontSize\": 18, \"fontColor\": \"black\", \"backgroundColor\": \"white\", \"showBackground\": false, \"id\": \"bnoh_h2o2_ts_guess_atom_11\"});\n\tviewer_17517391658622847.addLabel(\"H12\",{\"position\": {\"x\": 0.3677010384784462, \"y\": -1.771800054474645, \"z\": -1.2390097531769142}, \"fontSize\": 18, \"fontColor\": \"black\", \"backgroundColor\": \"white\", \"showBackground\": false, \"id\": \"bnoh_h2o2_ts_guess_atom_12\"});\n\tviewer_17517391658622847.addLabel(\"H13\",{\"position\": {\"x\": 1.9604477739793444, \"y\": 1.352532450119108, \"z\": -1.1635565468469469}, \"fontSize\": 18, \"fontColor\": \"black\", \"backgroundColor\": \"white\", \"showBackground\": false, \"id\": \"bnoh_h2o2_ts_guess_atom_13\"});\n\tviewer_17517391658622847.addLabel(\"H14\",{\"position\": {\"x\": 2.278150124632552, \"y\": -0.3962313496182978, \"z\": -1.2400649080229547}, \"fontSize\": 18, \"fontColor\": \"black\", \"backgroundColor\": \"white\", \"showBackground\": false, \"id\": \"bnoh_h2o2_ts_guess_atom_14\"});\n\tviewer_17517391658622847.addLabel(\"H15\",{\"position\": {\"x\": 2.6180567892522744, \"y\": -0.2116861953246025, \"z\": 1.0925160317760532}, \"fontSize\": 18, \"fontColor\": \"black\", \"backgroundColor\": \"white\", \"showBackground\": false, \"id\": \"bnoh_h2o2_ts_guess_atom_15\"});\n\tviewer_17517391658622847.addLabel(\"O16\",{\"position\": {\"x\": 1.8881735594258517, \"y\": 3.6901224133566566, \"z\": 0.9690822162698947}, \"fontSize\": 18, \"fontColor\": \"black\", \"backgroundColor\": \"white\", \"showBackground\": false, \"id\": \"bnoh_h2o2_ts_guess_atom_16\"});\n\tviewer_17517391658622847.addLabel(\"O17\",{\"position\": {\"x\": 3.2084147641946705, \"y\": 3.237768785361853, \"z\": 1.2464232277694307}, \"fontSize\": 18, \"fontColor\": \"black\", \"backgroundColor\": \"white\", \"showBackground\": false, \"id\": \"bnoh_h2o2_ts_guess_atom_17\"});\n\tviewer_17517391658622847.addLabel(\"H18\",{\"position\": {\"x\": 1.9463436671581351, \"y\": 4.642725495368196, \"z\": 1.1599313824934931}, \"fontSize\": 18, \"fontColor\": \"black\", \"backgroundColor\": \"white\", \"showBackground\": false, \"id\": \"bnoh_h2o2_ts_guess_atom_18\"});\n\tviewer_17517391658622847.addLabel(\"H19\",{\"position\": {\"x\": 3.1482435926678587, \"y\": 2.2728953891019397, \"z\": 1.0567884845891937}, \"fontSize\": 18, \"fontColor\": \"black\", \"backgroundColor\": \"white\", \"showBackground\": false, \"id\": \"bnoh_h2o2_ts_guess_atom_19\"});\n\tviewer_17517391658622847.addLabel(\"1.38\",{\"position\": {\"x\": -0.9540323685382514, \"y\": 0.9593609502468265, \"z\": 0.6123799152539877}, \"fontSize\": 18, \"fontColor\": \"black\", \"backgroundColor\": \"white\", \"showBackground\": false});\n\tviewer_17517391658622847.addLabel(\"1.39\",{\"position\": {\"x\": 0.06809375351614808, \"y\": 0.6111645498314041, \"z\": 0.08307455831690283}, \"fontSize\": 18, \"fontColor\": \"black\", \"backgroundColor\": \"white\", \"showBackground\": false});\n\tviewer_17517391658622847.addLabel(\"1.08\",{\"position\": {\"x\": -0.053370771999853434, \"y\": 1.5400631244295486, \"z\": 0.5972048610239094}, \"fontSize\": 18, \"fontColor\": \"black\", \"backgroundColor\": \"white\", \"showBackground\": false});\n\tviewer_17517391658622847.addLabel(\"1.39\",{\"position\": {\"x\": -1.9204541258752865, \"y\": 0.24933187667910323, \"z\": 0.5796032339397728}, \"fontSize\": 18, \"fontColor\": \"black\", \"backgroundColor\": \"white\", \"showBackground\": false});\n\tviewer_17517391658622847.addLabel(\"1.08\",{\"position\": {\"x\": -1.8917490752561044, \"y\": 1.2053196968195792, \"z\": 1.0605314096585823}, \"fontSize\": 18, \"fontColor\": \"black\", \"backgroundColor\": \"white\", \"showBackground\": false});\n\tviewer_17517391658622847.addLabel(\"1.38\",{\"position\": {\"x\": -1.86917831146133, \"y\": -0.8079239102363944, \"z\": 0.017533905331869853}, \"fontSize\": 18, \"fontColor\": \"black\", \"backgroundColor\": \"white\", \"showBackground\": false});\n\tviewer_17517391658622847.addLabel(\"1.08\",{\"position\": {\"x\": -2.7424288192894783, \"y\": -0.4330472805136867, \"z\": 0.5092067755749833}, \"fontSize\": 18, \"fontColor\": \"black\", \"backgroundColor\": \"white\", \"showBackground\": false});\n\tviewer_17517391658622847.addLabel(\"1.38\",{\"position\": {\"x\": -0.8496933175707164, \"y\": -1.1572710877310222, \"z\": -0.5090202013927667}, \"fontSize\": 18, \"fontColor\": \"black\", \"backgroundColor\": \"white\", \"showBackground\": false});\n\tviewer_17517391658622847.addLabel(\"1.08\",{\"position\": {\"x\": -1.7486225191735276, \"y\": -1.7355538472854777, \"z\": -0.5023555245323986}, \"fontSize\": 18, \"fontColor\": \"black\", \"backgroundColor\": \"white\", \"showBackground\": false});\n\tviewer_17517391658622847.addLabel(\"1.39\",{\"position\": {\"x\": 0.1211569900697266, \"y\": -0.448211701230947, \"z\": -0.47625622972194875}, \"fontSize\": 18, \"fontColor\": \"black\", \"backgroundColor\": \"white\", \"showBackground\": false});\n\tviewer_17517391658622847.addLabel(\"1.08\",{\"position\": {\"x\": 0.0901418865929661, \"y\": -1.4050856697679905, \"z\": -0.9554497246094258}, \"fontSize\": 18, \"fontColor\": \"black\", \"backgroundColor\": \"white\", \"showBackground\": false});\n\tviewer_17517391658622847.addLabel(\"1.51\",{\"position\": {\"x\": 1.1524592814080823, \"y\": 0.2761839183984718, \"z\": -0.4477242719096334}, \"fontSize\": 18, \"fontColor\": \"black\", \"backgroundColor\": \"white\", \"showBackground\": false});\n\tviewer_17517391658622847.addLabel(\"1.42\",{\"position\": {\"x\": 2.2815444278868586, \"y\": 0.49358000342164965, \"z\": -0.0388384205055331}, \"fontSize\": 18, \"fontColor\": \"black\", \"backgroundColor\": \"white\", \"showBackground\": false});\n\tviewer_17517391658622847.addLabel(\"1.09\",{\"position\": {\"x\": 1.917817545681771, \"y\": 0.8814762021583049, \"z\": -0.8891911636321268}, \"fontSize\": 18, \"fontColor\": \"black\", \"backgroundColor\": \"white\", \"showBackground\": false});\n\tviewer_17517391658622847.addLabel(\"1.10\",{\"position\": {\"x\": 2.0766687210083745, \"y\": 0.007094302289602006, \"z\": -0.9274453442201307}, \"fontSize\": 18, \"fontColor\": \"black\", \"backgroundColor\": \"white\", \"showBackground\": false});\n\tviewer_17517391658622847.addLabel(\"0.97\",{\"position\": {\"x\": 2.6529791638208975, \"y\": 0.1825269286605975, \"z\": 0.8148324855911468}, \"fontSize\": 18, \"fontColor\": \"black\", \"backgroundColor\": \"white\", \"showBackground\": false});\n\tviewer_17517391658622847.addLabel(\"1.42\",{\"position\": {\"x\": 2.548294161810261, \"y\": 3.4639455993592545, \"z\": 1.1077527220196628}, \"fontSize\": 18, \"fontColor\": \"black\", \"backgroundColor\": \"white\", \"showBackground\": false});\n\tviewer_17517391658622847.addLabel(\"0.97\",{\"position\": {\"x\": 1.9172586132919935, \"y\": 4.166423954362426, \"z\": 1.064506799381694}, \"fontSize\": 18, \"fontColor\": \"black\", \"backgroundColor\": \"white\", \"showBackground\": false});\n\tviewer_17517391658622847.addLabel(\"0.99\",{\"position\": {\"x\": 3.1783291784312646, \"y\": 2.7553320872318965, \"z\": 1.1516058561793123}, \"fontSize\": 18, \"fontColor\": \"black\", \"backgroundColor\": \"white\", \"showBackground\": false});\n\tviewer_17517391658622847.zoomTo();\nviewer_17517391658622847.render();\n});\n</script>",
      "text/html": [
       "<div id=\"3dmolviewer_17517391658622847\"  style=\"position: relative; width: 400px; height: 400px;\">\n",
       "        <p id=\"3dmolwarning_17517391658622847\" style=\"background-color:#ffcccc;color:black\">3Dmol.js failed to load for some reason.  Please check your browser console for error messages.<br></p>\n",
       "        </div>\n",
       "<script>\n",
       "\n",
       "var loadScriptAsync = function(uri){\n",
       "  return new Promise((resolve, reject) => {\n",
       "    //this is to ignore the existence of requirejs amd\n",
       "    var savedexports, savedmodule;\n",
       "    if (typeof exports !== 'undefined') savedexports = exports;\n",
       "    else exports = {}\n",
       "    if (typeof module !== 'undefined') savedmodule = module;\n",
       "    else module = {}\n",
       "\n",
       "    var tag = document.createElement('script');\n",
       "    tag.src = uri;\n",
       "    tag.async = true;\n",
       "    tag.onload = () => {\n",
       "        exports = savedexports;\n",
       "        module = savedmodule;\n",
       "        resolve();\n",
       "    };\n",
       "  var firstScriptTag = document.getElementsByTagName('script')[0];\n",
       "  firstScriptTag.parentNode.insertBefore(tag, firstScriptTag);\n",
       "});\n",
       "};\n",
       "\n",
       "if(typeof $3Dmolpromise === 'undefined') {\n",
       "$3Dmolpromise = null;\n",
       "  $3Dmolpromise = loadScriptAsync('https://cdn.jsdelivr.net/npm/3dmol@2.5.1/build/3Dmol-min.js');\n",
       "}\n",
       "\n",
       "var viewer_17517391658622847 = null;\n",
       "var warn = document.getElementById(\"3dmolwarning_17517391658622847\");\n",
       "if(warn) {\n",
       "    warn.parentNode.removeChild(warn);\n",
       "}\n",
       "$3Dmolpromise.then(function() {\n",
       "viewer_17517391658622847 = $3Dmol.createViewer(document.getElementById(\"3dmolviewer_17517391658622847\"),{backgroundColor:\"white\"});\n",
       "viewer_17517391658622847.zoomTo();\n",
       "\tviewer_17517391658622847.addModel(\"20\\n\\nC            -0.2935437383996711             1.0803812170633664             0.4467718800357657\\nC            -1.6145209986768316             0.8383406834302867             0.7779879504722098\\nC            -2.2263872530737414            -0.3396769300720802             0.3812185174073356\\nC            -1.5119693698489187            -1.2761708904007087            -0.3461507067435959\\nC            -0.1874172652925140            -1.0383712850613358            -0.6718896960419375\\nC             0.4297312454319672             0.1419478825994418            -0.2806227634019600\\nC             1.8751873173841975             0.4104199541975018            -0.6148257804173067\\nO             2.6879015383895202             0.5767400526457975             0.5371489394062405\\nH             0.1868021943999642             1.9997450317957308             0.7476378420120531\\nH            -2.1689771518353771             1.5722987102088717             1.3430748688449550\\nH            -3.2584703855052157            -0.5264176309552931             0.6371950337426310\\nH            -1.9852756684981365            -2.1949368041702466            -0.6585603423212014\\nH             0.3677010384784462            -1.7718000544746451            -1.2390097531769142\\nH             1.9604477739793444             1.3525324501191081            -1.1635565468469469\\nH             2.2781501246325520            -0.3962313496182978            -1.2400649080229547\\nH             2.6180567892522744            -0.2116861953246025             1.0925160317760532\\nO             1.8881735594258517             3.6901224133566566             0.9690822162698947\\nO             3.2084147641946705             3.2377687853618529             1.2464232277694307\\nH             1.9463436671581351             4.6427254953681958             1.1599313824934931\\nH             3.1482435926678587             2.2728953891019397             1.0567884845891937\\n\\n\",\"xyz\");\n",
       "\tviewer_17517391658622847.setBackgroundColor(\"white\");\n",
       "\tviewer_17517391658622847.setStyle({\"stick\": {\"radius\": 0.1}, \"sphere\": {\"scale\": 0.2}});\n",
       "\tviewer_17517391658622847.addLabel(\"C0\",{\"position\": {\"x\": -0.2935437383996711, \"y\": 1.0803812170633664, \"z\": 0.4467718800357657}, \"fontSize\": 18, \"fontColor\": \"black\", \"backgroundColor\": \"white\", \"showBackground\": false, \"id\": \"bnoh_h2o2_ts_guess_atom_0\"});\n",
       "\tviewer_17517391658622847.addLabel(\"C1\",{\"position\": {\"x\": -1.6145209986768316, \"y\": 0.8383406834302867, \"z\": 0.7779879504722098}, \"fontSize\": 18, \"fontColor\": \"black\", \"backgroundColor\": \"white\", \"showBackground\": false, \"id\": \"bnoh_h2o2_ts_guess_atom_1\"});\n",
       "\tviewer_17517391658622847.addLabel(\"C2\",{\"position\": {\"x\": -2.2263872530737414, \"y\": -0.3396769300720802, \"z\": 0.3812185174073356}, \"fontSize\": 18, \"fontColor\": \"black\", \"backgroundColor\": \"white\", \"showBackground\": false, \"id\": \"bnoh_h2o2_ts_guess_atom_2\"});\n",
       "\tviewer_17517391658622847.addLabel(\"C3\",{\"position\": {\"x\": -1.5119693698489187, \"y\": -1.2761708904007087, \"z\": -0.3461507067435959}, \"fontSize\": 18, \"fontColor\": \"black\", \"backgroundColor\": \"white\", \"showBackground\": false, \"id\": \"bnoh_h2o2_ts_guess_atom_3\"});\n",
       "\tviewer_17517391658622847.addLabel(\"C4\",{\"position\": {\"x\": -0.187417265292514, \"y\": -1.0383712850613358, \"z\": -0.6718896960419375}, \"fontSize\": 18, \"fontColor\": \"black\", \"backgroundColor\": \"white\", \"showBackground\": false, \"id\": \"bnoh_h2o2_ts_guess_atom_4\"});\n",
       "\tviewer_17517391658622847.addLabel(\"C5\",{\"position\": {\"x\": 0.4297312454319672, \"y\": 0.1419478825994418, \"z\": -0.28062276340196}, \"fontSize\": 18, \"fontColor\": \"black\", \"backgroundColor\": \"white\", \"showBackground\": false, \"id\": \"bnoh_h2o2_ts_guess_atom_5\"});\n",
       "\tviewer_17517391658622847.addLabel(\"C6\",{\"position\": {\"x\": 1.8751873173841975, \"y\": 0.4104199541975018, \"z\": -0.6148257804173067}, \"fontSize\": 18, \"fontColor\": \"black\", \"backgroundColor\": \"white\", \"showBackground\": false, \"id\": \"bnoh_h2o2_ts_guess_atom_6\"});\n",
       "\tviewer_17517391658622847.addLabel(\"O7\",{\"position\": {\"x\": 2.68790153838952, \"y\": 0.5767400526457975, \"z\": 0.5371489394062405}, \"fontSize\": 18, \"fontColor\": \"black\", \"backgroundColor\": \"white\", \"showBackground\": false, \"id\": \"bnoh_h2o2_ts_guess_atom_7\"});\n",
       "\tviewer_17517391658622847.addLabel(\"H8\",{\"position\": {\"x\": 0.1868021943999642, \"y\": 1.9997450317957308, \"z\": 0.7476378420120531}, \"fontSize\": 18, \"fontColor\": \"black\", \"backgroundColor\": \"white\", \"showBackground\": false, \"id\": \"bnoh_h2o2_ts_guess_atom_8\"});\n",
       "\tviewer_17517391658622847.addLabel(\"H9\",{\"position\": {\"x\": -2.168977151835377, \"y\": 1.5722987102088717, \"z\": 1.343074868844955}, \"fontSize\": 18, \"fontColor\": \"black\", \"backgroundColor\": \"white\", \"showBackground\": false, \"id\": \"bnoh_h2o2_ts_guess_atom_9\"});\n",
       "\tviewer_17517391658622847.addLabel(\"H10\",{\"position\": {\"x\": -3.2584703855052157, \"y\": -0.5264176309552931, \"z\": 0.637195033742631}, \"fontSize\": 18, \"fontColor\": \"black\", \"backgroundColor\": \"white\", \"showBackground\": false, \"id\": \"bnoh_h2o2_ts_guess_atom_10\"});\n",
       "\tviewer_17517391658622847.addLabel(\"H11\",{\"position\": {\"x\": -1.9852756684981365, \"y\": -2.1949368041702466, \"z\": -0.6585603423212014}, \"fontSize\": 18, \"fontColor\": \"black\", \"backgroundColor\": \"white\", \"showBackground\": false, \"id\": \"bnoh_h2o2_ts_guess_atom_11\"});\n",
       "\tviewer_17517391658622847.addLabel(\"H12\",{\"position\": {\"x\": 0.3677010384784462, \"y\": -1.771800054474645, \"z\": -1.2390097531769142}, \"fontSize\": 18, \"fontColor\": \"black\", \"backgroundColor\": \"white\", \"showBackground\": false, \"id\": \"bnoh_h2o2_ts_guess_atom_12\"});\n",
       "\tviewer_17517391658622847.addLabel(\"H13\",{\"position\": {\"x\": 1.9604477739793444, \"y\": 1.352532450119108, \"z\": -1.1635565468469469}, \"fontSize\": 18, \"fontColor\": \"black\", \"backgroundColor\": \"white\", \"showBackground\": false, \"id\": \"bnoh_h2o2_ts_guess_atom_13\"});\n",
       "\tviewer_17517391658622847.addLabel(\"H14\",{\"position\": {\"x\": 2.278150124632552, \"y\": -0.3962313496182978, \"z\": -1.2400649080229547}, \"fontSize\": 18, \"fontColor\": \"black\", \"backgroundColor\": \"white\", \"showBackground\": false, \"id\": \"bnoh_h2o2_ts_guess_atom_14\"});\n",
       "\tviewer_17517391658622847.addLabel(\"H15\",{\"position\": {\"x\": 2.6180567892522744, \"y\": -0.2116861953246025, \"z\": 1.0925160317760532}, \"fontSize\": 18, \"fontColor\": \"black\", \"backgroundColor\": \"white\", \"showBackground\": false, \"id\": \"bnoh_h2o2_ts_guess_atom_15\"});\n",
       "\tviewer_17517391658622847.addLabel(\"O16\",{\"position\": {\"x\": 1.8881735594258517, \"y\": 3.6901224133566566, \"z\": 0.9690822162698947}, \"fontSize\": 18, \"fontColor\": \"black\", \"backgroundColor\": \"white\", \"showBackground\": false, \"id\": \"bnoh_h2o2_ts_guess_atom_16\"});\n",
       "\tviewer_17517391658622847.addLabel(\"O17\",{\"position\": {\"x\": 3.2084147641946705, \"y\": 3.237768785361853, \"z\": 1.2464232277694307}, \"fontSize\": 18, \"fontColor\": \"black\", \"backgroundColor\": \"white\", \"showBackground\": false, \"id\": \"bnoh_h2o2_ts_guess_atom_17\"});\n",
       "\tviewer_17517391658622847.addLabel(\"H18\",{\"position\": {\"x\": 1.9463436671581351, \"y\": 4.642725495368196, \"z\": 1.1599313824934931}, \"fontSize\": 18, \"fontColor\": \"black\", \"backgroundColor\": \"white\", \"showBackground\": false, \"id\": \"bnoh_h2o2_ts_guess_atom_18\"});\n",
       "\tviewer_17517391658622847.addLabel(\"H19\",{\"position\": {\"x\": 3.1482435926678587, \"y\": 2.2728953891019397, \"z\": 1.0567884845891937}, \"fontSize\": 18, \"fontColor\": \"black\", \"backgroundColor\": \"white\", \"showBackground\": false, \"id\": \"bnoh_h2o2_ts_guess_atom_19\"});\n",
       "\tviewer_17517391658622847.addLabel(\"1.38\",{\"position\": {\"x\": -0.9540323685382514, \"y\": 0.9593609502468265, \"z\": 0.6123799152539877}, \"fontSize\": 18, \"fontColor\": \"black\", \"backgroundColor\": \"white\", \"showBackground\": false});\n",
       "\tviewer_17517391658622847.addLabel(\"1.39\",{\"position\": {\"x\": 0.06809375351614808, \"y\": 0.6111645498314041, \"z\": 0.08307455831690283}, \"fontSize\": 18, \"fontColor\": \"black\", \"backgroundColor\": \"white\", \"showBackground\": false});\n",
       "\tviewer_17517391658622847.addLabel(\"1.08\",{\"position\": {\"x\": -0.053370771999853434, \"y\": 1.5400631244295486, \"z\": 0.5972048610239094}, \"fontSize\": 18, \"fontColor\": \"black\", \"backgroundColor\": \"white\", \"showBackground\": false});\n",
       "\tviewer_17517391658622847.addLabel(\"1.39\",{\"position\": {\"x\": -1.9204541258752865, \"y\": 0.24933187667910323, \"z\": 0.5796032339397728}, \"fontSize\": 18, \"fontColor\": \"black\", \"backgroundColor\": \"white\", \"showBackground\": false});\n",
       "\tviewer_17517391658622847.addLabel(\"1.08\",{\"position\": {\"x\": -1.8917490752561044, \"y\": 1.2053196968195792, \"z\": 1.0605314096585823}, \"fontSize\": 18, \"fontColor\": \"black\", \"backgroundColor\": \"white\", \"showBackground\": false});\n",
       "\tviewer_17517391658622847.addLabel(\"1.38\",{\"position\": {\"x\": -1.86917831146133, \"y\": -0.8079239102363944, \"z\": 0.017533905331869853}, \"fontSize\": 18, \"fontColor\": \"black\", \"backgroundColor\": \"white\", \"showBackground\": false});\n",
       "\tviewer_17517391658622847.addLabel(\"1.08\",{\"position\": {\"x\": -2.7424288192894783, \"y\": -0.4330472805136867, \"z\": 0.5092067755749833}, \"fontSize\": 18, \"fontColor\": \"black\", \"backgroundColor\": \"white\", \"showBackground\": false});\n",
       "\tviewer_17517391658622847.addLabel(\"1.38\",{\"position\": {\"x\": -0.8496933175707164, \"y\": -1.1572710877310222, \"z\": -0.5090202013927667}, \"fontSize\": 18, \"fontColor\": \"black\", \"backgroundColor\": \"white\", \"showBackground\": false});\n",
       "\tviewer_17517391658622847.addLabel(\"1.08\",{\"position\": {\"x\": -1.7486225191735276, \"y\": -1.7355538472854777, \"z\": -0.5023555245323986}, \"fontSize\": 18, \"fontColor\": \"black\", \"backgroundColor\": \"white\", \"showBackground\": false});\n",
       "\tviewer_17517391658622847.addLabel(\"1.39\",{\"position\": {\"x\": 0.1211569900697266, \"y\": -0.448211701230947, \"z\": -0.47625622972194875}, \"fontSize\": 18, \"fontColor\": \"black\", \"backgroundColor\": \"white\", \"showBackground\": false});\n",
       "\tviewer_17517391658622847.addLabel(\"1.08\",{\"position\": {\"x\": 0.0901418865929661, \"y\": -1.4050856697679905, \"z\": -0.9554497246094258}, \"fontSize\": 18, \"fontColor\": \"black\", \"backgroundColor\": \"white\", \"showBackground\": false});\n",
       "\tviewer_17517391658622847.addLabel(\"1.51\",{\"position\": {\"x\": 1.1524592814080823, \"y\": 0.2761839183984718, \"z\": -0.4477242719096334}, \"fontSize\": 18, \"fontColor\": \"black\", \"backgroundColor\": \"white\", \"showBackground\": false});\n",
       "\tviewer_17517391658622847.addLabel(\"1.42\",{\"position\": {\"x\": 2.2815444278868586, \"y\": 0.49358000342164965, \"z\": -0.0388384205055331}, \"fontSize\": 18, \"fontColor\": \"black\", \"backgroundColor\": \"white\", \"showBackground\": false});\n",
       "\tviewer_17517391658622847.addLabel(\"1.09\",{\"position\": {\"x\": 1.917817545681771, \"y\": 0.8814762021583049, \"z\": -0.8891911636321268}, \"fontSize\": 18, \"fontColor\": \"black\", \"backgroundColor\": \"white\", \"showBackground\": false});\n",
       "\tviewer_17517391658622847.addLabel(\"1.10\",{\"position\": {\"x\": 2.0766687210083745, \"y\": 0.007094302289602006, \"z\": -0.9274453442201307}, \"fontSize\": 18, \"fontColor\": \"black\", \"backgroundColor\": \"white\", \"showBackground\": false});\n",
       "\tviewer_17517391658622847.addLabel(\"0.97\",{\"position\": {\"x\": 2.6529791638208975, \"y\": 0.1825269286605975, \"z\": 0.8148324855911468}, \"fontSize\": 18, \"fontColor\": \"black\", \"backgroundColor\": \"white\", \"showBackground\": false});\n",
       "\tviewer_17517391658622847.addLabel(\"1.42\",{\"position\": {\"x\": 2.548294161810261, \"y\": 3.4639455993592545, \"z\": 1.1077527220196628}, \"fontSize\": 18, \"fontColor\": \"black\", \"backgroundColor\": \"white\", \"showBackground\": false});\n",
       "\tviewer_17517391658622847.addLabel(\"0.97\",{\"position\": {\"x\": 1.9172586132919935, \"y\": 4.166423954362426, \"z\": 1.064506799381694}, \"fontSize\": 18, \"fontColor\": \"black\", \"backgroundColor\": \"white\", \"showBackground\": false});\n",
       "\tviewer_17517391658622847.addLabel(\"0.99\",{\"position\": {\"x\": 3.1783291784312646, \"y\": 2.7553320872318965, \"z\": 1.1516058561793123}, \"fontSize\": 18, \"fontColor\": \"black\", \"backgroundColor\": \"white\", \"showBackground\": false});\n",
       "\tviewer_17517391658622847.zoomTo();\n",
       "viewer_17517391658622847.render();\n",
       "});\n",
       "</script>"
      ]
     },
     "metadata": {},
     "output_type": "display_data"
    }
   ],
   "source": [
    "calc = setup_calc(\n",
    "    working_dir=ts_guess_dir,\n",
    "    structure=geom_path,\n",
    "    basename=\"BnOH_H2O2_TS_guess\",\n",
    "    sk_list=sk_list,\n",
    "    bk_list=geom_block,\n",
    ")"
   ]
  },
  {
   "cell_type": "code",
   "execution_count": 136,
   "metadata": {},
   "outputs": [],
   "source": [
    "# run calculation\n",
    "calc.run()"
   ]
  },
  {
   "cell_type": "code",
   "execution_count": 137,
   "metadata": {},
   "outputs": [
    {
     "data": {
      "text/markdown": [
       "### TS guess"
      ],
      "text/plain": [
       "<IPython.core.display.Markdown object>"
      ]
     },
     "metadata": {},
     "output_type": "display_data"
    },
    {
     "data": {
      "application/3dmoljs_load.v0": "<div id=\"3dmolviewer_17517391908735352\"  style=\"position: relative; width: 400px; height: 400px;\">\n        <p id=\"3dmolwarning_17517391908735352\" style=\"background-color:#ffcccc;color:black\">3Dmol.js failed to load for some reason.  Please check your browser console for error messages.<br></p>\n        </div>\n<script>\n\nvar loadScriptAsync = function(uri){\n  return new Promise((resolve, reject) => {\n    //this is to ignore the existence of requirejs amd\n    var savedexports, savedmodule;\n    if (typeof exports !== 'undefined') savedexports = exports;\n    else exports = {}\n    if (typeof module !== 'undefined') savedmodule = module;\n    else module = {}\n\n    var tag = document.createElement('script');\n    tag.src = uri;\n    tag.async = true;\n    tag.onload = () => {\n        exports = savedexports;\n        module = savedmodule;\n        resolve();\n    };\n  var firstScriptTag = document.getElementsByTagName('script')[0];\n  firstScriptTag.parentNode.insertBefore(tag, firstScriptTag);\n});\n};\n\nif(typeof $3Dmolpromise === 'undefined') {\n$3Dmolpromise = null;\n  $3Dmolpromise = loadScriptAsync('https://cdn.jsdelivr.net/npm/3dmol@2.5.1/build/3Dmol-min.js');\n}\n\nvar viewer_17517391908735352 = null;\nvar warn = document.getElementById(\"3dmolwarning_17517391908735352\");\nif(warn) {\n    warn.parentNode.removeChild(warn);\n}\n$3Dmolpromise.then(function() {\nviewer_17517391908735352 = $3Dmol.createViewer(document.getElementById(\"3dmolviewer_17517391908735352\"),{backgroundColor:\"white\"});\nviewer_17517391908735352.zoomTo();\n\tviewer_17517391908735352.addModel(\"20\\n\\nC            -0.1096337711136100             0.2801406038667600             1.3748116092224500\\nC            -1.4841261745410499             0.2013292620456100             1.5073084360830600\\nC            -2.2728540949695302            -0.0736335624187900             0.4024966884909400\\nC            -1.6799120035226700            -0.2734235378101100            -0.8328026765620400\\nC            -0.3038975041519000            -0.2013762114028200            -0.9633125642820500\\nC             0.4924766882750300             0.0794691104498700             0.1390492777755900\\nC             1.9905407832340201             0.1854789624550400             0.0044375707585500\\nO             2.7024160513026998            -0.3539027455982200             1.1010303559988499\\nH             0.5145012596294700             0.4978092864836400             2.2289882366934499\\nH            -1.9411935557405899             0.3584391699899000             2.4729130859005100\\nH            -3.3461102949138000            -0.1324178479241700             0.5039423271033699\\nH            -2.2906030858189399            -0.4897902668306300            -1.6966561316519100\\nH             0.1550328101718800            -0.3621311966953600            -1.9280377839679499\\nH             2.2721614796218401             1.2534024747093899            -0.0257955342969700\\nH             2.3180743071838901            -0.2889421288997000            -0.9301063924004100\\nH             2.5036610979463600            -1.2974877404028600             1.1719256802459701\\nO             2.4240302137417999             2.9418014472241998            -0.1532504813441900\\nO             2.4671503010214701             4.3743690473419603            -0.0253325516854000\\nH             2.7742649542323399             2.8449464259886899            -1.0582316051621901\\nH             2.1626123126756100             4.5165463725991701             0.8877183309267600\\n\\n\",\"xyz\");\n\tviewer_17517391908735352.setBackgroundColor(\"white\");\n\tviewer_17517391908735352.setStyle({\"stick\": {\"radius\": 0.1}, \"sphere\": {\"scale\": 0.2}});\n\tviewer_17517391908735352.addLabel(\"C0\",{\"position\": {\"x\": -0.10963377111361, \"y\": 0.28014060386676, \"z\": 1.37481160922245}, \"fontSize\": 18, \"fontColor\": \"black\", \"backgroundColor\": \"white\", \"showBackground\": false, \"id\": \"ts guess_atom_0\"});\n\tviewer_17517391908735352.addLabel(\"C1\",{\"position\": {\"x\": -1.48412617454105, \"y\": 0.20132926204561, \"z\": 1.50730843608306}, \"fontSize\": 18, \"fontColor\": \"black\", \"backgroundColor\": \"white\", \"showBackground\": false, \"id\": \"ts guess_atom_1\"});\n\tviewer_17517391908735352.addLabel(\"C2\",{\"position\": {\"x\": -2.27285409496953, \"y\": -0.07363356241879, \"z\": 0.40249668849094}, \"fontSize\": 18, \"fontColor\": \"black\", \"backgroundColor\": \"white\", \"showBackground\": false, \"id\": \"ts guess_atom_2\"});\n\tviewer_17517391908735352.addLabel(\"C3\",{\"position\": {\"x\": -1.67991200352267, \"y\": -0.27342353781011, \"z\": -0.83280267656204}, \"fontSize\": 18, \"fontColor\": \"black\", \"backgroundColor\": \"white\", \"showBackground\": false, \"id\": \"ts guess_atom_3\"});\n\tviewer_17517391908735352.addLabel(\"C4\",{\"position\": {\"x\": -0.3038975041519, \"y\": -0.20137621140282, \"z\": -0.96331256428205}, \"fontSize\": 18, \"fontColor\": \"black\", \"backgroundColor\": \"white\", \"showBackground\": false, \"id\": \"ts guess_atom_4\"});\n\tviewer_17517391908735352.addLabel(\"C5\",{\"position\": {\"x\": 0.49247668827503, \"y\": 0.07946911044987, \"z\": 0.13904927777559}, \"fontSize\": 18, \"fontColor\": \"black\", \"backgroundColor\": \"white\", \"showBackground\": false, \"id\": \"ts guess_atom_5\"});\n\tviewer_17517391908735352.addLabel(\"C6\",{\"position\": {\"x\": 1.99054078323402, \"y\": 0.18547896245504, \"z\": 0.00443757075855}, \"fontSize\": 18, \"fontColor\": \"black\", \"backgroundColor\": \"white\", \"showBackground\": false, \"id\": \"ts guess_atom_6\"});\n\tviewer_17517391908735352.addLabel(\"O7\",{\"position\": {\"x\": 2.7024160513027, \"y\": -0.35390274559822, \"z\": 1.10103035599885}, \"fontSize\": 18, \"fontColor\": \"black\", \"backgroundColor\": \"white\", \"showBackground\": false, \"id\": \"ts guess_atom_7\"});\n\tviewer_17517391908735352.addLabel(\"H8\",{\"position\": {\"x\": 0.51450125962947, \"y\": 0.49780928648364, \"z\": 2.22898823669345}, \"fontSize\": 18, \"fontColor\": \"black\", \"backgroundColor\": \"white\", \"showBackground\": false, \"id\": \"ts guess_atom_8\"});\n\tviewer_17517391908735352.addLabel(\"H9\",{\"position\": {\"x\": -1.94119355574059, \"y\": 0.3584391699899, \"z\": 2.47291308590051}, \"fontSize\": 18, \"fontColor\": \"black\", \"backgroundColor\": \"white\", \"showBackground\": false, \"id\": \"ts guess_atom_9\"});\n\tviewer_17517391908735352.addLabel(\"H10\",{\"position\": {\"x\": -3.3461102949138, \"y\": -0.13241784792417, \"z\": 0.50394232710337}, \"fontSize\": 18, \"fontColor\": \"black\", \"backgroundColor\": \"white\", \"showBackground\": false, \"id\": \"ts guess_atom_10\"});\n\tviewer_17517391908735352.addLabel(\"H11\",{\"position\": {\"x\": -2.29060308581894, \"y\": -0.48979026683063, \"z\": -1.69665613165191}, \"fontSize\": 18, \"fontColor\": \"black\", \"backgroundColor\": \"white\", \"showBackground\": false, \"id\": \"ts guess_atom_11\"});\n\tviewer_17517391908735352.addLabel(\"H12\",{\"position\": {\"x\": 0.15503281017188, \"y\": -0.36213119669536, \"z\": -1.92803778396795}, \"fontSize\": 18, \"fontColor\": \"black\", \"backgroundColor\": \"white\", \"showBackground\": false, \"id\": \"ts guess_atom_12\"});\n\tviewer_17517391908735352.addLabel(\"H13\",{\"position\": {\"x\": 2.27216147962184, \"y\": 1.25340247470939, \"z\": -0.02579553429697}, \"fontSize\": 18, \"fontColor\": \"black\", \"backgroundColor\": \"white\", \"showBackground\": false, \"id\": \"ts guess_atom_13\"});\n\tviewer_17517391908735352.addLabel(\"H14\",{\"position\": {\"x\": 2.31807430718389, \"y\": -0.2889421288997, \"z\": -0.93010639240041}, \"fontSize\": 18, \"fontColor\": \"black\", \"backgroundColor\": \"white\", \"showBackground\": false, \"id\": \"ts guess_atom_14\"});\n\tviewer_17517391908735352.addLabel(\"H15\",{\"position\": {\"x\": 2.50366109794636, \"y\": -1.29748774040286, \"z\": 1.17192568024597}, \"fontSize\": 18, \"fontColor\": \"black\", \"backgroundColor\": \"white\", \"showBackground\": false, \"id\": \"ts guess_atom_15\"});\n\tviewer_17517391908735352.addLabel(\"O16\",{\"position\": {\"x\": 2.4240302137418, \"y\": 2.9418014472242, \"z\": -0.15325048134419}, \"fontSize\": 18, \"fontColor\": \"black\", \"backgroundColor\": \"white\", \"showBackground\": false, \"id\": \"ts guess_atom_16\"});\n\tviewer_17517391908735352.addLabel(\"O17\",{\"position\": {\"x\": 2.46715030102147, \"y\": 4.37436904734196, \"z\": -0.0253325516854}, \"fontSize\": 18, \"fontColor\": \"black\", \"backgroundColor\": \"white\", \"showBackground\": false, \"id\": \"ts guess_atom_17\"});\n\tviewer_17517391908735352.addLabel(\"H18\",{\"position\": {\"x\": 2.77426495423234, \"y\": 2.84494642598869, \"z\": -1.05823160516219}, \"fontSize\": 18, \"fontColor\": \"black\", \"backgroundColor\": \"white\", \"showBackground\": false, \"id\": \"ts guess_atom_18\"});\n\tviewer_17517391908735352.addLabel(\"H19\",{\"position\": {\"x\": 2.16261231267561, \"y\": 4.51654637259917, \"z\": 0.88771833092676}, \"fontSize\": 18, \"fontColor\": \"black\", \"backgroundColor\": \"white\", \"showBackground\": false, \"id\": \"ts guess_atom_19\"});\n\tviewer_17517391908735352.addLabel(\"1.38\",{\"position\": {\"x\": -0.7968799728273299, \"y\": 0.24073493295618498, \"z\": 1.441060022652755}, \"fontSize\": 18, \"fontColor\": \"black\", \"backgroundColor\": \"white\", \"showBackground\": false});\n\tviewer_17517391908735352.addLabel(\"1.39\",{\"position\": {\"x\": 0.19142145858071, \"y\": 0.17980485715831498, \"z\": 0.7569304434990201}, \"fontSize\": 18, \"fontColor\": \"black\", \"backgroundColor\": \"white\", \"showBackground\": false});\n\tviewer_17517391908735352.addLabel(\"1.08\",{\"position\": {\"x\": 0.20243374425793, \"y\": 0.3889749451752, \"z\": 1.80189992295795}, \"fontSize\": 18, \"fontColor\": \"black\", \"backgroundColor\": \"white\", \"showBackground\": false});\n\tviewer_17517391908735352.addLabel(\"1.39\",{\"position\": {\"x\": -1.87849013475529, \"y\": 0.06384784981340999, \"z\": 0.954902562287}, \"fontSize\": 18, \"fontColor\": \"black\", \"backgroundColor\": \"white\", \"showBackground\": false});\n\tviewer_17517391908735352.addLabel(\"1.08\",{\"position\": {\"x\": -1.7126598651408198, \"y\": 0.279884216017755, \"z\": 1.990110760991785}, \"fontSize\": 18, \"fontColor\": \"black\", \"backgroundColor\": \"white\", \"showBackground\": false});\n\tviewer_17517391908735352.addLabel(\"1.38\",{\"position\": {\"x\": -1.9763830492461, \"y\": -0.17352855011444998, \"z\": -0.21515299403555}, \"fontSize\": 18, \"fontColor\": \"black\", \"backgroundColor\": \"white\", \"showBackground\": false});\n\tviewer_17517391908735352.addLabel(\"1.08\",{\"position\": {\"x\": -2.809482194941665, \"y\": -0.10302570517147999, \"z\": 0.453219507797155}, \"fontSize\": 18, \"fontColor\": \"black\", \"backgroundColor\": \"white\", \"showBackground\": false});\n\tviewer_17517391908735352.addLabel(\"1.38\",{\"position\": {\"x\": -0.9919047538372849, \"y\": -0.237399874606465, \"z\": -0.898057620422045}, \"fontSize\": 18, \"fontColor\": \"black\", \"backgroundColor\": \"white\", \"showBackground\": false});\n\tviewer_17517391908735352.addLabel(\"1.08\",{\"position\": {\"x\": -1.985257544670805, \"y\": -0.38160690232037, \"z\": -1.264729404106975}, \"fontSize\": 18, \"fontColor\": \"black\", \"backgroundColor\": \"white\", \"showBackground\": false});\n\tviewer_17517391908735352.addLabel(\"1.39\",{\"position\": {\"x\": 0.09428959206156501, \"y\": -0.060953550476475, \"z\": -0.41213164325323004}, \"fontSize\": 18, \"fontColor\": \"black\", \"backgroundColor\": \"white\", \"showBackground\": false});\n\tviewer_17517391908735352.addLabel(\"1.08\",{\"position\": {\"x\": -0.07443234699000999, \"y\": -0.28175370404909, \"z\": -1.445675174125}, \"fontSize\": 18, \"fontColor\": \"black\", \"backgroundColor\": \"white\", \"showBackground\": false});\n\tviewer_17517391908735352.addLabel(\"1.51\",{\"position\": {\"x\": 1.241508735754525, \"y\": 0.132474036452455, \"z\": 0.07174342426707}, \"fontSize\": 18, \"fontColor\": \"black\", \"backgroundColor\": \"white\", \"showBackground\": false});\n\tviewer_17517391908735352.addLabel(\"1.41\",{\"position\": {\"x\": 2.3464784172683597, \"y\": -0.08421189157159, \"z\": 0.5527339633787}, \"fontSize\": 18, \"fontColor\": \"black\", \"backgroundColor\": \"white\", \"showBackground\": false});\n\tviewer_17517391908735352.addLabel(\"1.10\",{\"position\": {\"x\": 2.1313511314279303, \"y\": 0.7194407185822149, \"z\": -0.01067898176921}, \"fontSize\": 18, \"fontColor\": \"black\", \"backgroundColor\": \"white\", \"showBackground\": false});\n\tviewer_17517391908735352.addLabel(\"1.10\",{\"position\": {\"x\": 2.154307545208955, \"y\": -0.05173158322233, \"z\": -0.46283441082093}, \"fontSize\": 18, \"fontColor\": \"black\", \"backgroundColor\": \"white\", \"showBackground\": false});\n\tviewer_17517391908735352.addLabel(\"0.97\",{\"position\": {\"x\": 2.60303857462453, \"y\": -0.82569524300054, \"z\": 1.1364780181224101}, \"fontSize\": 18, \"fontColor\": \"black\", \"backgroundColor\": \"white\", \"showBackground\": false});\n\tviewer_17517391908735352.addLabel(\"1.44\",{\"position\": {\"x\": 2.4455902573816353, \"y\": 3.65808524728308, \"z\": -0.089291516514795}, \"fontSize\": 18, \"fontColor\": \"black\", \"backgroundColor\": \"white\", \"showBackground\": false});\n\tviewer_17517391908735352.addLabel(\"0.98\",{\"position\": {\"x\": 2.5991475839870697, \"y\": 2.893373936606445, \"z\": -0.60574104325319}, \"fontSize\": 18, \"fontColor\": \"black\", \"backgroundColor\": \"white\", \"showBackground\": false});\n\tviewer_17517391908735352.addLabel(\"0.97\",{\"position\": {\"x\": 2.31488130684854, \"y\": 4.445457709970565, \"z\": 0.43119288962068}, \"fontSize\": 18, \"fontColor\": \"black\", \"backgroundColor\": \"white\", \"showBackground\": false});\n\tviewer_17517391908735352.zoomTo();\nviewer_17517391908735352.render();\n});\n</script>",
      "text/html": [
       "<div id=\"3dmolviewer_17517391908735352\"  style=\"position: relative; width: 400px; height: 400px;\">\n",
       "        <p id=\"3dmolwarning_17517391908735352\" style=\"background-color:#ffcccc;color:black\">3Dmol.js failed to load for some reason.  Please check your browser console for error messages.<br></p>\n",
       "        </div>\n",
       "<script>\n",
       "\n",
       "var loadScriptAsync = function(uri){\n",
       "  return new Promise((resolve, reject) => {\n",
       "    //this is to ignore the existence of requirejs amd\n",
       "    var savedexports, savedmodule;\n",
       "    if (typeof exports !== 'undefined') savedexports = exports;\n",
       "    else exports = {}\n",
       "    if (typeof module !== 'undefined') savedmodule = module;\n",
       "    else module = {}\n",
       "\n",
       "    var tag = document.createElement('script');\n",
       "    tag.src = uri;\n",
       "    tag.async = true;\n",
       "    tag.onload = () => {\n",
       "        exports = savedexports;\n",
       "        module = savedmodule;\n",
       "        resolve();\n",
       "    };\n",
       "  var firstScriptTag = document.getElementsByTagName('script')[0];\n",
       "  firstScriptTag.parentNode.insertBefore(tag, firstScriptTag);\n",
       "});\n",
       "};\n",
       "\n",
       "if(typeof $3Dmolpromise === 'undefined') {\n",
       "$3Dmolpromise = null;\n",
       "  $3Dmolpromise = loadScriptAsync('https://cdn.jsdelivr.net/npm/3dmol@2.5.1/build/3Dmol-min.js');\n",
       "}\n",
       "\n",
       "var viewer_17517391908735352 = null;\n",
       "var warn = document.getElementById(\"3dmolwarning_17517391908735352\");\n",
       "if(warn) {\n",
       "    warn.parentNode.removeChild(warn);\n",
       "}\n",
       "$3Dmolpromise.then(function() {\n",
       "viewer_17517391908735352 = $3Dmol.createViewer(document.getElementById(\"3dmolviewer_17517391908735352\"),{backgroundColor:\"white\"});\n",
       "viewer_17517391908735352.zoomTo();\n",
       "\tviewer_17517391908735352.addModel(\"20\\n\\nC            -0.1096337711136100             0.2801406038667600             1.3748116092224500\\nC            -1.4841261745410499             0.2013292620456100             1.5073084360830600\\nC            -2.2728540949695302            -0.0736335624187900             0.4024966884909400\\nC            -1.6799120035226700            -0.2734235378101100            -0.8328026765620400\\nC            -0.3038975041519000            -0.2013762114028200            -0.9633125642820500\\nC             0.4924766882750300             0.0794691104498700             0.1390492777755900\\nC             1.9905407832340201             0.1854789624550400             0.0044375707585500\\nO             2.7024160513026998            -0.3539027455982200             1.1010303559988499\\nH             0.5145012596294700             0.4978092864836400             2.2289882366934499\\nH            -1.9411935557405899             0.3584391699899000             2.4729130859005100\\nH            -3.3461102949138000            -0.1324178479241700             0.5039423271033699\\nH            -2.2906030858189399            -0.4897902668306300            -1.6966561316519100\\nH             0.1550328101718800            -0.3621311966953600            -1.9280377839679499\\nH             2.2721614796218401             1.2534024747093899            -0.0257955342969700\\nH             2.3180743071838901            -0.2889421288997000            -0.9301063924004100\\nH             2.5036610979463600            -1.2974877404028600             1.1719256802459701\\nO             2.4240302137417999             2.9418014472241998            -0.1532504813441900\\nO             2.4671503010214701             4.3743690473419603            -0.0253325516854000\\nH             2.7742649542323399             2.8449464259886899            -1.0582316051621901\\nH             2.1626123126756100             4.5165463725991701             0.8877183309267600\\n\\n\",\"xyz\");\n",
       "\tviewer_17517391908735352.setBackgroundColor(\"white\");\n",
       "\tviewer_17517391908735352.setStyle({\"stick\": {\"radius\": 0.1}, \"sphere\": {\"scale\": 0.2}});\n",
       "\tviewer_17517391908735352.addLabel(\"C0\",{\"position\": {\"x\": -0.10963377111361, \"y\": 0.28014060386676, \"z\": 1.37481160922245}, \"fontSize\": 18, \"fontColor\": \"black\", \"backgroundColor\": \"white\", \"showBackground\": false, \"id\": \"ts guess_atom_0\"});\n",
       "\tviewer_17517391908735352.addLabel(\"C1\",{\"position\": {\"x\": -1.48412617454105, \"y\": 0.20132926204561, \"z\": 1.50730843608306}, \"fontSize\": 18, \"fontColor\": \"black\", \"backgroundColor\": \"white\", \"showBackground\": false, \"id\": \"ts guess_atom_1\"});\n",
       "\tviewer_17517391908735352.addLabel(\"C2\",{\"position\": {\"x\": -2.27285409496953, \"y\": -0.07363356241879, \"z\": 0.40249668849094}, \"fontSize\": 18, \"fontColor\": \"black\", \"backgroundColor\": \"white\", \"showBackground\": false, \"id\": \"ts guess_atom_2\"});\n",
       "\tviewer_17517391908735352.addLabel(\"C3\",{\"position\": {\"x\": -1.67991200352267, \"y\": -0.27342353781011, \"z\": -0.83280267656204}, \"fontSize\": 18, \"fontColor\": \"black\", \"backgroundColor\": \"white\", \"showBackground\": false, \"id\": \"ts guess_atom_3\"});\n",
       "\tviewer_17517391908735352.addLabel(\"C4\",{\"position\": {\"x\": -0.3038975041519, \"y\": -0.20137621140282, \"z\": -0.96331256428205}, \"fontSize\": 18, \"fontColor\": \"black\", \"backgroundColor\": \"white\", \"showBackground\": false, \"id\": \"ts guess_atom_4\"});\n",
       "\tviewer_17517391908735352.addLabel(\"C5\",{\"position\": {\"x\": 0.49247668827503, \"y\": 0.07946911044987, \"z\": 0.13904927777559}, \"fontSize\": 18, \"fontColor\": \"black\", \"backgroundColor\": \"white\", \"showBackground\": false, \"id\": \"ts guess_atom_5\"});\n",
       "\tviewer_17517391908735352.addLabel(\"C6\",{\"position\": {\"x\": 1.99054078323402, \"y\": 0.18547896245504, \"z\": 0.00443757075855}, \"fontSize\": 18, \"fontColor\": \"black\", \"backgroundColor\": \"white\", \"showBackground\": false, \"id\": \"ts guess_atom_6\"});\n",
       "\tviewer_17517391908735352.addLabel(\"O7\",{\"position\": {\"x\": 2.7024160513027, \"y\": -0.35390274559822, \"z\": 1.10103035599885}, \"fontSize\": 18, \"fontColor\": \"black\", \"backgroundColor\": \"white\", \"showBackground\": false, \"id\": \"ts guess_atom_7\"});\n",
       "\tviewer_17517391908735352.addLabel(\"H8\",{\"position\": {\"x\": 0.51450125962947, \"y\": 0.49780928648364, \"z\": 2.22898823669345}, \"fontSize\": 18, \"fontColor\": \"black\", \"backgroundColor\": \"white\", \"showBackground\": false, \"id\": \"ts guess_atom_8\"});\n",
       "\tviewer_17517391908735352.addLabel(\"H9\",{\"position\": {\"x\": -1.94119355574059, \"y\": 0.3584391699899, \"z\": 2.47291308590051}, \"fontSize\": 18, \"fontColor\": \"black\", \"backgroundColor\": \"white\", \"showBackground\": false, \"id\": \"ts guess_atom_9\"});\n",
       "\tviewer_17517391908735352.addLabel(\"H10\",{\"position\": {\"x\": -3.3461102949138, \"y\": -0.13241784792417, \"z\": 0.50394232710337}, \"fontSize\": 18, \"fontColor\": \"black\", \"backgroundColor\": \"white\", \"showBackground\": false, \"id\": \"ts guess_atom_10\"});\n",
       "\tviewer_17517391908735352.addLabel(\"H11\",{\"position\": {\"x\": -2.29060308581894, \"y\": -0.48979026683063, \"z\": -1.69665613165191}, \"fontSize\": 18, \"fontColor\": \"black\", \"backgroundColor\": \"white\", \"showBackground\": false, \"id\": \"ts guess_atom_11\"});\n",
       "\tviewer_17517391908735352.addLabel(\"H12\",{\"position\": {\"x\": 0.15503281017188, \"y\": -0.36213119669536, \"z\": -1.92803778396795}, \"fontSize\": 18, \"fontColor\": \"black\", \"backgroundColor\": \"white\", \"showBackground\": false, \"id\": \"ts guess_atom_12\"});\n",
       "\tviewer_17517391908735352.addLabel(\"H13\",{\"position\": {\"x\": 2.27216147962184, \"y\": 1.25340247470939, \"z\": -0.02579553429697}, \"fontSize\": 18, \"fontColor\": \"black\", \"backgroundColor\": \"white\", \"showBackground\": false, \"id\": \"ts guess_atom_13\"});\n",
       "\tviewer_17517391908735352.addLabel(\"H14\",{\"position\": {\"x\": 2.31807430718389, \"y\": -0.2889421288997, \"z\": -0.93010639240041}, \"fontSize\": 18, \"fontColor\": \"black\", \"backgroundColor\": \"white\", \"showBackground\": false, \"id\": \"ts guess_atom_14\"});\n",
       "\tviewer_17517391908735352.addLabel(\"H15\",{\"position\": {\"x\": 2.50366109794636, \"y\": -1.29748774040286, \"z\": 1.17192568024597}, \"fontSize\": 18, \"fontColor\": \"black\", \"backgroundColor\": \"white\", \"showBackground\": false, \"id\": \"ts guess_atom_15\"});\n",
       "\tviewer_17517391908735352.addLabel(\"O16\",{\"position\": {\"x\": 2.4240302137418, \"y\": 2.9418014472242, \"z\": -0.15325048134419}, \"fontSize\": 18, \"fontColor\": \"black\", \"backgroundColor\": \"white\", \"showBackground\": false, \"id\": \"ts guess_atom_16\"});\n",
       "\tviewer_17517391908735352.addLabel(\"O17\",{\"position\": {\"x\": 2.46715030102147, \"y\": 4.37436904734196, \"z\": -0.0253325516854}, \"fontSize\": 18, \"fontColor\": \"black\", \"backgroundColor\": \"white\", \"showBackground\": false, \"id\": \"ts guess_atom_17\"});\n",
       "\tviewer_17517391908735352.addLabel(\"H18\",{\"position\": {\"x\": 2.77426495423234, \"y\": 2.84494642598869, \"z\": -1.05823160516219}, \"fontSize\": 18, \"fontColor\": \"black\", \"backgroundColor\": \"white\", \"showBackground\": false, \"id\": \"ts guess_atom_18\"});\n",
       "\tviewer_17517391908735352.addLabel(\"H19\",{\"position\": {\"x\": 2.16261231267561, \"y\": 4.51654637259917, \"z\": 0.88771833092676}, \"fontSize\": 18, \"fontColor\": \"black\", \"backgroundColor\": \"white\", \"showBackground\": false, \"id\": \"ts guess_atom_19\"});\n",
       "\tviewer_17517391908735352.addLabel(\"1.38\",{\"position\": {\"x\": -0.7968799728273299, \"y\": 0.24073493295618498, \"z\": 1.441060022652755}, \"fontSize\": 18, \"fontColor\": \"black\", \"backgroundColor\": \"white\", \"showBackground\": false});\n",
       "\tviewer_17517391908735352.addLabel(\"1.39\",{\"position\": {\"x\": 0.19142145858071, \"y\": 0.17980485715831498, \"z\": 0.7569304434990201}, \"fontSize\": 18, \"fontColor\": \"black\", \"backgroundColor\": \"white\", \"showBackground\": false});\n",
       "\tviewer_17517391908735352.addLabel(\"1.08\",{\"position\": {\"x\": 0.20243374425793, \"y\": 0.3889749451752, \"z\": 1.80189992295795}, \"fontSize\": 18, \"fontColor\": \"black\", \"backgroundColor\": \"white\", \"showBackground\": false});\n",
       "\tviewer_17517391908735352.addLabel(\"1.39\",{\"position\": {\"x\": -1.87849013475529, \"y\": 0.06384784981340999, \"z\": 0.954902562287}, \"fontSize\": 18, \"fontColor\": \"black\", \"backgroundColor\": \"white\", \"showBackground\": false});\n",
       "\tviewer_17517391908735352.addLabel(\"1.08\",{\"position\": {\"x\": -1.7126598651408198, \"y\": 0.279884216017755, \"z\": 1.990110760991785}, \"fontSize\": 18, \"fontColor\": \"black\", \"backgroundColor\": \"white\", \"showBackground\": false});\n",
       "\tviewer_17517391908735352.addLabel(\"1.38\",{\"position\": {\"x\": -1.9763830492461, \"y\": -0.17352855011444998, \"z\": -0.21515299403555}, \"fontSize\": 18, \"fontColor\": \"black\", \"backgroundColor\": \"white\", \"showBackground\": false});\n",
       "\tviewer_17517391908735352.addLabel(\"1.08\",{\"position\": {\"x\": -2.809482194941665, \"y\": -0.10302570517147999, \"z\": 0.453219507797155}, \"fontSize\": 18, \"fontColor\": \"black\", \"backgroundColor\": \"white\", \"showBackground\": false});\n",
       "\tviewer_17517391908735352.addLabel(\"1.38\",{\"position\": {\"x\": -0.9919047538372849, \"y\": -0.237399874606465, \"z\": -0.898057620422045}, \"fontSize\": 18, \"fontColor\": \"black\", \"backgroundColor\": \"white\", \"showBackground\": false});\n",
       "\tviewer_17517391908735352.addLabel(\"1.08\",{\"position\": {\"x\": -1.985257544670805, \"y\": -0.38160690232037, \"z\": -1.264729404106975}, \"fontSize\": 18, \"fontColor\": \"black\", \"backgroundColor\": \"white\", \"showBackground\": false});\n",
       "\tviewer_17517391908735352.addLabel(\"1.39\",{\"position\": {\"x\": 0.09428959206156501, \"y\": -0.060953550476475, \"z\": -0.41213164325323004}, \"fontSize\": 18, \"fontColor\": \"black\", \"backgroundColor\": \"white\", \"showBackground\": false});\n",
       "\tviewer_17517391908735352.addLabel(\"1.08\",{\"position\": {\"x\": -0.07443234699000999, \"y\": -0.28175370404909, \"z\": -1.445675174125}, \"fontSize\": 18, \"fontColor\": \"black\", \"backgroundColor\": \"white\", \"showBackground\": false});\n",
       "\tviewer_17517391908735352.addLabel(\"1.51\",{\"position\": {\"x\": 1.241508735754525, \"y\": 0.132474036452455, \"z\": 0.07174342426707}, \"fontSize\": 18, \"fontColor\": \"black\", \"backgroundColor\": \"white\", \"showBackground\": false});\n",
       "\tviewer_17517391908735352.addLabel(\"1.41\",{\"position\": {\"x\": 2.3464784172683597, \"y\": -0.08421189157159, \"z\": 0.5527339633787}, \"fontSize\": 18, \"fontColor\": \"black\", \"backgroundColor\": \"white\", \"showBackground\": false});\n",
       "\tviewer_17517391908735352.addLabel(\"1.10\",{\"position\": {\"x\": 2.1313511314279303, \"y\": 0.7194407185822149, \"z\": -0.01067898176921}, \"fontSize\": 18, \"fontColor\": \"black\", \"backgroundColor\": \"white\", \"showBackground\": false});\n",
       "\tviewer_17517391908735352.addLabel(\"1.10\",{\"position\": {\"x\": 2.154307545208955, \"y\": -0.05173158322233, \"z\": -0.46283441082093}, \"fontSize\": 18, \"fontColor\": \"black\", \"backgroundColor\": \"white\", \"showBackground\": false});\n",
       "\tviewer_17517391908735352.addLabel(\"0.97\",{\"position\": {\"x\": 2.60303857462453, \"y\": -0.82569524300054, \"z\": 1.1364780181224101}, \"fontSize\": 18, \"fontColor\": \"black\", \"backgroundColor\": \"white\", \"showBackground\": false});\n",
       "\tviewer_17517391908735352.addLabel(\"1.44\",{\"position\": {\"x\": 2.4455902573816353, \"y\": 3.65808524728308, \"z\": -0.089291516514795}, \"fontSize\": 18, \"fontColor\": \"black\", \"backgroundColor\": \"white\", \"showBackground\": false});\n",
       "\tviewer_17517391908735352.addLabel(\"0.98\",{\"position\": {\"x\": 2.5991475839870697, \"y\": 2.893373936606445, \"z\": -0.60574104325319}, \"fontSize\": 18, \"fontColor\": \"black\", \"backgroundColor\": \"white\", \"showBackground\": false});\n",
       "\tviewer_17517391908735352.addLabel(\"0.97\",{\"position\": {\"x\": 2.31488130684854, \"y\": 4.445457709970565, \"z\": 0.43119288962068}, \"fontSize\": 18, \"fontColor\": \"black\", \"backgroundColor\": \"white\", \"showBackground\": false});\n",
       "\tviewer_17517391908735352.zoomTo();\n",
       "viewer_17517391908735352.render();\n",
       "});\n",
       "</script>"
      ]
     },
     "metadata": {},
     "output_type": "display_data"
    }
   ],
   "source": [
    "\n",
    "show_structure(\"/home/madsr2d2/chem/comp_chem/BnOH_plus_H2O2/xtb/ts/guess/BnOH_H2O2_TS_guess.xyz\", title=\"TS guess\")"
   ]
  },
  {
   "cell_type": "markdown",
   "metadata": {},
   "source": [
    "#### TS Scan"
   ]
  },
  {
   "cell_type": "code",
   "execution_count": 8,
   "metadata": {},
   "outputs": [],
   "source": [
    "# Scan dir\n",
    "ts_dir = xtb_dir / \"ts\"\n",
    "ts_scan_dir  = ts_dir / \"scan_ts\""
   ]
  },
  {
   "cell_type": "code",
   "execution_count": null,
   "metadata": {},
   "outputs": [],
   "source": [
    "\n",
    "geom_block = BlockGeom()\n",
    "scan = BlockGeom.scan_str(\"B 13 16 = 1.7, 0.96, 20\")\n",
    "sk_list = [\"xtb\", \"alpb(water)\", \"scanTS\" , \"slowconv\", \"TightSCF\"]\n",
    "geom_block.scan = scan\n",
    "# geom_block.fullscan = True\n",
    "geom_block.maxiter = 1000\n",
    "# geom_block.recalc_hess = 100\n",
    "# # geom_block.calc_hess = True\n",
    "geom_block.cartfallback = True\n",
    "\n",
    "geom_path = \"/home/madsr2d2/chem/comp_chem/BnOH_plus_H2O2/xtb/ts/guess/BnOH_H2O2_TS_guess.xyz\""
   ]
  },
  {
   "cell_type": "code",
   "execution_count": 10,
   "metadata": {},
   "outputs": [
    {
     "data": {
      "text/markdown": [
       "### BnOH_H2O2_ts_scan"
      ],
      "text/plain": [
       "<IPython.core.display.Markdown object>"
      ]
     },
     "metadata": {},
     "output_type": "display_data"
    },
    {
     "data": {
      "application/3dmoljs_load.v0": "<div id=\"3dmolviewer_17517481079657595\"  style=\"position: relative; width: 400px; height: 400px;\">\n        <p id=\"3dmolwarning_17517481079657595\" style=\"background-color:#ffcccc;color:black\">3Dmol.js failed to load for some reason.  Please check your browser console for error messages.<br></p>\n        </div>\n<script>\n\nvar loadScriptAsync = function(uri){\n  return new Promise((resolve, reject) => {\n    //this is to ignore the existence of requirejs amd\n    var savedexports, savedmodule;\n    if (typeof exports !== 'undefined') savedexports = exports;\n    else exports = {}\n    if (typeof module !== 'undefined') savedmodule = module;\n    else module = {}\n\n    var tag = document.createElement('script');\n    tag.src = uri;\n    tag.async = true;\n    tag.onload = () => {\n        exports = savedexports;\n        module = savedmodule;\n        resolve();\n    };\n  var firstScriptTag = document.getElementsByTagName('script')[0];\n  firstScriptTag.parentNode.insertBefore(tag, firstScriptTag);\n});\n};\n\nif(typeof $3Dmolpromise === 'undefined') {\n$3Dmolpromise = null;\n  $3Dmolpromise = loadScriptAsync('https://cdn.jsdelivr.net/npm/3dmol@2.5.1/build/3Dmol-min.js');\n}\n\nvar viewer_17517481079657595 = null;\nvar warn = document.getElementById(\"3dmolwarning_17517481079657595\");\nif(warn) {\n    warn.parentNode.removeChild(warn);\n}\n$3Dmolpromise.then(function() {\nviewer_17517481079657595 = $3Dmol.createViewer(document.getElementById(\"3dmolviewer_17517481079657595\"),{backgroundColor:\"white\"});\nviewer_17517481079657595.zoomTo();\n\tviewer_17517481079657595.addModel(\"20\\n\\nC            -0.1096337711136100             0.2801406038667600             1.3748116092224500\\nC            -1.4841261745410499             0.2013292620456100             1.5073084360830600\\nC            -2.2728540949695302            -0.0736335624187900             0.4024966884909400\\nC            -1.6799120035226700            -0.2734235378101100            -0.8328026765620400\\nC            -0.3038975041519000            -0.2013762114028200            -0.9633125642820500\\nC             0.4924766882750300             0.0794691104498700             0.1390492777755900\\nC             1.9905407832340201             0.1854789624550400             0.0044375707585500\\nO             2.7024160513026998            -0.3539027455982200             1.1010303559988499\\nH             0.5145012596294700             0.4978092864836400             2.2289882366934499\\nH            -1.9411935557405899             0.3584391699899000             2.4729130859005100\\nH            -3.3461102949138000            -0.1324178479241700             0.5039423271033699\\nH            -2.2906030858189399            -0.4897902668306300            -1.6966561316519100\\nH             0.1550328101718800            -0.3621311966953600            -1.9280377839679499\\nH             2.2721614796218401             1.2534024747093899            -0.0257955342969700\\nH             2.3180743071838901            -0.2889421288997000            -0.9301063924004100\\nH             2.5036610979463600            -1.2974877404028600             1.1719256802459701\\nO             2.4240302137417999             2.9418014472241998            -0.1532504813441900\\nO             2.4671503010214701             4.3743690473419603            -0.0253325516854000\\nH             2.7742649542323399             2.8449464259886899            -1.0582316051621901\\nH             2.1626123126756100             4.5165463725991701             0.8877183309267600\\n\\n\",\"xyz\");\n\tviewer_17517481079657595.setBackgroundColor(\"white\");\n\tviewer_17517481079657595.setStyle({\"stick\": {\"radius\": 0.1}, \"sphere\": {\"scale\": 0.2}});\n\tviewer_17517481079657595.addLabel(\"C0\",{\"position\": {\"x\": -0.10963377111361, \"y\": 0.28014060386676, \"z\": 1.37481160922245}, \"fontSize\": 18, \"fontColor\": \"black\", \"backgroundColor\": \"white\", \"showBackground\": false, \"id\": \"bnoh_h2o2_ts_scan_atom_0\"});\n\tviewer_17517481079657595.addLabel(\"C1\",{\"position\": {\"x\": -1.48412617454105, \"y\": 0.20132926204561, \"z\": 1.50730843608306}, \"fontSize\": 18, \"fontColor\": \"black\", \"backgroundColor\": \"white\", \"showBackground\": false, \"id\": \"bnoh_h2o2_ts_scan_atom_1\"});\n\tviewer_17517481079657595.addLabel(\"C2\",{\"position\": {\"x\": -2.27285409496953, \"y\": -0.07363356241879, \"z\": 0.40249668849094}, \"fontSize\": 18, \"fontColor\": \"black\", \"backgroundColor\": \"white\", \"showBackground\": false, \"id\": \"bnoh_h2o2_ts_scan_atom_2\"});\n\tviewer_17517481079657595.addLabel(\"C3\",{\"position\": {\"x\": -1.67991200352267, \"y\": -0.27342353781011, \"z\": -0.83280267656204}, \"fontSize\": 18, \"fontColor\": \"black\", \"backgroundColor\": \"white\", \"showBackground\": false, \"id\": \"bnoh_h2o2_ts_scan_atom_3\"});\n\tviewer_17517481079657595.addLabel(\"C4\",{\"position\": {\"x\": -0.3038975041519, \"y\": -0.20137621140282, \"z\": -0.96331256428205}, \"fontSize\": 18, \"fontColor\": \"black\", \"backgroundColor\": \"white\", \"showBackground\": false, \"id\": \"bnoh_h2o2_ts_scan_atom_4\"});\n\tviewer_17517481079657595.addLabel(\"C5\",{\"position\": {\"x\": 0.49247668827503, \"y\": 0.07946911044987, \"z\": 0.13904927777559}, \"fontSize\": 18, \"fontColor\": \"black\", \"backgroundColor\": \"white\", \"showBackground\": false, \"id\": \"bnoh_h2o2_ts_scan_atom_5\"});\n\tviewer_17517481079657595.addLabel(\"C6\",{\"position\": {\"x\": 1.99054078323402, \"y\": 0.18547896245504, \"z\": 0.00443757075855}, \"fontSize\": 18, \"fontColor\": \"black\", \"backgroundColor\": \"white\", \"showBackground\": false, \"id\": \"bnoh_h2o2_ts_scan_atom_6\"});\n\tviewer_17517481079657595.addLabel(\"O7\",{\"position\": {\"x\": 2.7024160513027, \"y\": -0.35390274559822, \"z\": 1.10103035599885}, \"fontSize\": 18, \"fontColor\": \"black\", \"backgroundColor\": \"white\", \"showBackground\": false, \"id\": \"bnoh_h2o2_ts_scan_atom_7\"});\n\tviewer_17517481079657595.addLabel(\"H8\",{\"position\": {\"x\": 0.51450125962947, \"y\": 0.49780928648364, \"z\": 2.22898823669345}, \"fontSize\": 18, \"fontColor\": \"black\", \"backgroundColor\": \"white\", \"showBackground\": false, \"id\": \"bnoh_h2o2_ts_scan_atom_8\"});\n\tviewer_17517481079657595.addLabel(\"H9\",{\"position\": {\"x\": -1.94119355574059, \"y\": 0.3584391699899, \"z\": 2.47291308590051}, \"fontSize\": 18, \"fontColor\": \"black\", \"backgroundColor\": \"white\", \"showBackground\": false, \"id\": \"bnoh_h2o2_ts_scan_atom_9\"});\n\tviewer_17517481079657595.addLabel(\"H10\",{\"position\": {\"x\": -3.3461102949138, \"y\": -0.13241784792417, \"z\": 0.50394232710337}, \"fontSize\": 18, \"fontColor\": \"black\", \"backgroundColor\": \"white\", \"showBackground\": false, \"id\": \"bnoh_h2o2_ts_scan_atom_10\"});\n\tviewer_17517481079657595.addLabel(\"H11\",{\"position\": {\"x\": -2.29060308581894, \"y\": -0.48979026683063, \"z\": -1.69665613165191}, \"fontSize\": 18, \"fontColor\": \"black\", \"backgroundColor\": \"white\", \"showBackground\": false, \"id\": \"bnoh_h2o2_ts_scan_atom_11\"});\n\tviewer_17517481079657595.addLabel(\"H12\",{\"position\": {\"x\": 0.15503281017188, \"y\": -0.36213119669536, \"z\": -1.92803778396795}, \"fontSize\": 18, \"fontColor\": \"black\", \"backgroundColor\": \"white\", \"showBackground\": false, \"id\": \"bnoh_h2o2_ts_scan_atom_12\"});\n\tviewer_17517481079657595.addLabel(\"H13\",{\"position\": {\"x\": 2.27216147962184, \"y\": 1.25340247470939, \"z\": -0.02579553429697}, \"fontSize\": 18, \"fontColor\": \"black\", \"backgroundColor\": \"white\", \"showBackground\": false, \"id\": \"bnoh_h2o2_ts_scan_atom_13\"});\n\tviewer_17517481079657595.addLabel(\"H14\",{\"position\": {\"x\": 2.31807430718389, \"y\": -0.2889421288997, \"z\": -0.93010639240041}, \"fontSize\": 18, \"fontColor\": \"black\", \"backgroundColor\": \"white\", \"showBackground\": false, \"id\": \"bnoh_h2o2_ts_scan_atom_14\"});\n\tviewer_17517481079657595.addLabel(\"H15\",{\"position\": {\"x\": 2.50366109794636, \"y\": -1.29748774040286, \"z\": 1.17192568024597}, \"fontSize\": 18, \"fontColor\": \"black\", \"backgroundColor\": \"white\", \"showBackground\": false, \"id\": \"bnoh_h2o2_ts_scan_atom_15\"});\n\tviewer_17517481079657595.addLabel(\"O16\",{\"position\": {\"x\": 2.4240302137418, \"y\": 2.9418014472242, \"z\": -0.15325048134419}, \"fontSize\": 18, \"fontColor\": \"black\", \"backgroundColor\": \"white\", \"showBackground\": false, \"id\": \"bnoh_h2o2_ts_scan_atom_16\"});\n\tviewer_17517481079657595.addLabel(\"O17\",{\"position\": {\"x\": 2.46715030102147, \"y\": 4.37436904734196, \"z\": -0.0253325516854}, \"fontSize\": 18, \"fontColor\": \"black\", \"backgroundColor\": \"white\", \"showBackground\": false, \"id\": \"bnoh_h2o2_ts_scan_atom_17\"});\n\tviewer_17517481079657595.addLabel(\"H18\",{\"position\": {\"x\": 2.77426495423234, \"y\": 2.84494642598869, \"z\": -1.05823160516219}, \"fontSize\": 18, \"fontColor\": \"black\", \"backgroundColor\": \"white\", \"showBackground\": false, \"id\": \"bnoh_h2o2_ts_scan_atom_18\"});\n\tviewer_17517481079657595.addLabel(\"H19\",{\"position\": {\"x\": 2.16261231267561, \"y\": 4.51654637259917, \"z\": 0.88771833092676}, \"fontSize\": 18, \"fontColor\": \"black\", \"backgroundColor\": \"white\", \"showBackground\": false, \"id\": \"bnoh_h2o2_ts_scan_atom_19\"});\n\tviewer_17517481079657595.addLabel(\"1.38\",{\"position\": {\"x\": -0.7968799728273299, \"y\": 0.24073493295618498, \"z\": 1.441060022652755}, \"fontSize\": 18, \"fontColor\": \"black\", \"backgroundColor\": \"white\", \"showBackground\": false});\n\tviewer_17517481079657595.addLabel(\"1.39\",{\"position\": {\"x\": 0.19142145858071, \"y\": 0.17980485715831498, \"z\": 0.7569304434990201}, \"fontSize\": 18, \"fontColor\": \"black\", \"backgroundColor\": \"white\", \"showBackground\": false});\n\tviewer_17517481079657595.addLabel(\"1.08\",{\"position\": {\"x\": 0.20243374425793, \"y\": 0.3889749451752, \"z\": 1.80189992295795}, \"fontSize\": 18, \"fontColor\": \"black\", \"backgroundColor\": \"white\", \"showBackground\": false});\n\tviewer_17517481079657595.addLabel(\"1.39\",{\"position\": {\"x\": -1.87849013475529, \"y\": 0.06384784981340999, \"z\": 0.954902562287}, \"fontSize\": 18, \"fontColor\": \"black\", \"backgroundColor\": \"white\", \"showBackground\": false});\n\tviewer_17517481079657595.addLabel(\"1.08\",{\"position\": {\"x\": -1.7126598651408198, \"y\": 0.279884216017755, \"z\": 1.990110760991785}, \"fontSize\": 18, \"fontColor\": \"black\", \"backgroundColor\": \"white\", \"showBackground\": false});\n\tviewer_17517481079657595.addLabel(\"1.38\",{\"position\": {\"x\": -1.9763830492461, \"y\": -0.17352855011444998, \"z\": -0.21515299403555}, \"fontSize\": 18, \"fontColor\": \"black\", \"backgroundColor\": \"white\", \"showBackground\": false});\n\tviewer_17517481079657595.addLabel(\"1.08\",{\"position\": {\"x\": -2.809482194941665, \"y\": -0.10302570517147999, \"z\": 0.453219507797155}, \"fontSize\": 18, \"fontColor\": \"black\", \"backgroundColor\": \"white\", \"showBackground\": false});\n\tviewer_17517481079657595.addLabel(\"1.38\",{\"position\": {\"x\": -0.9919047538372849, \"y\": -0.237399874606465, \"z\": -0.898057620422045}, \"fontSize\": 18, \"fontColor\": \"black\", \"backgroundColor\": \"white\", \"showBackground\": false});\n\tviewer_17517481079657595.addLabel(\"1.08\",{\"position\": {\"x\": -1.985257544670805, \"y\": -0.38160690232037, \"z\": -1.264729404106975}, \"fontSize\": 18, \"fontColor\": \"black\", \"backgroundColor\": \"white\", \"showBackground\": false});\n\tviewer_17517481079657595.addLabel(\"1.39\",{\"position\": {\"x\": 0.09428959206156501, \"y\": -0.060953550476475, \"z\": -0.41213164325323004}, \"fontSize\": 18, \"fontColor\": \"black\", \"backgroundColor\": \"white\", \"showBackground\": false});\n\tviewer_17517481079657595.addLabel(\"1.08\",{\"position\": {\"x\": -0.07443234699000999, \"y\": -0.28175370404909, \"z\": -1.445675174125}, \"fontSize\": 18, \"fontColor\": \"black\", \"backgroundColor\": \"white\", \"showBackground\": false});\n\tviewer_17517481079657595.addLabel(\"1.51\",{\"position\": {\"x\": 1.241508735754525, \"y\": 0.132474036452455, \"z\": 0.07174342426707}, \"fontSize\": 18, \"fontColor\": \"black\", \"backgroundColor\": \"white\", \"showBackground\": false});\n\tviewer_17517481079657595.addLabel(\"1.41\",{\"position\": {\"x\": 2.3464784172683597, \"y\": -0.08421189157159, \"z\": 0.5527339633787}, \"fontSize\": 18, \"fontColor\": \"black\", \"backgroundColor\": \"white\", \"showBackground\": false});\n\tviewer_17517481079657595.addLabel(\"1.10\",{\"position\": {\"x\": 2.1313511314279303, \"y\": 0.7194407185822149, \"z\": -0.01067898176921}, \"fontSize\": 18, \"fontColor\": \"black\", \"backgroundColor\": \"white\", \"showBackground\": false});\n\tviewer_17517481079657595.addLabel(\"1.10\",{\"position\": {\"x\": 2.154307545208955, \"y\": -0.05173158322233, \"z\": -0.46283441082093}, \"fontSize\": 18, \"fontColor\": \"black\", \"backgroundColor\": \"white\", \"showBackground\": false});\n\tviewer_17517481079657595.addLabel(\"0.97\",{\"position\": {\"x\": 2.60303857462453, \"y\": -0.82569524300054, \"z\": 1.1364780181224101}, \"fontSize\": 18, \"fontColor\": \"black\", \"backgroundColor\": \"white\", \"showBackground\": false});\n\tviewer_17517481079657595.addLabel(\"1.44\",{\"position\": {\"x\": 2.4455902573816353, \"y\": 3.65808524728308, \"z\": -0.089291516514795}, \"fontSize\": 18, \"fontColor\": \"black\", \"backgroundColor\": \"white\", \"showBackground\": false});\n\tviewer_17517481079657595.addLabel(\"0.98\",{\"position\": {\"x\": 2.5991475839870697, \"y\": 2.893373936606445, \"z\": -0.60574104325319}, \"fontSize\": 18, \"fontColor\": \"black\", \"backgroundColor\": \"white\", \"showBackground\": false});\n\tviewer_17517481079657595.addLabel(\"0.97\",{\"position\": {\"x\": 2.31488130684854, \"y\": 4.445457709970565, \"z\": 0.43119288962068}, \"fontSize\": 18, \"fontColor\": \"black\", \"backgroundColor\": \"white\", \"showBackground\": false});\n\tviewer_17517481079657595.zoomTo();\nviewer_17517481079657595.render();\n});\n</script>",
      "text/html": [
       "<div id=\"3dmolviewer_17517481079657595\"  style=\"position: relative; width: 400px; height: 400px;\">\n",
       "        <p id=\"3dmolwarning_17517481079657595\" style=\"background-color:#ffcccc;color:black\">3Dmol.js failed to load for some reason.  Please check your browser console for error messages.<br></p>\n",
       "        </div>\n",
       "<script>\n",
       "\n",
       "var loadScriptAsync = function(uri){\n",
       "  return new Promise((resolve, reject) => {\n",
       "    //this is to ignore the existence of requirejs amd\n",
       "    var savedexports, savedmodule;\n",
       "    if (typeof exports !== 'undefined') savedexports = exports;\n",
       "    else exports = {}\n",
       "    if (typeof module !== 'undefined') savedmodule = module;\n",
       "    else module = {}\n",
       "\n",
       "    var tag = document.createElement('script');\n",
       "    tag.src = uri;\n",
       "    tag.async = true;\n",
       "    tag.onload = () => {\n",
       "        exports = savedexports;\n",
       "        module = savedmodule;\n",
       "        resolve();\n",
       "    };\n",
       "  var firstScriptTag = document.getElementsByTagName('script')[0];\n",
       "  firstScriptTag.parentNode.insertBefore(tag, firstScriptTag);\n",
       "});\n",
       "};\n",
       "\n",
       "if(typeof $3Dmolpromise === 'undefined') {\n",
       "$3Dmolpromise = null;\n",
       "  $3Dmolpromise = loadScriptAsync('https://cdn.jsdelivr.net/npm/3dmol@2.5.1/build/3Dmol-min.js');\n",
       "}\n",
       "\n",
       "var viewer_17517481079657595 = null;\n",
       "var warn = document.getElementById(\"3dmolwarning_17517481079657595\");\n",
       "if(warn) {\n",
       "    warn.parentNode.removeChild(warn);\n",
       "}\n",
       "$3Dmolpromise.then(function() {\n",
       "viewer_17517481079657595 = $3Dmol.createViewer(document.getElementById(\"3dmolviewer_17517481079657595\"),{backgroundColor:\"white\"});\n",
       "viewer_17517481079657595.zoomTo();\n",
       "\tviewer_17517481079657595.addModel(\"20\\n\\nC            -0.1096337711136100             0.2801406038667600             1.3748116092224500\\nC            -1.4841261745410499             0.2013292620456100             1.5073084360830600\\nC            -2.2728540949695302            -0.0736335624187900             0.4024966884909400\\nC            -1.6799120035226700            -0.2734235378101100            -0.8328026765620400\\nC            -0.3038975041519000            -0.2013762114028200            -0.9633125642820500\\nC             0.4924766882750300             0.0794691104498700             0.1390492777755900\\nC             1.9905407832340201             0.1854789624550400             0.0044375707585500\\nO             2.7024160513026998            -0.3539027455982200             1.1010303559988499\\nH             0.5145012596294700             0.4978092864836400             2.2289882366934499\\nH            -1.9411935557405899             0.3584391699899000             2.4729130859005100\\nH            -3.3461102949138000            -0.1324178479241700             0.5039423271033699\\nH            -2.2906030858189399            -0.4897902668306300            -1.6966561316519100\\nH             0.1550328101718800            -0.3621311966953600            -1.9280377839679499\\nH             2.2721614796218401             1.2534024747093899            -0.0257955342969700\\nH             2.3180743071838901            -0.2889421288997000            -0.9301063924004100\\nH             2.5036610979463600            -1.2974877404028600             1.1719256802459701\\nO             2.4240302137417999             2.9418014472241998            -0.1532504813441900\\nO             2.4671503010214701             4.3743690473419603            -0.0253325516854000\\nH             2.7742649542323399             2.8449464259886899            -1.0582316051621901\\nH             2.1626123126756100             4.5165463725991701             0.8877183309267600\\n\\n\",\"xyz\");\n",
       "\tviewer_17517481079657595.setBackgroundColor(\"white\");\n",
       "\tviewer_17517481079657595.setStyle({\"stick\": {\"radius\": 0.1}, \"sphere\": {\"scale\": 0.2}});\n",
       "\tviewer_17517481079657595.addLabel(\"C0\",{\"position\": {\"x\": -0.10963377111361, \"y\": 0.28014060386676, \"z\": 1.37481160922245}, \"fontSize\": 18, \"fontColor\": \"black\", \"backgroundColor\": \"white\", \"showBackground\": false, \"id\": \"bnoh_h2o2_ts_scan_atom_0\"});\n",
       "\tviewer_17517481079657595.addLabel(\"C1\",{\"position\": {\"x\": -1.48412617454105, \"y\": 0.20132926204561, \"z\": 1.50730843608306}, \"fontSize\": 18, \"fontColor\": \"black\", \"backgroundColor\": \"white\", \"showBackground\": false, \"id\": \"bnoh_h2o2_ts_scan_atom_1\"});\n",
       "\tviewer_17517481079657595.addLabel(\"C2\",{\"position\": {\"x\": -2.27285409496953, \"y\": -0.07363356241879, \"z\": 0.40249668849094}, \"fontSize\": 18, \"fontColor\": \"black\", \"backgroundColor\": \"white\", \"showBackground\": false, \"id\": \"bnoh_h2o2_ts_scan_atom_2\"});\n",
       "\tviewer_17517481079657595.addLabel(\"C3\",{\"position\": {\"x\": -1.67991200352267, \"y\": -0.27342353781011, \"z\": -0.83280267656204}, \"fontSize\": 18, \"fontColor\": \"black\", \"backgroundColor\": \"white\", \"showBackground\": false, \"id\": \"bnoh_h2o2_ts_scan_atom_3\"});\n",
       "\tviewer_17517481079657595.addLabel(\"C4\",{\"position\": {\"x\": -0.3038975041519, \"y\": -0.20137621140282, \"z\": -0.96331256428205}, \"fontSize\": 18, \"fontColor\": \"black\", \"backgroundColor\": \"white\", \"showBackground\": false, \"id\": \"bnoh_h2o2_ts_scan_atom_4\"});\n",
       "\tviewer_17517481079657595.addLabel(\"C5\",{\"position\": {\"x\": 0.49247668827503, \"y\": 0.07946911044987, \"z\": 0.13904927777559}, \"fontSize\": 18, \"fontColor\": \"black\", \"backgroundColor\": \"white\", \"showBackground\": false, \"id\": \"bnoh_h2o2_ts_scan_atom_5\"});\n",
       "\tviewer_17517481079657595.addLabel(\"C6\",{\"position\": {\"x\": 1.99054078323402, \"y\": 0.18547896245504, \"z\": 0.00443757075855}, \"fontSize\": 18, \"fontColor\": \"black\", \"backgroundColor\": \"white\", \"showBackground\": false, \"id\": \"bnoh_h2o2_ts_scan_atom_6\"});\n",
       "\tviewer_17517481079657595.addLabel(\"O7\",{\"position\": {\"x\": 2.7024160513027, \"y\": -0.35390274559822, \"z\": 1.10103035599885}, \"fontSize\": 18, \"fontColor\": \"black\", \"backgroundColor\": \"white\", \"showBackground\": false, \"id\": \"bnoh_h2o2_ts_scan_atom_7\"});\n",
       "\tviewer_17517481079657595.addLabel(\"H8\",{\"position\": {\"x\": 0.51450125962947, \"y\": 0.49780928648364, \"z\": 2.22898823669345}, \"fontSize\": 18, \"fontColor\": \"black\", \"backgroundColor\": \"white\", \"showBackground\": false, \"id\": \"bnoh_h2o2_ts_scan_atom_8\"});\n",
       "\tviewer_17517481079657595.addLabel(\"H9\",{\"position\": {\"x\": -1.94119355574059, \"y\": 0.3584391699899, \"z\": 2.47291308590051}, \"fontSize\": 18, \"fontColor\": \"black\", \"backgroundColor\": \"white\", \"showBackground\": false, \"id\": \"bnoh_h2o2_ts_scan_atom_9\"});\n",
       "\tviewer_17517481079657595.addLabel(\"H10\",{\"position\": {\"x\": -3.3461102949138, \"y\": -0.13241784792417, \"z\": 0.50394232710337}, \"fontSize\": 18, \"fontColor\": \"black\", \"backgroundColor\": \"white\", \"showBackground\": false, \"id\": \"bnoh_h2o2_ts_scan_atom_10\"});\n",
       "\tviewer_17517481079657595.addLabel(\"H11\",{\"position\": {\"x\": -2.29060308581894, \"y\": -0.48979026683063, \"z\": -1.69665613165191}, \"fontSize\": 18, \"fontColor\": \"black\", \"backgroundColor\": \"white\", \"showBackground\": false, \"id\": \"bnoh_h2o2_ts_scan_atom_11\"});\n",
       "\tviewer_17517481079657595.addLabel(\"H12\",{\"position\": {\"x\": 0.15503281017188, \"y\": -0.36213119669536, \"z\": -1.92803778396795}, \"fontSize\": 18, \"fontColor\": \"black\", \"backgroundColor\": \"white\", \"showBackground\": false, \"id\": \"bnoh_h2o2_ts_scan_atom_12\"});\n",
       "\tviewer_17517481079657595.addLabel(\"H13\",{\"position\": {\"x\": 2.27216147962184, \"y\": 1.25340247470939, \"z\": -0.02579553429697}, \"fontSize\": 18, \"fontColor\": \"black\", \"backgroundColor\": \"white\", \"showBackground\": false, \"id\": \"bnoh_h2o2_ts_scan_atom_13\"});\n",
       "\tviewer_17517481079657595.addLabel(\"H14\",{\"position\": {\"x\": 2.31807430718389, \"y\": -0.2889421288997, \"z\": -0.93010639240041}, \"fontSize\": 18, \"fontColor\": \"black\", \"backgroundColor\": \"white\", \"showBackground\": false, \"id\": \"bnoh_h2o2_ts_scan_atom_14\"});\n",
       "\tviewer_17517481079657595.addLabel(\"H15\",{\"position\": {\"x\": 2.50366109794636, \"y\": -1.29748774040286, \"z\": 1.17192568024597}, \"fontSize\": 18, \"fontColor\": \"black\", \"backgroundColor\": \"white\", \"showBackground\": false, \"id\": \"bnoh_h2o2_ts_scan_atom_15\"});\n",
       "\tviewer_17517481079657595.addLabel(\"O16\",{\"position\": {\"x\": 2.4240302137418, \"y\": 2.9418014472242, \"z\": -0.15325048134419}, \"fontSize\": 18, \"fontColor\": \"black\", \"backgroundColor\": \"white\", \"showBackground\": false, \"id\": \"bnoh_h2o2_ts_scan_atom_16\"});\n",
       "\tviewer_17517481079657595.addLabel(\"O17\",{\"position\": {\"x\": 2.46715030102147, \"y\": 4.37436904734196, \"z\": -0.0253325516854}, \"fontSize\": 18, \"fontColor\": \"black\", \"backgroundColor\": \"white\", \"showBackground\": false, \"id\": \"bnoh_h2o2_ts_scan_atom_17\"});\n",
       "\tviewer_17517481079657595.addLabel(\"H18\",{\"position\": {\"x\": 2.77426495423234, \"y\": 2.84494642598869, \"z\": -1.05823160516219}, \"fontSize\": 18, \"fontColor\": \"black\", \"backgroundColor\": \"white\", \"showBackground\": false, \"id\": \"bnoh_h2o2_ts_scan_atom_18\"});\n",
       "\tviewer_17517481079657595.addLabel(\"H19\",{\"position\": {\"x\": 2.16261231267561, \"y\": 4.51654637259917, \"z\": 0.88771833092676}, \"fontSize\": 18, \"fontColor\": \"black\", \"backgroundColor\": \"white\", \"showBackground\": false, \"id\": \"bnoh_h2o2_ts_scan_atom_19\"});\n",
       "\tviewer_17517481079657595.addLabel(\"1.38\",{\"position\": {\"x\": -0.7968799728273299, \"y\": 0.24073493295618498, \"z\": 1.441060022652755}, \"fontSize\": 18, \"fontColor\": \"black\", \"backgroundColor\": \"white\", \"showBackground\": false});\n",
       "\tviewer_17517481079657595.addLabel(\"1.39\",{\"position\": {\"x\": 0.19142145858071, \"y\": 0.17980485715831498, \"z\": 0.7569304434990201}, \"fontSize\": 18, \"fontColor\": \"black\", \"backgroundColor\": \"white\", \"showBackground\": false});\n",
       "\tviewer_17517481079657595.addLabel(\"1.08\",{\"position\": {\"x\": 0.20243374425793, \"y\": 0.3889749451752, \"z\": 1.80189992295795}, \"fontSize\": 18, \"fontColor\": \"black\", \"backgroundColor\": \"white\", \"showBackground\": false});\n",
       "\tviewer_17517481079657595.addLabel(\"1.39\",{\"position\": {\"x\": -1.87849013475529, \"y\": 0.06384784981340999, \"z\": 0.954902562287}, \"fontSize\": 18, \"fontColor\": \"black\", \"backgroundColor\": \"white\", \"showBackground\": false});\n",
       "\tviewer_17517481079657595.addLabel(\"1.08\",{\"position\": {\"x\": -1.7126598651408198, \"y\": 0.279884216017755, \"z\": 1.990110760991785}, \"fontSize\": 18, \"fontColor\": \"black\", \"backgroundColor\": \"white\", \"showBackground\": false});\n",
       "\tviewer_17517481079657595.addLabel(\"1.38\",{\"position\": {\"x\": -1.9763830492461, \"y\": -0.17352855011444998, \"z\": -0.21515299403555}, \"fontSize\": 18, \"fontColor\": \"black\", \"backgroundColor\": \"white\", \"showBackground\": false});\n",
       "\tviewer_17517481079657595.addLabel(\"1.08\",{\"position\": {\"x\": -2.809482194941665, \"y\": -0.10302570517147999, \"z\": 0.453219507797155}, \"fontSize\": 18, \"fontColor\": \"black\", \"backgroundColor\": \"white\", \"showBackground\": false});\n",
       "\tviewer_17517481079657595.addLabel(\"1.38\",{\"position\": {\"x\": -0.9919047538372849, \"y\": -0.237399874606465, \"z\": -0.898057620422045}, \"fontSize\": 18, \"fontColor\": \"black\", \"backgroundColor\": \"white\", \"showBackground\": false});\n",
       "\tviewer_17517481079657595.addLabel(\"1.08\",{\"position\": {\"x\": -1.985257544670805, \"y\": -0.38160690232037, \"z\": -1.264729404106975}, \"fontSize\": 18, \"fontColor\": \"black\", \"backgroundColor\": \"white\", \"showBackground\": false});\n",
       "\tviewer_17517481079657595.addLabel(\"1.39\",{\"position\": {\"x\": 0.09428959206156501, \"y\": -0.060953550476475, \"z\": -0.41213164325323004}, \"fontSize\": 18, \"fontColor\": \"black\", \"backgroundColor\": \"white\", \"showBackground\": false});\n",
       "\tviewer_17517481079657595.addLabel(\"1.08\",{\"position\": {\"x\": -0.07443234699000999, \"y\": -0.28175370404909, \"z\": -1.445675174125}, \"fontSize\": 18, \"fontColor\": \"black\", \"backgroundColor\": \"white\", \"showBackground\": false});\n",
       "\tviewer_17517481079657595.addLabel(\"1.51\",{\"position\": {\"x\": 1.241508735754525, \"y\": 0.132474036452455, \"z\": 0.07174342426707}, \"fontSize\": 18, \"fontColor\": \"black\", \"backgroundColor\": \"white\", \"showBackground\": false});\n",
       "\tviewer_17517481079657595.addLabel(\"1.41\",{\"position\": {\"x\": 2.3464784172683597, \"y\": -0.08421189157159, \"z\": 0.5527339633787}, \"fontSize\": 18, \"fontColor\": \"black\", \"backgroundColor\": \"white\", \"showBackground\": false});\n",
       "\tviewer_17517481079657595.addLabel(\"1.10\",{\"position\": {\"x\": 2.1313511314279303, \"y\": 0.7194407185822149, \"z\": -0.01067898176921}, \"fontSize\": 18, \"fontColor\": \"black\", \"backgroundColor\": \"white\", \"showBackground\": false});\n",
       "\tviewer_17517481079657595.addLabel(\"1.10\",{\"position\": {\"x\": 2.154307545208955, \"y\": -0.05173158322233, \"z\": -0.46283441082093}, \"fontSize\": 18, \"fontColor\": \"black\", \"backgroundColor\": \"white\", \"showBackground\": false});\n",
       "\tviewer_17517481079657595.addLabel(\"0.97\",{\"position\": {\"x\": 2.60303857462453, \"y\": -0.82569524300054, \"z\": 1.1364780181224101}, \"fontSize\": 18, \"fontColor\": \"black\", \"backgroundColor\": \"white\", \"showBackground\": false});\n",
       "\tviewer_17517481079657595.addLabel(\"1.44\",{\"position\": {\"x\": 2.4455902573816353, \"y\": 3.65808524728308, \"z\": -0.089291516514795}, \"fontSize\": 18, \"fontColor\": \"black\", \"backgroundColor\": \"white\", \"showBackground\": false});\n",
       "\tviewer_17517481079657595.addLabel(\"0.98\",{\"position\": {\"x\": 2.5991475839870697, \"y\": 2.893373936606445, \"z\": -0.60574104325319}, \"fontSize\": 18, \"fontColor\": \"black\", \"backgroundColor\": \"white\", \"showBackground\": false});\n",
       "\tviewer_17517481079657595.addLabel(\"0.97\",{\"position\": {\"x\": 2.31488130684854, \"y\": 4.445457709970565, \"z\": 0.43119288962068}, \"fontSize\": 18, \"fontColor\": \"black\", \"backgroundColor\": \"white\", \"showBackground\": false});\n",
       "\tviewer_17517481079657595.zoomTo();\n",
       "viewer_17517481079657595.render();\n",
       "});\n",
       "</script>"
      ]
     },
     "metadata": {},
     "output_type": "display_data"
    }
   ],
   "source": [
    "\n",
    "calc = setup_calc(\n",
    "    working_dir=ts_scan_dir,\n",
    "    structure=geom_path,\n",
    "    basename=\"BnOH_H2O2_ts_scan\",\n",
    "    sk_list=sk_list,\n",
    "    bk_list=geom_block,\n",
    ")"
   ]
  },
  {
   "cell_type": "code",
   "execution_count": 11,
   "metadata": {},
   "outputs": [],
   "source": [
    "# run calculation\n",
    "calc.run()"
   ]
  },
  {
   "cell_type": "code",
   "execution_count": 12,
   "metadata": {},
   "outputs": [
    {
     "name": "stdout",
     "output_type": "stream",
     "text": [
      "Calculation completed successfully.\n"
     ]
    },
    {
     "data": {
      "text/markdown": [
       "### TS scan result"
      ],
      "text/plain": [
       "<IPython.core.display.Markdown object>"
      ]
     },
     "metadata": {},
     "output_type": "display_data"
    },
    {
     "data": {
      "application/3dmoljs_load.v0": "<div id=\"3dmolviewer_17517482798503137\"  style=\"position: relative; width: 400px; height: 400px;\">\n        <p id=\"3dmolwarning_17517482798503137\" style=\"background-color:#ffcccc;color:black\">3Dmol.js failed to load for some reason.  Please check your browser console for error messages.<br></p>\n        </div>\n<script>\n\nvar loadScriptAsync = function(uri){\n  return new Promise((resolve, reject) => {\n    //this is to ignore the existence of requirejs amd\n    var savedexports, savedmodule;\n    if (typeof exports !== 'undefined') savedexports = exports;\n    else exports = {}\n    if (typeof module !== 'undefined') savedmodule = module;\n    else module = {}\n\n    var tag = document.createElement('script');\n    tag.src = uri;\n    tag.async = true;\n    tag.onload = () => {\n        exports = savedexports;\n        module = savedmodule;\n        resolve();\n    };\n  var firstScriptTag = document.getElementsByTagName('script')[0];\n  firstScriptTag.parentNode.insertBefore(tag, firstScriptTag);\n});\n};\n\nif(typeof $3Dmolpromise === 'undefined') {\n$3Dmolpromise = null;\n  $3Dmolpromise = loadScriptAsync('https://cdn.jsdelivr.net/npm/3dmol@2.5.1/build/3Dmol-min.js');\n}\n\nvar viewer_17517482798503137 = null;\nvar warn = document.getElementById(\"3dmolwarning_17517482798503137\");\nif(warn) {\n    warn.parentNode.removeChild(warn);\n}\n$3Dmolpromise.then(function() {\nviewer_17517482798503137 = $3Dmol.createViewer(document.getElementById(\"3dmolviewer_17517482798503137\"),{backgroundColor:\"white\"});\nviewer_17517482798503137.zoomTo();\n\tviewer_17517482798503137.addModel(\"20\\n\\nC            -0.1406132296106300            -0.2032387250596200             1.4986155701861701\\nC            -1.5119421371186199            -0.2811458670052200             1.6420000949993401\\nC            -2.3387672997633202            -0.1051409346570700             0.5430157813111800\\nC            -1.7891140324979100             0.1452821230530100            -0.7067603229813600\\nC            -0.4198118637259400             0.2193954656026500            -0.8605567249466800\\nC             0.4205501801550400             0.0393430092004300             0.2423633331887700\\nC             1.8706932921892701             0.1192581425689400             0.0687096035143800\\nO             2.6235478542059099            -0.2927504771630400             1.1068508195063300\\nH             0.5118960526377000            -0.3410824572864100             2.3462033457517202\\nH            -1.9395751915630299            -0.4756705594642800             2.6133553451023501\\nH            -3.4101418585111198            -0.1601507699758400             0.6587808010424000\\nH            -2.4340267198721199             0.2845184271687000            -1.5605842553834599\\nH             0.0100364966403800             0.4232096008270600            -1.8291794840178199\\nH             2.0682202866646202             1.4539284553137599            -0.0308067956072600\\nH             2.2279583470766502            -0.1368313863116400            -0.9282491942455100\\nH             3.5563218549357400            -0.4131355617795000             0.8678013448612300\\nO             2.3012856888985000             2.5015364430051901            -0.1190504575441800\\nO             2.7580293213898002             4.2730685093689003            -0.5915714328911800\\nH             2.1450675508333301             2.8756401419680500             0.7572254384682600\\nH             2.8389771813000699             4.1345933457974997            -1.5370669324683000\\n\\n\",\"xyz\");\n\tviewer_17517482798503137.setBackgroundColor(\"white\");\n\tviewer_17517482798503137.setStyle({\"stick\": {\"radius\": 0.1}, \"sphere\": {\"scale\": 0.2}});\n\tviewer_17517482798503137.addLabel(\"C0\",{\"position\": {\"x\": -0.14061322961063, \"y\": -0.20323872505962, \"z\": 1.49861557018617}, \"fontSize\": 18, \"fontColor\": \"black\", \"backgroundColor\": \"white\", \"showBackground\": false, \"id\": \"ts scan result_atom_0\"});\n\tviewer_17517482798503137.addLabel(\"C1\",{\"position\": {\"x\": -1.51194213711862, \"y\": -0.28114586700522, \"z\": 1.64200009499934}, \"fontSize\": 18, \"fontColor\": \"black\", \"backgroundColor\": \"white\", \"showBackground\": false, \"id\": \"ts scan result_atom_1\"});\n\tviewer_17517482798503137.addLabel(\"C2\",{\"position\": {\"x\": -2.33876729976332, \"y\": -0.10514093465707, \"z\": 0.54301578131118}, \"fontSize\": 18, \"fontColor\": \"black\", \"backgroundColor\": \"white\", \"showBackground\": false, \"id\": \"ts scan result_atom_2\"});\n\tviewer_17517482798503137.addLabel(\"C3\",{\"position\": {\"x\": -1.78911403249791, \"y\": 0.14528212305301, \"z\": -0.70676032298136}, \"fontSize\": 18, \"fontColor\": \"black\", \"backgroundColor\": \"white\", \"showBackground\": false, \"id\": \"ts scan result_atom_3\"});\n\tviewer_17517482798503137.addLabel(\"C4\",{\"position\": {\"x\": -0.41981186372594, \"y\": 0.21939546560265, \"z\": -0.86055672494668}, \"fontSize\": 18, \"fontColor\": \"black\", \"backgroundColor\": \"white\", \"showBackground\": false, \"id\": \"ts scan result_atom_4\"});\n\tviewer_17517482798503137.addLabel(\"C5\",{\"position\": {\"x\": 0.42055018015504, \"y\": 0.03934300920043, \"z\": 0.24236333318877}, \"fontSize\": 18, \"fontColor\": \"black\", \"backgroundColor\": \"white\", \"showBackground\": false, \"id\": \"ts scan result_atom_5\"});\n\tviewer_17517482798503137.addLabel(\"C6\",{\"position\": {\"x\": 1.87069329218927, \"y\": 0.11925814256894, \"z\": 0.06870960351438}, \"fontSize\": 18, \"fontColor\": \"black\", \"backgroundColor\": \"white\", \"showBackground\": false, \"id\": \"ts scan result_atom_6\"});\n\tviewer_17517482798503137.addLabel(\"O7\",{\"position\": {\"x\": 2.62354785420591, \"y\": -0.29275047716304, \"z\": 1.10685081950633}, \"fontSize\": 18, \"fontColor\": \"black\", \"backgroundColor\": \"white\", \"showBackground\": false, \"id\": \"ts scan result_atom_7\"});\n\tviewer_17517482798503137.addLabel(\"H8\",{\"position\": {\"x\": 0.5118960526377, \"y\": -0.34108245728641, \"z\": 2.34620334575172}, \"fontSize\": 18, \"fontColor\": \"black\", \"backgroundColor\": \"white\", \"showBackground\": false, \"id\": \"ts scan result_atom_8\"});\n\tviewer_17517482798503137.addLabel(\"H9\",{\"position\": {\"x\": -1.93957519156303, \"y\": -0.47567055946428, \"z\": 2.61335534510235}, \"fontSize\": 18, \"fontColor\": \"black\", \"backgroundColor\": \"white\", \"showBackground\": false, \"id\": \"ts scan result_atom_9\"});\n\tviewer_17517482798503137.addLabel(\"H10\",{\"position\": {\"x\": -3.41014185851112, \"y\": -0.16015076997584, \"z\": 0.6587808010424}, \"fontSize\": 18, \"fontColor\": \"black\", \"backgroundColor\": \"white\", \"showBackground\": false, \"id\": \"ts scan result_atom_10\"});\n\tviewer_17517482798503137.addLabel(\"H11\",{\"position\": {\"x\": -2.43402671987212, \"y\": 0.2845184271687, \"z\": -1.56058425538346}, \"fontSize\": 18, \"fontColor\": \"black\", \"backgroundColor\": \"white\", \"showBackground\": false, \"id\": \"ts scan result_atom_11\"});\n\tviewer_17517482798503137.addLabel(\"H12\",{\"position\": {\"x\": 0.01003649664038, \"y\": 0.42320960082706, \"z\": -1.82917948401782}, \"fontSize\": 18, \"fontColor\": \"black\", \"backgroundColor\": \"white\", \"showBackground\": false, \"id\": \"ts scan result_atom_12\"});\n\tviewer_17517482798503137.addLabel(\"H13\",{\"position\": {\"x\": 2.06822028666462, \"y\": 1.45392845531376, \"z\": -0.03080679560726}, \"fontSize\": 18, \"fontColor\": \"black\", \"backgroundColor\": \"white\", \"showBackground\": false, \"id\": \"ts scan result_atom_13\"});\n\tviewer_17517482798503137.addLabel(\"H14\",{\"position\": {\"x\": 2.22795834707665, \"y\": -0.13683138631164, \"z\": -0.92824919424551}, \"fontSize\": 18, \"fontColor\": \"black\", \"backgroundColor\": \"white\", \"showBackground\": false, \"id\": \"ts scan result_atom_14\"});\n\tviewer_17517482798503137.addLabel(\"H15\",{\"position\": {\"x\": 3.55632185493574, \"y\": -0.4131355617795, \"z\": 0.86780134486123}, \"fontSize\": 18, \"fontColor\": \"black\", \"backgroundColor\": \"white\", \"showBackground\": false, \"id\": \"ts scan result_atom_15\"});\n\tviewer_17517482798503137.addLabel(\"O16\",{\"position\": {\"x\": 2.3012856888985, \"y\": 2.50153644300519, \"z\": -0.11905045754418}, \"fontSize\": 18, \"fontColor\": \"black\", \"backgroundColor\": \"white\", \"showBackground\": false, \"id\": \"ts scan result_atom_16\"});\n\tviewer_17517482798503137.addLabel(\"O17\",{\"position\": {\"x\": 2.7580293213898, \"y\": 4.2730685093689, \"z\": -0.59157143289118}, \"fontSize\": 18, \"fontColor\": \"black\", \"backgroundColor\": \"white\", \"showBackground\": false, \"id\": \"ts scan result_atom_17\"});\n\tviewer_17517482798503137.addLabel(\"H18\",{\"position\": {\"x\": 2.14506755083333, \"y\": 2.87564014196805, \"z\": 0.75722543846826}, \"fontSize\": 18, \"fontColor\": \"black\", \"backgroundColor\": \"white\", \"showBackground\": false, \"id\": \"ts scan result_atom_18\"});\n\tviewer_17517482798503137.addLabel(\"H19\",{\"position\": {\"x\": 2.83897718130007, \"y\": 4.1345933457975, \"z\": -1.5370669324683}, \"fontSize\": 18, \"fontColor\": \"black\", \"backgroundColor\": \"white\", \"showBackground\": false, \"id\": \"ts scan result_atom_19\"});\n\tviewer_17517482798503137.addLabel(\"1.38\",{\"position\": {\"x\": -0.8262776833646249, \"y\": -0.24219229603241998, \"z\": 1.570307832592755}, \"fontSize\": 18, \"fontColor\": \"black\", \"backgroundColor\": \"white\", \"showBackground\": false});\n\tviewer_17517482798503137.addLabel(\"1.40\",{\"position\": {\"x\": 0.139968475272205, \"y\": -0.08194785792959501, \"z\": 0.87048945168747}, \"fontSize\": 18, \"fontColor\": \"black\", \"backgroundColor\": \"white\", \"showBackground\": false});\n\tviewer_17517482798503137.addLabel(\"1.08\",{\"position\": {\"x\": 0.185641411513535, \"y\": -0.272160591173015, \"z\": 1.922409457968945}, \"fontSize\": 18, \"fontColor\": \"black\", \"backgroundColor\": \"white\", \"showBackground\": false});\n\tviewer_17517482798503137.addLabel(\"1.39\",{\"position\": {\"x\": -1.92535471844097, \"y\": -0.193143400831145, \"z\": 1.09250793815526}, \"fontSize\": 18, \"fontColor\": \"black\", \"backgroundColor\": \"white\", \"showBackground\": false});\n\tviewer_17517482798503137.addLabel(\"1.08\",{\"position\": {\"x\": -1.725758664340825, \"y\": -0.37840821323475, \"z\": 2.127677720050845}, \"fontSize\": 18, \"fontColor\": \"black\", \"backgroundColor\": \"white\", \"showBackground\": false});\n\tviewer_17517482798503137.addLabel(\"1.39\",{\"position\": {\"x\": -2.063940666130615, \"y\": 0.02007059419797, \"z\": -0.08187227083509002}, \"fontSize\": 18, \"fontColor\": \"black\", \"backgroundColor\": \"white\", \"showBackground\": false});\n\tviewer_17517482798503137.addLabel(\"1.08\",{\"position\": {\"x\": -2.87445457913722, \"y\": -0.13264585231645498, \"z\": 0.60089829117679}, \"fontSize\": 18, \"fontColor\": \"black\", \"backgroundColor\": \"white\", \"showBackground\": false});\n\tviewer_17517482798503137.addLabel(\"1.38\",{\"position\": {\"x\": -1.104462948111925, \"y\": 0.18233879432783, \"z\": -0.78365852396402}, \"fontSize\": 18, \"fontColor\": \"black\", \"backgroundColor\": \"white\", \"showBackground\": false});\n\tviewer_17517482798503137.addLabel(\"1.08\",{\"position\": {\"x\": -2.111570376185015, \"y\": 0.21490027511085502, \"z\": -1.13367228918241}, \"fontSize\": 18, \"fontColor\": \"black\", \"backgroundColor\": \"white\", \"showBackground\": false});\n\tviewer_17517482798503137.addLabel(\"1.40\",{\"position\": {\"x\": 0.0003691582145499972, \"y\": 0.12936923740154, \"z\": -0.309096695878955}, \"fontSize\": 18, \"fontColor\": \"black\", \"backgroundColor\": \"white\", \"showBackground\": false});\n\tviewer_17517482798503137.addLabel(\"1.08\",{\"position\": {\"x\": -0.20488768354278, \"y\": 0.321302533214855, \"z\": -1.34486810448225}, \"fontSize\": 18, \"fontColor\": \"black\", \"backgroundColor\": \"white\", \"showBackground\": false});\n\tviewer_17517482798503137.addLabel(\"1.46\",{\"position\": {\"x\": 1.145621736172155, \"y\": 0.079300575884685, \"z\": 0.155536468351575}, \"fontSize\": 18, \"fontColor\": \"black\", \"backgroundColor\": \"white\", \"showBackground\": false});\n\tviewer_17517482798503137.addLabel(\"1.35\",{\"position\": {\"x\": 2.24712057319759, \"y\": -0.08674616729704998, \"z\": 0.587780211510355}, \"fontSize\": 18, \"fontColor\": \"black\", \"backgroundColor\": \"white\", \"showBackground\": false});\n\tviewer_17517482798503137.addLabel(\"1.35\",{\"position\": {\"x\": 1.9694567894269452, \"y\": 0.78659329894135, \"z\": 0.01895140395356}, \"fontSize\": 18, \"fontColor\": \"black\", \"backgroundColor\": \"white\", \"showBackground\": false});\n\tviewer_17517482798503137.addLabel(\"1.09\",{\"position\": {\"x\": 2.0493258196329602, \"y\": -0.008786621871349994, \"z\": -0.429769795365565}, \"fontSize\": 18, \"fontColor\": \"black\", \"backgroundColor\": \"white\", \"showBackground\": false});\n\tviewer_17517482798503137.addLabel(\"0.97\",{\"position\": {\"x\": 3.089934854570825, \"y\": -0.35294301947127, \"z\": 0.9873260821837799}, \"fontSize\": 18, \"fontColor\": \"black\", \"backgroundColor\": \"white\", \"showBackground\": false});\n\tviewer_17517482798503137.addLabel(\"1.08\",{\"position\": {\"x\": 2.18475298778156, \"y\": 1.977732449159475, \"z\": -0.07492862657572}, \"fontSize\": 18, \"fontColor\": \"black\", \"backgroundColor\": \"white\", \"showBackground\": false});\n\tviewer_17517482798503137.addLabel(\"0.97\",{\"position\": {\"x\": 2.223176619865915, \"y\": 2.68858829248662, \"z\": 0.31908749046204}, \"fontSize\": 18, \"fontColor\": \"black\", \"backgroundColor\": \"white\", \"showBackground\": false});\n\tviewer_17517482798503137.addLabel(\"0.96\",{\"position\": {\"x\": 2.7985032513449353, \"y\": 4.2038309275831995, \"z\": -1.06431918267974}, \"fontSize\": 18, \"fontColor\": \"black\", \"backgroundColor\": \"white\", \"showBackground\": false});\n\tviewer_17517482798503137.zoomTo();\nviewer_17517482798503137.render();\n});\n</script>",
      "text/html": [
       "<div id=\"3dmolviewer_17517482798503137\"  style=\"position: relative; width: 400px; height: 400px;\">\n",
       "        <p id=\"3dmolwarning_17517482798503137\" style=\"background-color:#ffcccc;color:black\">3Dmol.js failed to load for some reason.  Please check your browser console for error messages.<br></p>\n",
       "        </div>\n",
       "<script>\n",
       "\n",
       "var loadScriptAsync = function(uri){\n",
       "  return new Promise((resolve, reject) => {\n",
       "    //this is to ignore the existence of requirejs amd\n",
       "    var savedexports, savedmodule;\n",
       "    if (typeof exports !== 'undefined') savedexports = exports;\n",
       "    else exports = {}\n",
       "    if (typeof module !== 'undefined') savedmodule = module;\n",
       "    else module = {}\n",
       "\n",
       "    var tag = document.createElement('script');\n",
       "    tag.src = uri;\n",
       "    tag.async = true;\n",
       "    tag.onload = () => {\n",
       "        exports = savedexports;\n",
       "        module = savedmodule;\n",
       "        resolve();\n",
       "    };\n",
       "  var firstScriptTag = document.getElementsByTagName('script')[0];\n",
       "  firstScriptTag.parentNode.insertBefore(tag, firstScriptTag);\n",
       "});\n",
       "};\n",
       "\n",
       "if(typeof $3Dmolpromise === 'undefined') {\n",
       "$3Dmolpromise = null;\n",
       "  $3Dmolpromise = loadScriptAsync('https://cdn.jsdelivr.net/npm/3dmol@2.5.1/build/3Dmol-min.js');\n",
       "}\n",
       "\n",
       "var viewer_17517482798503137 = null;\n",
       "var warn = document.getElementById(\"3dmolwarning_17517482798503137\");\n",
       "if(warn) {\n",
       "    warn.parentNode.removeChild(warn);\n",
       "}\n",
       "$3Dmolpromise.then(function() {\n",
       "viewer_17517482798503137 = $3Dmol.createViewer(document.getElementById(\"3dmolviewer_17517482798503137\"),{backgroundColor:\"white\"});\n",
       "viewer_17517482798503137.zoomTo();\n",
       "\tviewer_17517482798503137.addModel(\"20\\n\\nC            -0.1406132296106300            -0.2032387250596200             1.4986155701861701\\nC            -1.5119421371186199            -0.2811458670052200             1.6420000949993401\\nC            -2.3387672997633202            -0.1051409346570700             0.5430157813111800\\nC            -1.7891140324979100             0.1452821230530100            -0.7067603229813600\\nC            -0.4198118637259400             0.2193954656026500            -0.8605567249466800\\nC             0.4205501801550400             0.0393430092004300             0.2423633331887700\\nC             1.8706932921892701             0.1192581425689400             0.0687096035143800\\nO             2.6235478542059099            -0.2927504771630400             1.1068508195063300\\nH             0.5118960526377000            -0.3410824572864100             2.3462033457517202\\nH            -1.9395751915630299            -0.4756705594642800             2.6133553451023501\\nH            -3.4101418585111198            -0.1601507699758400             0.6587808010424000\\nH            -2.4340267198721199             0.2845184271687000            -1.5605842553834599\\nH             0.0100364966403800             0.4232096008270600            -1.8291794840178199\\nH             2.0682202866646202             1.4539284553137599            -0.0308067956072600\\nH             2.2279583470766502            -0.1368313863116400            -0.9282491942455100\\nH             3.5563218549357400            -0.4131355617795000             0.8678013448612300\\nO             2.3012856888985000             2.5015364430051901            -0.1190504575441800\\nO             2.7580293213898002             4.2730685093689003            -0.5915714328911800\\nH             2.1450675508333301             2.8756401419680500             0.7572254384682600\\nH             2.8389771813000699             4.1345933457974997            -1.5370669324683000\\n\\n\",\"xyz\");\n",
       "\tviewer_17517482798503137.setBackgroundColor(\"white\");\n",
       "\tviewer_17517482798503137.setStyle({\"stick\": {\"radius\": 0.1}, \"sphere\": {\"scale\": 0.2}});\n",
       "\tviewer_17517482798503137.addLabel(\"C0\",{\"position\": {\"x\": -0.14061322961063, \"y\": -0.20323872505962, \"z\": 1.49861557018617}, \"fontSize\": 18, \"fontColor\": \"black\", \"backgroundColor\": \"white\", \"showBackground\": false, \"id\": \"ts scan result_atom_0\"});\n",
       "\tviewer_17517482798503137.addLabel(\"C1\",{\"position\": {\"x\": -1.51194213711862, \"y\": -0.28114586700522, \"z\": 1.64200009499934}, \"fontSize\": 18, \"fontColor\": \"black\", \"backgroundColor\": \"white\", \"showBackground\": false, \"id\": \"ts scan result_atom_1\"});\n",
       "\tviewer_17517482798503137.addLabel(\"C2\",{\"position\": {\"x\": -2.33876729976332, \"y\": -0.10514093465707, \"z\": 0.54301578131118}, \"fontSize\": 18, \"fontColor\": \"black\", \"backgroundColor\": \"white\", \"showBackground\": false, \"id\": \"ts scan result_atom_2\"});\n",
       "\tviewer_17517482798503137.addLabel(\"C3\",{\"position\": {\"x\": -1.78911403249791, \"y\": 0.14528212305301, \"z\": -0.70676032298136}, \"fontSize\": 18, \"fontColor\": \"black\", \"backgroundColor\": \"white\", \"showBackground\": false, \"id\": \"ts scan result_atom_3\"});\n",
       "\tviewer_17517482798503137.addLabel(\"C4\",{\"position\": {\"x\": -0.41981186372594, \"y\": 0.21939546560265, \"z\": -0.86055672494668}, \"fontSize\": 18, \"fontColor\": \"black\", \"backgroundColor\": \"white\", \"showBackground\": false, \"id\": \"ts scan result_atom_4\"});\n",
       "\tviewer_17517482798503137.addLabel(\"C5\",{\"position\": {\"x\": 0.42055018015504, \"y\": 0.03934300920043, \"z\": 0.24236333318877}, \"fontSize\": 18, \"fontColor\": \"black\", \"backgroundColor\": \"white\", \"showBackground\": false, \"id\": \"ts scan result_atom_5\"});\n",
       "\tviewer_17517482798503137.addLabel(\"C6\",{\"position\": {\"x\": 1.87069329218927, \"y\": 0.11925814256894, \"z\": 0.06870960351438}, \"fontSize\": 18, \"fontColor\": \"black\", \"backgroundColor\": \"white\", \"showBackground\": false, \"id\": \"ts scan result_atom_6\"});\n",
       "\tviewer_17517482798503137.addLabel(\"O7\",{\"position\": {\"x\": 2.62354785420591, \"y\": -0.29275047716304, \"z\": 1.10685081950633}, \"fontSize\": 18, \"fontColor\": \"black\", \"backgroundColor\": \"white\", \"showBackground\": false, \"id\": \"ts scan result_atom_7\"});\n",
       "\tviewer_17517482798503137.addLabel(\"H8\",{\"position\": {\"x\": 0.5118960526377, \"y\": -0.34108245728641, \"z\": 2.34620334575172}, \"fontSize\": 18, \"fontColor\": \"black\", \"backgroundColor\": \"white\", \"showBackground\": false, \"id\": \"ts scan result_atom_8\"});\n",
       "\tviewer_17517482798503137.addLabel(\"H9\",{\"position\": {\"x\": -1.93957519156303, \"y\": -0.47567055946428, \"z\": 2.61335534510235}, \"fontSize\": 18, \"fontColor\": \"black\", \"backgroundColor\": \"white\", \"showBackground\": false, \"id\": \"ts scan result_atom_9\"});\n",
       "\tviewer_17517482798503137.addLabel(\"H10\",{\"position\": {\"x\": -3.41014185851112, \"y\": -0.16015076997584, \"z\": 0.6587808010424}, \"fontSize\": 18, \"fontColor\": \"black\", \"backgroundColor\": \"white\", \"showBackground\": false, \"id\": \"ts scan result_atom_10\"});\n",
       "\tviewer_17517482798503137.addLabel(\"H11\",{\"position\": {\"x\": -2.43402671987212, \"y\": 0.2845184271687, \"z\": -1.56058425538346}, \"fontSize\": 18, \"fontColor\": \"black\", \"backgroundColor\": \"white\", \"showBackground\": false, \"id\": \"ts scan result_atom_11\"});\n",
       "\tviewer_17517482798503137.addLabel(\"H12\",{\"position\": {\"x\": 0.01003649664038, \"y\": 0.42320960082706, \"z\": -1.82917948401782}, \"fontSize\": 18, \"fontColor\": \"black\", \"backgroundColor\": \"white\", \"showBackground\": false, \"id\": \"ts scan result_atom_12\"});\n",
       "\tviewer_17517482798503137.addLabel(\"H13\",{\"position\": {\"x\": 2.06822028666462, \"y\": 1.45392845531376, \"z\": -0.03080679560726}, \"fontSize\": 18, \"fontColor\": \"black\", \"backgroundColor\": \"white\", \"showBackground\": false, \"id\": \"ts scan result_atom_13\"});\n",
       "\tviewer_17517482798503137.addLabel(\"H14\",{\"position\": {\"x\": 2.22795834707665, \"y\": -0.13683138631164, \"z\": -0.92824919424551}, \"fontSize\": 18, \"fontColor\": \"black\", \"backgroundColor\": \"white\", \"showBackground\": false, \"id\": \"ts scan result_atom_14\"});\n",
       "\tviewer_17517482798503137.addLabel(\"H15\",{\"position\": {\"x\": 3.55632185493574, \"y\": -0.4131355617795, \"z\": 0.86780134486123}, \"fontSize\": 18, \"fontColor\": \"black\", \"backgroundColor\": \"white\", \"showBackground\": false, \"id\": \"ts scan result_atom_15\"});\n",
       "\tviewer_17517482798503137.addLabel(\"O16\",{\"position\": {\"x\": 2.3012856888985, \"y\": 2.50153644300519, \"z\": -0.11905045754418}, \"fontSize\": 18, \"fontColor\": \"black\", \"backgroundColor\": \"white\", \"showBackground\": false, \"id\": \"ts scan result_atom_16\"});\n",
       "\tviewer_17517482798503137.addLabel(\"O17\",{\"position\": {\"x\": 2.7580293213898, \"y\": 4.2730685093689, \"z\": -0.59157143289118}, \"fontSize\": 18, \"fontColor\": \"black\", \"backgroundColor\": \"white\", \"showBackground\": false, \"id\": \"ts scan result_atom_17\"});\n",
       "\tviewer_17517482798503137.addLabel(\"H18\",{\"position\": {\"x\": 2.14506755083333, \"y\": 2.87564014196805, \"z\": 0.75722543846826}, \"fontSize\": 18, \"fontColor\": \"black\", \"backgroundColor\": \"white\", \"showBackground\": false, \"id\": \"ts scan result_atom_18\"});\n",
       "\tviewer_17517482798503137.addLabel(\"H19\",{\"position\": {\"x\": 2.83897718130007, \"y\": 4.1345933457975, \"z\": -1.5370669324683}, \"fontSize\": 18, \"fontColor\": \"black\", \"backgroundColor\": \"white\", \"showBackground\": false, \"id\": \"ts scan result_atom_19\"});\n",
       "\tviewer_17517482798503137.addLabel(\"1.38\",{\"position\": {\"x\": -0.8262776833646249, \"y\": -0.24219229603241998, \"z\": 1.570307832592755}, \"fontSize\": 18, \"fontColor\": \"black\", \"backgroundColor\": \"white\", \"showBackground\": false});\n",
       "\tviewer_17517482798503137.addLabel(\"1.40\",{\"position\": {\"x\": 0.139968475272205, \"y\": -0.08194785792959501, \"z\": 0.87048945168747}, \"fontSize\": 18, \"fontColor\": \"black\", \"backgroundColor\": \"white\", \"showBackground\": false});\n",
       "\tviewer_17517482798503137.addLabel(\"1.08\",{\"position\": {\"x\": 0.185641411513535, \"y\": -0.272160591173015, \"z\": 1.922409457968945}, \"fontSize\": 18, \"fontColor\": \"black\", \"backgroundColor\": \"white\", \"showBackground\": false});\n",
       "\tviewer_17517482798503137.addLabel(\"1.39\",{\"position\": {\"x\": -1.92535471844097, \"y\": -0.193143400831145, \"z\": 1.09250793815526}, \"fontSize\": 18, \"fontColor\": \"black\", \"backgroundColor\": \"white\", \"showBackground\": false});\n",
       "\tviewer_17517482798503137.addLabel(\"1.08\",{\"position\": {\"x\": -1.725758664340825, \"y\": -0.37840821323475, \"z\": 2.127677720050845}, \"fontSize\": 18, \"fontColor\": \"black\", \"backgroundColor\": \"white\", \"showBackground\": false});\n",
       "\tviewer_17517482798503137.addLabel(\"1.39\",{\"position\": {\"x\": -2.063940666130615, \"y\": 0.02007059419797, \"z\": -0.08187227083509002}, \"fontSize\": 18, \"fontColor\": \"black\", \"backgroundColor\": \"white\", \"showBackground\": false});\n",
       "\tviewer_17517482798503137.addLabel(\"1.08\",{\"position\": {\"x\": -2.87445457913722, \"y\": -0.13264585231645498, \"z\": 0.60089829117679}, \"fontSize\": 18, \"fontColor\": \"black\", \"backgroundColor\": \"white\", \"showBackground\": false});\n",
       "\tviewer_17517482798503137.addLabel(\"1.38\",{\"position\": {\"x\": -1.104462948111925, \"y\": 0.18233879432783, \"z\": -0.78365852396402}, \"fontSize\": 18, \"fontColor\": \"black\", \"backgroundColor\": \"white\", \"showBackground\": false});\n",
       "\tviewer_17517482798503137.addLabel(\"1.08\",{\"position\": {\"x\": -2.111570376185015, \"y\": 0.21490027511085502, \"z\": -1.13367228918241}, \"fontSize\": 18, \"fontColor\": \"black\", \"backgroundColor\": \"white\", \"showBackground\": false});\n",
       "\tviewer_17517482798503137.addLabel(\"1.40\",{\"position\": {\"x\": 0.0003691582145499972, \"y\": 0.12936923740154, \"z\": -0.309096695878955}, \"fontSize\": 18, \"fontColor\": \"black\", \"backgroundColor\": \"white\", \"showBackground\": false});\n",
       "\tviewer_17517482798503137.addLabel(\"1.08\",{\"position\": {\"x\": -0.20488768354278, \"y\": 0.321302533214855, \"z\": -1.34486810448225}, \"fontSize\": 18, \"fontColor\": \"black\", \"backgroundColor\": \"white\", \"showBackground\": false});\n",
       "\tviewer_17517482798503137.addLabel(\"1.46\",{\"position\": {\"x\": 1.145621736172155, \"y\": 0.079300575884685, \"z\": 0.155536468351575}, \"fontSize\": 18, \"fontColor\": \"black\", \"backgroundColor\": \"white\", \"showBackground\": false});\n",
       "\tviewer_17517482798503137.addLabel(\"1.35\",{\"position\": {\"x\": 2.24712057319759, \"y\": -0.08674616729704998, \"z\": 0.587780211510355}, \"fontSize\": 18, \"fontColor\": \"black\", \"backgroundColor\": \"white\", \"showBackground\": false});\n",
       "\tviewer_17517482798503137.addLabel(\"1.35\",{\"position\": {\"x\": 1.9694567894269452, \"y\": 0.78659329894135, \"z\": 0.01895140395356}, \"fontSize\": 18, \"fontColor\": \"black\", \"backgroundColor\": \"white\", \"showBackground\": false});\n",
       "\tviewer_17517482798503137.addLabel(\"1.09\",{\"position\": {\"x\": 2.0493258196329602, \"y\": -0.008786621871349994, \"z\": -0.429769795365565}, \"fontSize\": 18, \"fontColor\": \"black\", \"backgroundColor\": \"white\", \"showBackground\": false});\n",
       "\tviewer_17517482798503137.addLabel(\"0.97\",{\"position\": {\"x\": 3.089934854570825, \"y\": -0.35294301947127, \"z\": 0.9873260821837799}, \"fontSize\": 18, \"fontColor\": \"black\", \"backgroundColor\": \"white\", \"showBackground\": false});\n",
       "\tviewer_17517482798503137.addLabel(\"1.08\",{\"position\": {\"x\": 2.18475298778156, \"y\": 1.977732449159475, \"z\": -0.07492862657572}, \"fontSize\": 18, \"fontColor\": \"black\", \"backgroundColor\": \"white\", \"showBackground\": false});\n",
       "\tviewer_17517482798503137.addLabel(\"0.97\",{\"position\": {\"x\": 2.223176619865915, \"y\": 2.68858829248662, \"z\": 0.31908749046204}, \"fontSize\": 18, \"fontColor\": \"black\", \"backgroundColor\": \"white\", \"showBackground\": false});\n",
       "\tviewer_17517482798503137.addLabel(\"0.96\",{\"position\": {\"x\": 2.7985032513449353, \"y\": 4.2038309275831995, \"z\": -1.06431918267974}, \"fontSize\": 18, \"fontColor\": \"black\", \"backgroundColor\": \"white\", \"showBackground\": false});\n",
       "\tviewer_17517482798503137.zoomTo();\n",
       "viewer_17517482798503137.render();\n",
       "});\n",
       "</script>"
      ]
     },
     "metadata": {},
     "output_type": "display_data"
    }
   ],
   "source": [
    "# Get the TS geometry\n",
    "output = calc.get_output()\n",
    "if output.terminated_normally():\n",
    "    print(\"Calculation completed successfully.\")\n",
    "    for file in ts_scan_dir.glob(\"*.refined.xyz\"):\n",
    "      ts_geom = str(file).split('.')[0] + '.' + str(file).split('.')[1] + \".xyz\"\n",
    "      show_structure(ts_geom, title=\"TS scan result\")\n",
    "else:\n",
    "    print(\"Calculation did not terminate normally.\")\n",
    "    "
   ]
  },
  {
   "cell_type": "markdown",
   "metadata": {},
   "source": [
    "### TS opt"
   ]
  },
  {
   "cell_type": "code",
   "execution_count": 13,
   "metadata": {},
   "outputs": [],
   "source": [
    "# ts_opt dir\n",
    "ts_dir = xtb_dir / \"ts\"\n",
    "ts_opt_dir  = ts_dir / \"ts_opt\""
   ]
  },
  {
   "cell_type": "code",
   "execution_count": null,
   "metadata": {},
   "outputs": [],
   "source": [
    "geom_block = BlockGeom()\n",
    "irc = BlockIrc(maxiter=100)\n",
    "sk_list = [\"xtb\", \"alpb(water)\", \"optTS\" , \"slowconv\", \"TightSCF\", \"freq\", \"IRC\"]\n",
    "geom_block.maxiter = 1000\n",
    "geom_block.recalc_hess = 25\n",
    "geom_block.calc_hess = True\n",
    "geom_block.cartfallback = True\n",
    "geom_path = ts_geom"
   ]
  },
  {
   "cell_type": "code",
   "execution_count": 15,
   "metadata": {},
   "outputs": [
    {
     "data": {
      "text/markdown": [
       "### BnOH_H2O2_ts_opt"
      ],
      "text/plain": [
       "<IPython.core.display.Markdown object>"
      ]
     },
     "metadata": {},
     "output_type": "display_data"
    },
    {
     "data": {
      "application/3dmoljs_load.v0": "<div id=\"3dmolviewer_1751748324612181\"  style=\"position: relative; width: 400px; height: 400px;\">\n        <p id=\"3dmolwarning_1751748324612181\" style=\"background-color:#ffcccc;color:black\">3Dmol.js failed to load for some reason.  Please check your browser console for error messages.<br></p>\n        </div>\n<script>\n\nvar loadScriptAsync = function(uri){\n  return new Promise((resolve, reject) => {\n    //this is to ignore the existence of requirejs amd\n    var savedexports, savedmodule;\n    if (typeof exports !== 'undefined') savedexports = exports;\n    else exports = {}\n    if (typeof module !== 'undefined') savedmodule = module;\n    else module = {}\n\n    var tag = document.createElement('script');\n    tag.src = uri;\n    tag.async = true;\n    tag.onload = () => {\n        exports = savedexports;\n        module = savedmodule;\n        resolve();\n    };\n  var firstScriptTag = document.getElementsByTagName('script')[0];\n  firstScriptTag.parentNode.insertBefore(tag, firstScriptTag);\n});\n};\n\nif(typeof $3Dmolpromise === 'undefined') {\n$3Dmolpromise = null;\n  $3Dmolpromise = loadScriptAsync('https://cdn.jsdelivr.net/npm/3dmol@2.5.1/build/3Dmol-min.js');\n}\n\nvar viewer_1751748324612181 = null;\nvar warn = document.getElementById(\"3dmolwarning_1751748324612181\");\nif(warn) {\n    warn.parentNode.removeChild(warn);\n}\n$3Dmolpromise.then(function() {\nviewer_1751748324612181 = $3Dmol.createViewer(document.getElementById(\"3dmolviewer_1751748324612181\"),{backgroundColor:\"white\"});\nviewer_1751748324612181.zoomTo();\n\tviewer_1751748324612181.addModel(\"20\\n\\nC            -0.1406132296106300            -0.2032387250596200             1.4986155701861701\\nC            -1.5119421371186199            -0.2811458670052200             1.6420000949993401\\nC            -2.3387672997633202            -0.1051409346570700             0.5430157813111800\\nC            -1.7891140324979100             0.1452821230530100            -0.7067603229813600\\nC            -0.4198118637259400             0.2193954656026500            -0.8605567249466800\\nC             0.4205501801550400             0.0393430092004300             0.2423633331887700\\nC             1.8706932921892701             0.1192581425689400             0.0687096035143800\\nO             2.6235478542059099            -0.2927504771630400             1.1068508195063300\\nH             0.5118960526377000            -0.3410824572864100             2.3462033457517202\\nH            -1.9395751915630299            -0.4756705594642800             2.6133553451023501\\nH            -3.4101418585111198            -0.1601507699758400             0.6587808010424000\\nH            -2.4340267198721199             0.2845184271687000            -1.5605842553834599\\nH             0.0100364966403800             0.4232096008270600            -1.8291794840178199\\nH             2.0682202866646202             1.4539284553137599            -0.0308067956072600\\nH             2.2279583470766502            -0.1368313863116400            -0.9282491942455100\\nH             3.5563218549357400            -0.4131355617795000             0.8678013448612300\\nO             2.3012856888985000             2.5015364430051901            -0.1190504575441800\\nO             2.7580293213898002             4.2730685093689003            -0.5915714328911800\\nH             2.1450675508333301             2.8756401419680500             0.7572254384682600\\nH             2.8389771813000699             4.1345933457974997            -1.5370669324683000\\n\\n\",\"xyz\");\n\tviewer_1751748324612181.setBackgroundColor(\"white\");\n\tviewer_1751748324612181.setStyle({\"stick\": {\"radius\": 0.1}, \"sphere\": {\"scale\": 0.2}});\n\tviewer_1751748324612181.addLabel(\"C0\",{\"position\": {\"x\": -0.14061322961063, \"y\": -0.20323872505962, \"z\": 1.49861557018617}, \"fontSize\": 18, \"fontColor\": \"black\", \"backgroundColor\": \"white\", \"showBackground\": false, \"id\": \"bnoh_h2o2_ts_opt_atom_0\"});\n\tviewer_1751748324612181.addLabel(\"C1\",{\"position\": {\"x\": -1.51194213711862, \"y\": -0.28114586700522, \"z\": 1.64200009499934}, \"fontSize\": 18, \"fontColor\": \"black\", \"backgroundColor\": \"white\", \"showBackground\": false, \"id\": \"bnoh_h2o2_ts_opt_atom_1\"});\n\tviewer_1751748324612181.addLabel(\"C2\",{\"position\": {\"x\": -2.33876729976332, \"y\": -0.10514093465707, \"z\": 0.54301578131118}, \"fontSize\": 18, \"fontColor\": \"black\", \"backgroundColor\": \"white\", \"showBackground\": false, \"id\": \"bnoh_h2o2_ts_opt_atom_2\"});\n\tviewer_1751748324612181.addLabel(\"C3\",{\"position\": {\"x\": -1.78911403249791, \"y\": 0.14528212305301, \"z\": -0.70676032298136}, \"fontSize\": 18, \"fontColor\": \"black\", \"backgroundColor\": \"white\", \"showBackground\": false, \"id\": \"bnoh_h2o2_ts_opt_atom_3\"});\n\tviewer_1751748324612181.addLabel(\"C4\",{\"position\": {\"x\": -0.41981186372594, \"y\": 0.21939546560265, \"z\": -0.86055672494668}, \"fontSize\": 18, \"fontColor\": \"black\", \"backgroundColor\": \"white\", \"showBackground\": false, \"id\": \"bnoh_h2o2_ts_opt_atom_4\"});\n\tviewer_1751748324612181.addLabel(\"C5\",{\"position\": {\"x\": 0.42055018015504, \"y\": 0.03934300920043, \"z\": 0.24236333318877}, \"fontSize\": 18, \"fontColor\": \"black\", \"backgroundColor\": \"white\", \"showBackground\": false, \"id\": \"bnoh_h2o2_ts_opt_atom_5\"});\n\tviewer_1751748324612181.addLabel(\"C6\",{\"position\": {\"x\": 1.87069329218927, \"y\": 0.11925814256894, \"z\": 0.06870960351438}, \"fontSize\": 18, \"fontColor\": \"black\", \"backgroundColor\": \"white\", \"showBackground\": false, \"id\": \"bnoh_h2o2_ts_opt_atom_6\"});\n\tviewer_1751748324612181.addLabel(\"O7\",{\"position\": {\"x\": 2.62354785420591, \"y\": -0.29275047716304, \"z\": 1.10685081950633}, \"fontSize\": 18, \"fontColor\": \"black\", \"backgroundColor\": \"white\", \"showBackground\": false, \"id\": \"bnoh_h2o2_ts_opt_atom_7\"});\n\tviewer_1751748324612181.addLabel(\"H8\",{\"position\": {\"x\": 0.5118960526377, \"y\": -0.34108245728641, \"z\": 2.34620334575172}, \"fontSize\": 18, \"fontColor\": \"black\", \"backgroundColor\": \"white\", \"showBackground\": false, \"id\": \"bnoh_h2o2_ts_opt_atom_8\"});\n\tviewer_1751748324612181.addLabel(\"H9\",{\"position\": {\"x\": -1.93957519156303, \"y\": -0.47567055946428, \"z\": 2.61335534510235}, \"fontSize\": 18, \"fontColor\": \"black\", \"backgroundColor\": \"white\", \"showBackground\": false, \"id\": \"bnoh_h2o2_ts_opt_atom_9\"});\n\tviewer_1751748324612181.addLabel(\"H10\",{\"position\": {\"x\": -3.41014185851112, \"y\": -0.16015076997584, \"z\": 0.6587808010424}, \"fontSize\": 18, \"fontColor\": \"black\", \"backgroundColor\": \"white\", \"showBackground\": false, \"id\": \"bnoh_h2o2_ts_opt_atom_10\"});\n\tviewer_1751748324612181.addLabel(\"H11\",{\"position\": {\"x\": -2.43402671987212, \"y\": 0.2845184271687, \"z\": -1.56058425538346}, \"fontSize\": 18, \"fontColor\": \"black\", \"backgroundColor\": \"white\", \"showBackground\": false, \"id\": \"bnoh_h2o2_ts_opt_atom_11\"});\n\tviewer_1751748324612181.addLabel(\"H12\",{\"position\": {\"x\": 0.01003649664038, \"y\": 0.42320960082706, \"z\": -1.82917948401782}, \"fontSize\": 18, \"fontColor\": \"black\", \"backgroundColor\": \"white\", \"showBackground\": false, \"id\": \"bnoh_h2o2_ts_opt_atom_12\"});\n\tviewer_1751748324612181.addLabel(\"H13\",{\"position\": {\"x\": 2.06822028666462, \"y\": 1.45392845531376, \"z\": -0.03080679560726}, \"fontSize\": 18, \"fontColor\": \"black\", \"backgroundColor\": \"white\", \"showBackground\": false, \"id\": \"bnoh_h2o2_ts_opt_atom_13\"});\n\tviewer_1751748324612181.addLabel(\"H14\",{\"position\": {\"x\": 2.22795834707665, \"y\": -0.13683138631164, \"z\": -0.92824919424551}, \"fontSize\": 18, \"fontColor\": \"black\", \"backgroundColor\": \"white\", \"showBackground\": false, \"id\": \"bnoh_h2o2_ts_opt_atom_14\"});\n\tviewer_1751748324612181.addLabel(\"H15\",{\"position\": {\"x\": 3.55632185493574, \"y\": -0.4131355617795, \"z\": 0.86780134486123}, \"fontSize\": 18, \"fontColor\": \"black\", \"backgroundColor\": \"white\", \"showBackground\": false, \"id\": \"bnoh_h2o2_ts_opt_atom_15\"});\n\tviewer_1751748324612181.addLabel(\"O16\",{\"position\": {\"x\": 2.3012856888985, \"y\": 2.50153644300519, \"z\": -0.11905045754418}, \"fontSize\": 18, \"fontColor\": \"black\", \"backgroundColor\": \"white\", \"showBackground\": false, \"id\": \"bnoh_h2o2_ts_opt_atom_16\"});\n\tviewer_1751748324612181.addLabel(\"O17\",{\"position\": {\"x\": 2.7580293213898, \"y\": 4.2730685093689, \"z\": -0.59157143289118}, \"fontSize\": 18, \"fontColor\": \"black\", \"backgroundColor\": \"white\", \"showBackground\": false, \"id\": \"bnoh_h2o2_ts_opt_atom_17\"});\n\tviewer_1751748324612181.addLabel(\"H18\",{\"position\": {\"x\": 2.14506755083333, \"y\": 2.87564014196805, \"z\": 0.75722543846826}, \"fontSize\": 18, \"fontColor\": \"black\", \"backgroundColor\": \"white\", \"showBackground\": false, \"id\": \"bnoh_h2o2_ts_opt_atom_18\"});\n\tviewer_1751748324612181.addLabel(\"H19\",{\"position\": {\"x\": 2.83897718130007, \"y\": 4.1345933457975, \"z\": -1.5370669324683}, \"fontSize\": 18, \"fontColor\": \"black\", \"backgroundColor\": \"white\", \"showBackground\": false, \"id\": \"bnoh_h2o2_ts_opt_atom_19\"});\n\tviewer_1751748324612181.addLabel(\"1.38\",{\"position\": {\"x\": -0.8262776833646249, \"y\": -0.24219229603241998, \"z\": 1.570307832592755}, \"fontSize\": 18, \"fontColor\": \"black\", \"backgroundColor\": \"white\", \"showBackground\": false});\n\tviewer_1751748324612181.addLabel(\"1.40\",{\"position\": {\"x\": 0.139968475272205, \"y\": -0.08194785792959501, \"z\": 0.87048945168747}, \"fontSize\": 18, \"fontColor\": \"black\", \"backgroundColor\": \"white\", \"showBackground\": false});\n\tviewer_1751748324612181.addLabel(\"1.08\",{\"position\": {\"x\": 0.185641411513535, \"y\": -0.272160591173015, \"z\": 1.922409457968945}, \"fontSize\": 18, \"fontColor\": \"black\", \"backgroundColor\": \"white\", \"showBackground\": false});\n\tviewer_1751748324612181.addLabel(\"1.39\",{\"position\": {\"x\": -1.92535471844097, \"y\": -0.193143400831145, \"z\": 1.09250793815526}, \"fontSize\": 18, \"fontColor\": \"black\", \"backgroundColor\": \"white\", \"showBackground\": false});\n\tviewer_1751748324612181.addLabel(\"1.08\",{\"position\": {\"x\": -1.725758664340825, \"y\": -0.37840821323475, \"z\": 2.127677720050845}, \"fontSize\": 18, \"fontColor\": \"black\", \"backgroundColor\": \"white\", \"showBackground\": false});\n\tviewer_1751748324612181.addLabel(\"1.39\",{\"position\": {\"x\": -2.063940666130615, \"y\": 0.02007059419797, \"z\": -0.08187227083509002}, \"fontSize\": 18, \"fontColor\": \"black\", \"backgroundColor\": \"white\", \"showBackground\": false});\n\tviewer_1751748324612181.addLabel(\"1.08\",{\"position\": {\"x\": -2.87445457913722, \"y\": -0.13264585231645498, \"z\": 0.60089829117679}, \"fontSize\": 18, \"fontColor\": \"black\", \"backgroundColor\": \"white\", \"showBackground\": false});\n\tviewer_1751748324612181.addLabel(\"1.38\",{\"position\": {\"x\": -1.104462948111925, \"y\": 0.18233879432783, \"z\": -0.78365852396402}, \"fontSize\": 18, \"fontColor\": \"black\", \"backgroundColor\": \"white\", \"showBackground\": false});\n\tviewer_1751748324612181.addLabel(\"1.08\",{\"position\": {\"x\": -2.111570376185015, \"y\": 0.21490027511085502, \"z\": -1.13367228918241}, \"fontSize\": 18, \"fontColor\": \"black\", \"backgroundColor\": \"white\", \"showBackground\": false});\n\tviewer_1751748324612181.addLabel(\"1.40\",{\"position\": {\"x\": 0.0003691582145499972, \"y\": 0.12936923740154, \"z\": -0.309096695878955}, \"fontSize\": 18, \"fontColor\": \"black\", \"backgroundColor\": \"white\", \"showBackground\": false});\n\tviewer_1751748324612181.addLabel(\"1.08\",{\"position\": {\"x\": -0.20488768354278, \"y\": 0.321302533214855, \"z\": -1.34486810448225}, \"fontSize\": 18, \"fontColor\": \"black\", \"backgroundColor\": \"white\", \"showBackground\": false});\n\tviewer_1751748324612181.addLabel(\"1.46\",{\"position\": {\"x\": 1.145621736172155, \"y\": 0.079300575884685, \"z\": 0.155536468351575}, \"fontSize\": 18, \"fontColor\": \"black\", \"backgroundColor\": \"white\", \"showBackground\": false});\n\tviewer_1751748324612181.addLabel(\"1.35\",{\"position\": {\"x\": 2.24712057319759, \"y\": -0.08674616729704998, \"z\": 0.587780211510355}, \"fontSize\": 18, \"fontColor\": \"black\", \"backgroundColor\": \"white\", \"showBackground\": false});\n\tviewer_1751748324612181.addLabel(\"1.35\",{\"position\": {\"x\": 1.9694567894269452, \"y\": 0.78659329894135, \"z\": 0.01895140395356}, \"fontSize\": 18, \"fontColor\": \"black\", \"backgroundColor\": \"white\", \"showBackground\": false});\n\tviewer_1751748324612181.addLabel(\"1.09\",{\"position\": {\"x\": 2.0493258196329602, \"y\": -0.008786621871349994, \"z\": -0.429769795365565}, \"fontSize\": 18, \"fontColor\": \"black\", \"backgroundColor\": \"white\", \"showBackground\": false});\n\tviewer_1751748324612181.addLabel(\"0.97\",{\"position\": {\"x\": 3.089934854570825, \"y\": -0.35294301947127, \"z\": 0.9873260821837799}, \"fontSize\": 18, \"fontColor\": \"black\", \"backgroundColor\": \"white\", \"showBackground\": false});\n\tviewer_1751748324612181.addLabel(\"1.08\",{\"position\": {\"x\": 2.18475298778156, \"y\": 1.977732449159475, \"z\": -0.07492862657572}, \"fontSize\": 18, \"fontColor\": \"black\", \"backgroundColor\": \"white\", \"showBackground\": false});\n\tviewer_1751748324612181.addLabel(\"0.97\",{\"position\": {\"x\": 2.223176619865915, \"y\": 2.68858829248662, \"z\": 0.31908749046204}, \"fontSize\": 18, \"fontColor\": \"black\", \"backgroundColor\": \"white\", \"showBackground\": false});\n\tviewer_1751748324612181.addLabel(\"0.96\",{\"position\": {\"x\": 2.7985032513449353, \"y\": 4.2038309275831995, \"z\": -1.06431918267974}, \"fontSize\": 18, \"fontColor\": \"black\", \"backgroundColor\": \"white\", \"showBackground\": false});\n\tviewer_1751748324612181.zoomTo();\nviewer_1751748324612181.render();\n});\n</script>",
      "text/html": [
       "<div id=\"3dmolviewer_1751748324612181\"  style=\"position: relative; width: 400px; height: 400px;\">\n",
       "        <p id=\"3dmolwarning_1751748324612181\" style=\"background-color:#ffcccc;color:black\">3Dmol.js failed to load for some reason.  Please check your browser console for error messages.<br></p>\n",
       "        </div>\n",
       "<script>\n",
       "\n",
       "var loadScriptAsync = function(uri){\n",
       "  return new Promise((resolve, reject) => {\n",
       "    //this is to ignore the existence of requirejs amd\n",
       "    var savedexports, savedmodule;\n",
       "    if (typeof exports !== 'undefined') savedexports = exports;\n",
       "    else exports = {}\n",
       "    if (typeof module !== 'undefined') savedmodule = module;\n",
       "    else module = {}\n",
       "\n",
       "    var tag = document.createElement('script');\n",
       "    tag.src = uri;\n",
       "    tag.async = true;\n",
       "    tag.onload = () => {\n",
       "        exports = savedexports;\n",
       "        module = savedmodule;\n",
       "        resolve();\n",
       "    };\n",
       "  var firstScriptTag = document.getElementsByTagName('script')[0];\n",
       "  firstScriptTag.parentNode.insertBefore(tag, firstScriptTag);\n",
       "});\n",
       "};\n",
       "\n",
       "if(typeof $3Dmolpromise === 'undefined') {\n",
       "$3Dmolpromise = null;\n",
       "  $3Dmolpromise = loadScriptAsync('https://cdn.jsdelivr.net/npm/3dmol@2.5.1/build/3Dmol-min.js');\n",
       "}\n",
       "\n",
       "var viewer_1751748324612181 = null;\n",
       "var warn = document.getElementById(\"3dmolwarning_1751748324612181\");\n",
       "if(warn) {\n",
       "    warn.parentNode.removeChild(warn);\n",
       "}\n",
       "$3Dmolpromise.then(function() {\n",
       "viewer_1751748324612181 = $3Dmol.createViewer(document.getElementById(\"3dmolviewer_1751748324612181\"),{backgroundColor:\"white\"});\n",
       "viewer_1751748324612181.zoomTo();\n",
       "\tviewer_1751748324612181.addModel(\"20\\n\\nC            -0.1406132296106300            -0.2032387250596200             1.4986155701861701\\nC            -1.5119421371186199            -0.2811458670052200             1.6420000949993401\\nC            -2.3387672997633202            -0.1051409346570700             0.5430157813111800\\nC            -1.7891140324979100             0.1452821230530100            -0.7067603229813600\\nC            -0.4198118637259400             0.2193954656026500            -0.8605567249466800\\nC             0.4205501801550400             0.0393430092004300             0.2423633331887700\\nC             1.8706932921892701             0.1192581425689400             0.0687096035143800\\nO             2.6235478542059099            -0.2927504771630400             1.1068508195063300\\nH             0.5118960526377000            -0.3410824572864100             2.3462033457517202\\nH            -1.9395751915630299            -0.4756705594642800             2.6133553451023501\\nH            -3.4101418585111198            -0.1601507699758400             0.6587808010424000\\nH            -2.4340267198721199             0.2845184271687000            -1.5605842553834599\\nH             0.0100364966403800             0.4232096008270600            -1.8291794840178199\\nH             2.0682202866646202             1.4539284553137599            -0.0308067956072600\\nH             2.2279583470766502            -0.1368313863116400            -0.9282491942455100\\nH             3.5563218549357400            -0.4131355617795000             0.8678013448612300\\nO             2.3012856888985000             2.5015364430051901            -0.1190504575441800\\nO             2.7580293213898002             4.2730685093689003            -0.5915714328911800\\nH             2.1450675508333301             2.8756401419680500             0.7572254384682600\\nH             2.8389771813000699             4.1345933457974997            -1.5370669324683000\\n\\n\",\"xyz\");\n",
       "\tviewer_1751748324612181.setBackgroundColor(\"white\");\n",
       "\tviewer_1751748324612181.setStyle({\"stick\": {\"radius\": 0.1}, \"sphere\": {\"scale\": 0.2}});\n",
       "\tviewer_1751748324612181.addLabel(\"C0\",{\"position\": {\"x\": -0.14061322961063, \"y\": -0.20323872505962, \"z\": 1.49861557018617}, \"fontSize\": 18, \"fontColor\": \"black\", \"backgroundColor\": \"white\", \"showBackground\": false, \"id\": \"bnoh_h2o2_ts_opt_atom_0\"});\n",
       "\tviewer_1751748324612181.addLabel(\"C1\",{\"position\": {\"x\": -1.51194213711862, \"y\": -0.28114586700522, \"z\": 1.64200009499934}, \"fontSize\": 18, \"fontColor\": \"black\", \"backgroundColor\": \"white\", \"showBackground\": false, \"id\": \"bnoh_h2o2_ts_opt_atom_1\"});\n",
       "\tviewer_1751748324612181.addLabel(\"C2\",{\"position\": {\"x\": -2.33876729976332, \"y\": -0.10514093465707, \"z\": 0.54301578131118}, \"fontSize\": 18, \"fontColor\": \"black\", \"backgroundColor\": \"white\", \"showBackground\": false, \"id\": \"bnoh_h2o2_ts_opt_atom_2\"});\n",
       "\tviewer_1751748324612181.addLabel(\"C3\",{\"position\": {\"x\": -1.78911403249791, \"y\": 0.14528212305301, \"z\": -0.70676032298136}, \"fontSize\": 18, \"fontColor\": \"black\", \"backgroundColor\": \"white\", \"showBackground\": false, \"id\": \"bnoh_h2o2_ts_opt_atom_3\"});\n",
       "\tviewer_1751748324612181.addLabel(\"C4\",{\"position\": {\"x\": -0.41981186372594, \"y\": 0.21939546560265, \"z\": -0.86055672494668}, \"fontSize\": 18, \"fontColor\": \"black\", \"backgroundColor\": \"white\", \"showBackground\": false, \"id\": \"bnoh_h2o2_ts_opt_atom_4\"});\n",
       "\tviewer_1751748324612181.addLabel(\"C5\",{\"position\": {\"x\": 0.42055018015504, \"y\": 0.03934300920043, \"z\": 0.24236333318877}, \"fontSize\": 18, \"fontColor\": \"black\", \"backgroundColor\": \"white\", \"showBackground\": false, \"id\": \"bnoh_h2o2_ts_opt_atom_5\"});\n",
       "\tviewer_1751748324612181.addLabel(\"C6\",{\"position\": {\"x\": 1.87069329218927, \"y\": 0.11925814256894, \"z\": 0.06870960351438}, \"fontSize\": 18, \"fontColor\": \"black\", \"backgroundColor\": \"white\", \"showBackground\": false, \"id\": \"bnoh_h2o2_ts_opt_atom_6\"});\n",
       "\tviewer_1751748324612181.addLabel(\"O7\",{\"position\": {\"x\": 2.62354785420591, \"y\": -0.29275047716304, \"z\": 1.10685081950633}, \"fontSize\": 18, \"fontColor\": \"black\", \"backgroundColor\": \"white\", \"showBackground\": false, \"id\": \"bnoh_h2o2_ts_opt_atom_7\"});\n",
       "\tviewer_1751748324612181.addLabel(\"H8\",{\"position\": {\"x\": 0.5118960526377, \"y\": -0.34108245728641, \"z\": 2.34620334575172}, \"fontSize\": 18, \"fontColor\": \"black\", \"backgroundColor\": \"white\", \"showBackground\": false, \"id\": \"bnoh_h2o2_ts_opt_atom_8\"});\n",
       "\tviewer_1751748324612181.addLabel(\"H9\",{\"position\": {\"x\": -1.93957519156303, \"y\": -0.47567055946428, \"z\": 2.61335534510235}, \"fontSize\": 18, \"fontColor\": \"black\", \"backgroundColor\": \"white\", \"showBackground\": false, \"id\": \"bnoh_h2o2_ts_opt_atom_9\"});\n",
       "\tviewer_1751748324612181.addLabel(\"H10\",{\"position\": {\"x\": -3.41014185851112, \"y\": -0.16015076997584, \"z\": 0.6587808010424}, \"fontSize\": 18, \"fontColor\": \"black\", \"backgroundColor\": \"white\", \"showBackground\": false, \"id\": \"bnoh_h2o2_ts_opt_atom_10\"});\n",
       "\tviewer_1751748324612181.addLabel(\"H11\",{\"position\": {\"x\": -2.43402671987212, \"y\": 0.2845184271687, \"z\": -1.56058425538346}, \"fontSize\": 18, \"fontColor\": \"black\", \"backgroundColor\": \"white\", \"showBackground\": false, \"id\": \"bnoh_h2o2_ts_opt_atom_11\"});\n",
       "\tviewer_1751748324612181.addLabel(\"H12\",{\"position\": {\"x\": 0.01003649664038, \"y\": 0.42320960082706, \"z\": -1.82917948401782}, \"fontSize\": 18, \"fontColor\": \"black\", \"backgroundColor\": \"white\", \"showBackground\": false, \"id\": \"bnoh_h2o2_ts_opt_atom_12\"});\n",
       "\tviewer_1751748324612181.addLabel(\"H13\",{\"position\": {\"x\": 2.06822028666462, \"y\": 1.45392845531376, \"z\": -0.03080679560726}, \"fontSize\": 18, \"fontColor\": \"black\", \"backgroundColor\": \"white\", \"showBackground\": false, \"id\": \"bnoh_h2o2_ts_opt_atom_13\"});\n",
       "\tviewer_1751748324612181.addLabel(\"H14\",{\"position\": {\"x\": 2.22795834707665, \"y\": -0.13683138631164, \"z\": -0.92824919424551}, \"fontSize\": 18, \"fontColor\": \"black\", \"backgroundColor\": \"white\", \"showBackground\": false, \"id\": \"bnoh_h2o2_ts_opt_atom_14\"});\n",
       "\tviewer_1751748324612181.addLabel(\"H15\",{\"position\": {\"x\": 3.55632185493574, \"y\": -0.4131355617795, \"z\": 0.86780134486123}, \"fontSize\": 18, \"fontColor\": \"black\", \"backgroundColor\": \"white\", \"showBackground\": false, \"id\": \"bnoh_h2o2_ts_opt_atom_15\"});\n",
       "\tviewer_1751748324612181.addLabel(\"O16\",{\"position\": {\"x\": 2.3012856888985, \"y\": 2.50153644300519, \"z\": -0.11905045754418}, \"fontSize\": 18, \"fontColor\": \"black\", \"backgroundColor\": \"white\", \"showBackground\": false, \"id\": \"bnoh_h2o2_ts_opt_atom_16\"});\n",
       "\tviewer_1751748324612181.addLabel(\"O17\",{\"position\": {\"x\": 2.7580293213898, \"y\": 4.2730685093689, \"z\": -0.59157143289118}, \"fontSize\": 18, \"fontColor\": \"black\", \"backgroundColor\": \"white\", \"showBackground\": false, \"id\": \"bnoh_h2o2_ts_opt_atom_17\"});\n",
       "\tviewer_1751748324612181.addLabel(\"H18\",{\"position\": {\"x\": 2.14506755083333, \"y\": 2.87564014196805, \"z\": 0.75722543846826}, \"fontSize\": 18, \"fontColor\": \"black\", \"backgroundColor\": \"white\", \"showBackground\": false, \"id\": \"bnoh_h2o2_ts_opt_atom_18\"});\n",
       "\tviewer_1751748324612181.addLabel(\"H19\",{\"position\": {\"x\": 2.83897718130007, \"y\": 4.1345933457975, \"z\": -1.5370669324683}, \"fontSize\": 18, \"fontColor\": \"black\", \"backgroundColor\": \"white\", \"showBackground\": false, \"id\": \"bnoh_h2o2_ts_opt_atom_19\"});\n",
       "\tviewer_1751748324612181.addLabel(\"1.38\",{\"position\": {\"x\": -0.8262776833646249, \"y\": -0.24219229603241998, \"z\": 1.570307832592755}, \"fontSize\": 18, \"fontColor\": \"black\", \"backgroundColor\": \"white\", \"showBackground\": false});\n",
       "\tviewer_1751748324612181.addLabel(\"1.40\",{\"position\": {\"x\": 0.139968475272205, \"y\": -0.08194785792959501, \"z\": 0.87048945168747}, \"fontSize\": 18, \"fontColor\": \"black\", \"backgroundColor\": \"white\", \"showBackground\": false});\n",
       "\tviewer_1751748324612181.addLabel(\"1.08\",{\"position\": {\"x\": 0.185641411513535, \"y\": -0.272160591173015, \"z\": 1.922409457968945}, \"fontSize\": 18, \"fontColor\": \"black\", \"backgroundColor\": \"white\", \"showBackground\": false});\n",
       "\tviewer_1751748324612181.addLabel(\"1.39\",{\"position\": {\"x\": -1.92535471844097, \"y\": -0.193143400831145, \"z\": 1.09250793815526}, \"fontSize\": 18, \"fontColor\": \"black\", \"backgroundColor\": \"white\", \"showBackground\": false});\n",
       "\tviewer_1751748324612181.addLabel(\"1.08\",{\"position\": {\"x\": -1.725758664340825, \"y\": -0.37840821323475, \"z\": 2.127677720050845}, \"fontSize\": 18, \"fontColor\": \"black\", \"backgroundColor\": \"white\", \"showBackground\": false});\n",
       "\tviewer_1751748324612181.addLabel(\"1.39\",{\"position\": {\"x\": -2.063940666130615, \"y\": 0.02007059419797, \"z\": -0.08187227083509002}, \"fontSize\": 18, \"fontColor\": \"black\", \"backgroundColor\": \"white\", \"showBackground\": false});\n",
       "\tviewer_1751748324612181.addLabel(\"1.08\",{\"position\": {\"x\": -2.87445457913722, \"y\": -0.13264585231645498, \"z\": 0.60089829117679}, \"fontSize\": 18, \"fontColor\": \"black\", \"backgroundColor\": \"white\", \"showBackground\": false});\n",
       "\tviewer_1751748324612181.addLabel(\"1.38\",{\"position\": {\"x\": -1.104462948111925, \"y\": 0.18233879432783, \"z\": -0.78365852396402}, \"fontSize\": 18, \"fontColor\": \"black\", \"backgroundColor\": \"white\", \"showBackground\": false});\n",
       "\tviewer_1751748324612181.addLabel(\"1.08\",{\"position\": {\"x\": -2.111570376185015, \"y\": 0.21490027511085502, \"z\": -1.13367228918241}, \"fontSize\": 18, \"fontColor\": \"black\", \"backgroundColor\": \"white\", \"showBackground\": false});\n",
       "\tviewer_1751748324612181.addLabel(\"1.40\",{\"position\": {\"x\": 0.0003691582145499972, \"y\": 0.12936923740154, \"z\": -0.309096695878955}, \"fontSize\": 18, \"fontColor\": \"black\", \"backgroundColor\": \"white\", \"showBackground\": false});\n",
       "\tviewer_1751748324612181.addLabel(\"1.08\",{\"position\": {\"x\": -0.20488768354278, \"y\": 0.321302533214855, \"z\": -1.34486810448225}, \"fontSize\": 18, \"fontColor\": \"black\", \"backgroundColor\": \"white\", \"showBackground\": false});\n",
       "\tviewer_1751748324612181.addLabel(\"1.46\",{\"position\": {\"x\": 1.145621736172155, \"y\": 0.079300575884685, \"z\": 0.155536468351575}, \"fontSize\": 18, \"fontColor\": \"black\", \"backgroundColor\": \"white\", \"showBackground\": false});\n",
       "\tviewer_1751748324612181.addLabel(\"1.35\",{\"position\": {\"x\": 2.24712057319759, \"y\": -0.08674616729704998, \"z\": 0.587780211510355}, \"fontSize\": 18, \"fontColor\": \"black\", \"backgroundColor\": \"white\", \"showBackground\": false});\n",
       "\tviewer_1751748324612181.addLabel(\"1.35\",{\"position\": {\"x\": 1.9694567894269452, \"y\": 0.78659329894135, \"z\": 0.01895140395356}, \"fontSize\": 18, \"fontColor\": \"black\", \"backgroundColor\": \"white\", \"showBackground\": false});\n",
       "\tviewer_1751748324612181.addLabel(\"1.09\",{\"position\": {\"x\": 2.0493258196329602, \"y\": -0.008786621871349994, \"z\": -0.429769795365565}, \"fontSize\": 18, \"fontColor\": \"black\", \"backgroundColor\": \"white\", \"showBackground\": false});\n",
       "\tviewer_1751748324612181.addLabel(\"0.97\",{\"position\": {\"x\": 3.089934854570825, \"y\": -0.35294301947127, \"z\": 0.9873260821837799}, \"fontSize\": 18, \"fontColor\": \"black\", \"backgroundColor\": \"white\", \"showBackground\": false});\n",
       "\tviewer_1751748324612181.addLabel(\"1.08\",{\"position\": {\"x\": 2.18475298778156, \"y\": 1.977732449159475, \"z\": -0.07492862657572}, \"fontSize\": 18, \"fontColor\": \"black\", \"backgroundColor\": \"white\", \"showBackground\": false});\n",
       "\tviewer_1751748324612181.addLabel(\"0.97\",{\"position\": {\"x\": 2.223176619865915, \"y\": 2.68858829248662, \"z\": 0.31908749046204}, \"fontSize\": 18, \"fontColor\": \"black\", \"backgroundColor\": \"white\", \"showBackground\": false});\n",
       "\tviewer_1751748324612181.addLabel(\"0.96\",{\"position\": {\"x\": 2.7985032513449353, \"y\": 4.2038309275831995, \"z\": -1.06431918267974}, \"fontSize\": 18, \"fontColor\": \"black\", \"backgroundColor\": \"white\", \"showBackground\": false});\n",
       "\tviewer_1751748324612181.zoomTo();\n",
       "viewer_1751748324612181.render();\n",
       "});\n",
       "</script>"
      ]
     },
     "metadata": {},
     "output_type": "display_data"
    }
   ],
   "source": [
    "calc = setup_calc(\n",
    "    working_dir=ts_opt_dir,\n",
    "    structure=geom_path,\n",
    "    basename=\"BnOH_H2O2_ts_opt\",\n",
    "    sk_list=sk_list,\n",
    "    bk_list=geom_block,\n",
    ")"
   ]
  },
  {
   "cell_type": "code",
   "execution_count": 16,
   "metadata": {},
   "outputs": [],
   "source": [
    "# run calculation\n",
    "calc.run()"
   ]
  },
  {
   "cell_type": "code",
   "execution_count": 17,
   "metadata": {},
   "outputs": [
    {
     "name": "stdout",
     "output_type": "stream",
     "text": [
      "Calculation completed successfully.\n"
     ]
    },
    {
     "data": {
      "text/markdown": [
       "### TS_opt result"
      ],
      "text/plain": [
       "<IPython.core.display.Markdown object>"
      ]
     },
     "metadata": {},
     "output_type": "display_data"
    },
    {
     "data": {
      "application/3dmoljs_load.v0": "<div id=\"3dmolviewer_17517483418732126\"  style=\"position: relative; width: 400px; height: 400px;\">\n        <p id=\"3dmolwarning_17517483418732126\" style=\"background-color:#ffcccc;color:black\">3Dmol.js failed to load for some reason.  Please check your browser console for error messages.<br></p>\n        </div>\n<script>\n\nvar loadScriptAsync = function(uri){\n  return new Promise((resolve, reject) => {\n    //this is to ignore the existence of requirejs amd\n    var savedexports, savedmodule;\n    if (typeof exports !== 'undefined') savedexports = exports;\n    else exports = {}\n    if (typeof module !== 'undefined') savedmodule = module;\n    else module = {}\n\n    var tag = document.createElement('script');\n    tag.src = uri;\n    tag.async = true;\n    tag.onload = () => {\n        exports = savedexports;\n        module = savedmodule;\n        resolve();\n    };\n  var firstScriptTag = document.getElementsByTagName('script')[0];\n  firstScriptTag.parentNode.insertBefore(tag, firstScriptTag);\n});\n};\n\nif(typeof $3Dmolpromise === 'undefined') {\n$3Dmolpromise = null;\n  $3Dmolpromise = loadScriptAsync('https://cdn.jsdelivr.net/npm/3dmol@2.5.1/build/3Dmol-min.js');\n}\n\nvar viewer_17517483418732126 = null;\nvar warn = document.getElementById(\"3dmolwarning_17517483418732126\");\nif(warn) {\n    warn.parentNode.removeChild(warn);\n}\n$3Dmolpromise.then(function() {\nviewer_17517483418732126 = $3Dmol.createViewer(document.getElementById(\"3dmolviewer_17517483418732126\"),{backgroundColor:\"white\"});\nviewer_17517483418732126.zoomTo();\n\tviewer_17517483418732126.addModel(\"20\\n\\nC            -0.1593034363063600            -0.2440068784772200             1.5145598234590301\\nC            -1.5301293820018800            -0.2955150594228000             1.6541501950972699\\nC            -2.3512072261634702            -0.1136810358695200             0.5494378757670200\\nC            -1.7964468913459899             0.1180546640778600            -0.7034050343429600\\nC            -0.4277070349899100             0.1678987374698100            -0.8572591224192500\\nC             0.4107657753850000            -0.0209602383156900             0.2521422496564000\\nC             1.8421343976939799             0.0146903551408000             0.0802043830111900\\nO             2.6130028226442201            -0.3448164741416800             1.0953523919244501\\nH             0.4900875205343500            -0.3839964835898800             2.3641211272568898\\nH            -1.9653024721372201            -0.4739987254119000             2.6249053539519598\\nH            -3.4233649175729801            -0.1487157611925500             0.6637300759976700\\nH            -2.4393573961788002             0.2622311057284500            -1.5575505785314501\\nH             0.0083792735298600             0.3587039102531400            -1.8253136757496100\\nH             2.0138929503906700             1.5108087399559500             0.0203323997145100\\nH             2.2215482615392199            -0.1061404699590800            -0.9313503418771500\\nH             3.5519695598821102            -0.4444340834761200             0.8606036432663300\\nO             2.3108072048961499             2.4994202478438901            -0.1406560222671100\\nO             2.9063020386081702             4.4215458222275998            -0.6063876873679400\\nH             2.1759905469023599             2.9828588764116701             0.6802549584920400\\nH             2.8965301789548601             4.3006796759188601            -1.5567761371929001\\n\\n\",\"xyz\");\n\tviewer_17517483418732126.setBackgroundColor(\"white\");\n\tviewer_17517483418732126.setStyle({\"stick\": {\"radius\": 0.1}, \"sphere\": {\"scale\": 0.2}});\n\tviewer_17517483418732126.addLabel(\"C0\",{\"position\": {\"x\": -0.15930343630636, \"y\": -0.24400687847722, \"z\": 1.51455982345903}, \"fontSize\": 18, \"fontColor\": \"black\", \"backgroundColor\": \"white\", \"showBackground\": false, \"id\": \"ts_opt result_atom_0\"});\n\tviewer_17517483418732126.addLabel(\"C1\",{\"position\": {\"x\": -1.53012938200188, \"y\": -0.2955150594228, \"z\": 1.65415019509727}, \"fontSize\": 18, \"fontColor\": \"black\", \"backgroundColor\": \"white\", \"showBackground\": false, \"id\": \"ts_opt result_atom_1\"});\n\tviewer_17517483418732126.addLabel(\"C2\",{\"position\": {\"x\": -2.35120722616347, \"y\": -0.11368103586952, \"z\": 0.54943787576702}, \"fontSize\": 18, \"fontColor\": \"black\", \"backgroundColor\": \"white\", \"showBackground\": false, \"id\": \"ts_opt result_atom_2\"});\n\tviewer_17517483418732126.addLabel(\"C3\",{\"position\": {\"x\": -1.79644689134599, \"y\": 0.11805466407786, \"z\": -0.70340503434296}, \"fontSize\": 18, \"fontColor\": \"black\", \"backgroundColor\": \"white\", \"showBackground\": false, \"id\": \"ts_opt result_atom_3\"});\n\tviewer_17517483418732126.addLabel(\"C4\",{\"position\": {\"x\": -0.42770703498991, \"y\": 0.16789873746981, \"z\": -0.85725912241925}, \"fontSize\": 18, \"fontColor\": \"black\", \"backgroundColor\": \"white\", \"showBackground\": false, \"id\": \"ts_opt result_atom_4\"});\n\tviewer_17517483418732126.addLabel(\"C5\",{\"position\": {\"x\": 0.410765775385, \"y\": -0.02096023831569, \"z\": 0.2521422496564}, \"fontSize\": 18, \"fontColor\": \"black\", \"backgroundColor\": \"white\", \"showBackground\": false, \"id\": \"ts_opt result_atom_5\"});\n\tviewer_17517483418732126.addLabel(\"C6\",{\"position\": {\"x\": 1.84213439769398, \"y\": 0.0146903551408, \"z\": 0.08020438301119}, \"fontSize\": 18, \"fontColor\": \"black\", \"backgroundColor\": \"white\", \"showBackground\": false, \"id\": \"ts_opt result_atom_6\"});\n\tviewer_17517483418732126.addLabel(\"O7\",{\"position\": {\"x\": 2.61300282264422, \"y\": -0.34481647414168, \"z\": 1.09535239192445}, \"fontSize\": 18, \"fontColor\": \"black\", \"backgroundColor\": \"white\", \"showBackground\": false, \"id\": \"ts_opt result_atom_7\"});\n\tviewer_17517483418732126.addLabel(\"H8\",{\"position\": {\"x\": 0.49008752053435, \"y\": -0.38399648358988, \"z\": 2.36412112725689}, \"fontSize\": 18, \"fontColor\": \"black\", \"backgroundColor\": \"white\", \"showBackground\": false, \"id\": \"ts_opt result_atom_8\"});\n\tviewer_17517483418732126.addLabel(\"H9\",{\"position\": {\"x\": -1.96530247213722, \"y\": -0.4739987254119, \"z\": 2.62490535395196}, \"fontSize\": 18, \"fontColor\": \"black\", \"backgroundColor\": \"white\", \"showBackground\": false, \"id\": \"ts_opt result_atom_9\"});\n\tviewer_17517483418732126.addLabel(\"H10\",{\"position\": {\"x\": -3.42336491757298, \"y\": -0.14871576119255, \"z\": 0.66373007599767}, \"fontSize\": 18, \"fontColor\": \"black\", \"backgroundColor\": \"white\", \"showBackground\": false, \"id\": \"ts_opt result_atom_10\"});\n\tviewer_17517483418732126.addLabel(\"H11\",{\"position\": {\"x\": -2.4393573961788, \"y\": 0.26223110572845, \"z\": -1.55755057853145}, \"fontSize\": 18, \"fontColor\": \"black\", \"backgroundColor\": \"white\", \"showBackground\": false, \"id\": \"ts_opt result_atom_11\"});\n\tviewer_17517483418732126.addLabel(\"H12\",{\"position\": {\"x\": 0.00837927352986, \"y\": 0.35870391025314, \"z\": -1.82531367574961}, \"fontSize\": 18, \"fontColor\": \"black\", \"backgroundColor\": \"white\", \"showBackground\": false, \"id\": \"ts_opt result_atom_12\"});\n\tviewer_17517483418732126.addLabel(\"H13\",{\"position\": {\"x\": 2.01389295039067, \"y\": 1.51080873995595, \"z\": 0.02033239971451}, \"fontSize\": 18, \"fontColor\": \"black\", \"backgroundColor\": \"white\", \"showBackground\": false, \"id\": \"ts_opt result_atom_13\"});\n\tviewer_17517483418732126.addLabel(\"H14\",{\"position\": {\"x\": 2.22154826153922, \"y\": -0.10614046995908, \"z\": -0.93135034187715}, \"fontSize\": 18, \"fontColor\": \"black\", \"backgroundColor\": \"white\", \"showBackground\": false, \"id\": \"ts_opt result_atom_14\"});\n\tviewer_17517483418732126.addLabel(\"H15\",{\"position\": {\"x\": 3.55196955988211, \"y\": -0.44443408347612, \"z\": 0.86060364326633}, \"fontSize\": 18, \"fontColor\": \"black\", \"backgroundColor\": \"white\", \"showBackground\": false, \"id\": \"ts_opt result_atom_15\"});\n\tviewer_17517483418732126.addLabel(\"O16\",{\"position\": {\"x\": 2.31080720489615, \"y\": 2.49942024784389, \"z\": -0.14065602226711}, \"fontSize\": 18, \"fontColor\": \"black\", \"backgroundColor\": \"white\", \"showBackground\": false, \"id\": \"ts_opt result_atom_16\"});\n\tviewer_17517483418732126.addLabel(\"O17\",{\"position\": {\"x\": 2.90630203860817, \"y\": 4.4215458222276, \"z\": -0.60638768736794}, \"fontSize\": 18, \"fontColor\": \"black\", \"backgroundColor\": \"white\", \"showBackground\": false, \"id\": \"ts_opt result_atom_17\"});\n\tviewer_17517483418732126.addLabel(\"H18\",{\"position\": {\"x\": 2.17599054690236, \"y\": 2.98285887641167, \"z\": 0.68025495849204}, \"fontSize\": 18, \"fontColor\": \"black\", \"backgroundColor\": \"white\", \"showBackground\": false, \"id\": \"ts_opt result_atom_18\"});\n\tviewer_17517483418732126.addLabel(\"H19\",{\"position\": {\"x\": 2.89653017895486, \"y\": 4.30067967591886, \"z\": -1.5567761371929}, \"fontSize\": 18, \"fontColor\": \"black\", \"backgroundColor\": \"white\", \"showBackground\": false, \"id\": \"ts_opt result_atom_19\"});\n\tviewer_17517483418732126.addLabel(\"1.38\",{\"position\": {\"x\": -0.8447164091541199, \"y\": -0.26976096895001, \"z\": 1.58435500927815}, \"fontSize\": 18, \"fontColor\": \"black\", \"backgroundColor\": \"white\", \"showBackground\": false});\n\tviewer_17517483418732126.addLabel(\"1.40\",{\"position\": {\"x\": 0.12573116953931998, \"y\": -0.132483558396455, \"z\": 0.8833510365577151}, \"fontSize\": 18, \"fontColor\": \"black\", \"backgroundColor\": \"white\", \"showBackground\": false});\n\tviewer_17517483418732126.addLabel(\"1.08\",{\"position\": {\"x\": 0.165392042113995, \"y\": -0.31400168103355, \"z\": 1.93934047535796}, \"fontSize\": 18, \"fontColor\": \"black\", \"backgroundColor\": \"white\", \"showBackground\": false});\n\tviewer_17517483418732126.addLabel(\"1.39\",{\"position\": {\"x\": -1.940668304082675, \"y\": -0.20459804764616, \"z\": 1.101794035432145}, \"fontSize\": 18, \"fontColor\": \"black\", \"backgroundColor\": \"white\", \"showBackground\": false});\n\tviewer_17517483418732126.addLabel(\"1.08\",{\"position\": {\"x\": -1.74771592706955, \"y\": -0.38475689241735, \"z\": 2.139527774524615}, \"fontSize\": 18, \"fontColor\": \"black\", \"backgroundColor\": \"white\", \"showBackground\": false});\n\tviewer_17517483418732126.addLabel(\"1.39\",{\"position\": {\"x\": -2.07382705875473, \"y\": 0.002186814104170001, \"z\": -0.07698357928797}, \"fontSize\": 18, \"fontColor\": \"black\", \"backgroundColor\": \"white\", \"showBackground\": false});\n\tviewer_17517483418732126.addLabel(\"1.08\",{\"position\": {\"x\": -2.887286071868225, \"y\": -0.131198398531035, \"z\": 0.606583975882345}, \"fontSize\": 18, \"fontColor\": \"black\", \"backgroundColor\": \"white\", \"showBackground\": false});\n\tviewer_17517483418732126.addLabel(\"1.38\",{\"position\": {\"x\": -1.11207696316795, \"y\": 0.142976700773835, \"z\": -0.780332078381105}, \"fontSize\": 18, \"fontColor\": \"black\", \"backgroundColor\": \"white\", \"showBackground\": false});\n\tviewer_17517483418732126.addLabel(\"1.08\",{\"position\": {\"x\": -2.117902143762395, \"y\": 0.190142884903155, \"z\": -1.130477806437205}, \"fontSize\": 18, \"fontColor\": \"black\", \"backgroundColor\": \"white\", \"showBackground\": false});\n\tviewer_17517483418732126.addLabel(\"1.40\",{\"position\": {\"x\": -0.008470629802454999, \"y\": 0.07346924957706, \"z\": -0.302558436381425}, \"fontSize\": 18, \"fontColor\": \"black\", \"backgroundColor\": \"white\", \"showBackground\": false});\n\tviewer_17517483418732126.addLabel(\"1.08\",{\"position\": {\"x\": -0.20966388073002498, \"y\": 0.263301323861475, \"z\": -1.34128639908443}, \"fontSize\": 18, \"fontColor\": \"black\", \"backgroundColor\": \"white\", \"showBackground\": false});\n\tviewer_17517483418732126.addLabel(\"1.44\",{\"position\": {\"x\": 1.12645008653949, \"y\": -0.0031349415874450002, \"z\": 0.16617331633379498}, \"fontSize\": 18, \"fontColor\": \"black\", \"backgroundColor\": \"white\", \"showBackground\": false});\n\tviewer_17517483418732126.addLabel(\"1.32\",{\"position\": {\"x\": 2.2275686101691, \"y\": -0.16506305950043998, \"z\": 0.5877783874678201}, \"fontSize\": 18, \"fontColor\": \"black\", \"backgroundColor\": \"white\", \"showBackground\": false});\n\tviewer_17517483418732126.addLabel(\"1.09\",{\"position\": {\"x\": 2.0318413296166, \"y\": -0.04572505740914, \"z\": -0.42557297943298}, \"fontSize\": 18, \"fontColor\": \"black\", \"backgroundColor\": \"white\", \"showBackground\": false});\n\tviewer_17517483418732126.addLabel(\"0.97\",{\"position\": {\"x\": 3.082486191263165, \"y\": -0.39462527880889997, \"z\": 0.97797801759539}, \"fontSize\": 18, \"fontColor\": \"black\", \"backgroundColor\": \"white\", \"showBackground\": false});\n\tviewer_17517483418732126.addLabel(\"1.04\",{\"position\": {\"x\": 2.16235007764341, \"y\": 2.00511449389992, \"z\": -0.06016181127629999}, \"fontSize\": 18, \"fontColor\": \"black\", \"backgroundColor\": \"white\", \"showBackground\": false});\n\tviewer_17517483418732126.addLabel(\"0.96\",{\"position\": {\"x\": 2.243398875899255, \"y\": 2.7411395621277803, \"z\": 0.269799468112465}, \"fontSize\": 18, \"fontColor\": \"black\", \"backgroundColor\": \"white\", \"showBackground\": false});\n\tviewer_17517483418732126.addLabel(\"0.96\",{\"position\": {\"x\": 2.901416108781515, \"y\": 4.36111274907323, \"z\": -1.08158191228042}, \"fontSize\": 18, \"fontColor\": \"black\", \"backgroundColor\": \"white\", \"showBackground\": false});\n\tviewer_17517483418732126.zoomTo();\nviewer_17517483418732126.render();\n});\n</script>",
      "text/html": [
       "<div id=\"3dmolviewer_17517483418732126\"  style=\"position: relative; width: 400px; height: 400px;\">\n",
       "        <p id=\"3dmolwarning_17517483418732126\" style=\"background-color:#ffcccc;color:black\">3Dmol.js failed to load for some reason.  Please check your browser console for error messages.<br></p>\n",
       "        </div>\n",
       "<script>\n",
       "\n",
       "var loadScriptAsync = function(uri){\n",
       "  return new Promise((resolve, reject) => {\n",
       "    //this is to ignore the existence of requirejs amd\n",
       "    var savedexports, savedmodule;\n",
       "    if (typeof exports !== 'undefined') savedexports = exports;\n",
       "    else exports = {}\n",
       "    if (typeof module !== 'undefined') savedmodule = module;\n",
       "    else module = {}\n",
       "\n",
       "    var tag = document.createElement('script');\n",
       "    tag.src = uri;\n",
       "    tag.async = true;\n",
       "    tag.onload = () => {\n",
       "        exports = savedexports;\n",
       "        module = savedmodule;\n",
       "        resolve();\n",
       "    };\n",
       "  var firstScriptTag = document.getElementsByTagName('script')[0];\n",
       "  firstScriptTag.parentNode.insertBefore(tag, firstScriptTag);\n",
       "});\n",
       "};\n",
       "\n",
       "if(typeof $3Dmolpromise === 'undefined') {\n",
       "$3Dmolpromise = null;\n",
       "  $3Dmolpromise = loadScriptAsync('https://cdn.jsdelivr.net/npm/3dmol@2.5.1/build/3Dmol-min.js');\n",
       "}\n",
       "\n",
       "var viewer_17517483418732126 = null;\n",
       "var warn = document.getElementById(\"3dmolwarning_17517483418732126\");\n",
       "if(warn) {\n",
       "    warn.parentNode.removeChild(warn);\n",
       "}\n",
       "$3Dmolpromise.then(function() {\n",
       "viewer_17517483418732126 = $3Dmol.createViewer(document.getElementById(\"3dmolviewer_17517483418732126\"),{backgroundColor:\"white\"});\n",
       "viewer_17517483418732126.zoomTo();\n",
       "\tviewer_17517483418732126.addModel(\"20\\n\\nC            -0.1593034363063600            -0.2440068784772200             1.5145598234590301\\nC            -1.5301293820018800            -0.2955150594228000             1.6541501950972699\\nC            -2.3512072261634702            -0.1136810358695200             0.5494378757670200\\nC            -1.7964468913459899             0.1180546640778600            -0.7034050343429600\\nC            -0.4277070349899100             0.1678987374698100            -0.8572591224192500\\nC             0.4107657753850000            -0.0209602383156900             0.2521422496564000\\nC             1.8421343976939799             0.0146903551408000             0.0802043830111900\\nO             2.6130028226442201            -0.3448164741416800             1.0953523919244501\\nH             0.4900875205343500            -0.3839964835898800             2.3641211272568898\\nH            -1.9653024721372201            -0.4739987254119000             2.6249053539519598\\nH            -3.4233649175729801            -0.1487157611925500             0.6637300759976700\\nH            -2.4393573961788002             0.2622311057284500            -1.5575505785314501\\nH             0.0083792735298600             0.3587039102531400            -1.8253136757496100\\nH             2.0138929503906700             1.5108087399559500             0.0203323997145100\\nH             2.2215482615392199            -0.1061404699590800            -0.9313503418771500\\nH             3.5519695598821102            -0.4444340834761200             0.8606036432663300\\nO             2.3108072048961499             2.4994202478438901            -0.1406560222671100\\nO             2.9063020386081702             4.4215458222275998            -0.6063876873679400\\nH             2.1759905469023599             2.9828588764116701             0.6802549584920400\\nH             2.8965301789548601             4.3006796759188601            -1.5567761371929001\\n\\n\",\"xyz\");\n",
       "\tviewer_17517483418732126.setBackgroundColor(\"white\");\n",
       "\tviewer_17517483418732126.setStyle({\"stick\": {\"radius\": 0.1}, \"sphere\": {\"scale\": 0.2}});\n",
       "\tviewer_17517483418732126.addLabel(\"C0\",{\"position\": {\"x\": -0.15930343630636, \"y\": -0.24400687847722, \"z\": 1.51455982345903}, \"fontSize\": 18, \"fontColor\": \"black\", \"backgroundColor\": \"white\", \"showBackground\": false, \"id\": \"ts_opt result_atom_0\"});\n",
       "\tviewer_17517483418732126.addLabel(\"C1\",{\"position\": {\"x\": -1.53012938200188, \"y\": -0.2955150594228, \"z\": 1.65415019509727}, \"fontSize\": 18, \"fontColor\": \"black\", \"backgroundColor\": \"white\", \"showBackground\": false, \"id\": \"ts_opt result_atom_1\"});\n",
       "\tviewer_17517483418732126.addLabel(\"C2\",{\"position\": {\"x\": -2.35120722616347, \"y\": -0.11368103586952, \"z\": 0.54943787576702}, \"fontSize\": 18, \"fontColor\": \"black\", \"backgroundColor\": \"white\", \"showBackground\": false, \"id\": \"ts_opt result_atom_2\"});\n",
       "\tviewer_17517483418732126.addLabel(\"C3\",{\"position\": {\"x\": -1.79644689134599, \"y\": 0.11805466407786, \"z\": -0.70340503434296}, \"fontSize\": 18, \"fontColor\": \"black\", \"backgroundColor\": \"white\", \"showBackground\": false, \"id\": \"ts_opt result_atom_3\"});\n",
       "\tviewer_17517483418732126.addLabel(\"C4\",{\"position\": {\"x\": -0.42770703498991, \"y\": 0.16789873746981, \"z\": -0.85725912241925}, \"fontSize\": 18, \"fontColor\": \"black\", \"backgroundColor\": \"white\", \"showBackground\": false, \"id\": \"ts_opt result_atom_4\"});\n",
       "\tviewer_17517483418732126.addLabel(\"C5\",{\"position\": {\"x\": 0.410765775385, \"y\": -0.02096023831569, \"z\": 0.2521422496564}, \"fontSize\": 18, \"fontColor\": \"black\", \"backgroundColor\": \"white\", \"showBackground\": false, \"id\": \"ts_opt result_atom_5\"});\n",
       "\tviewer_17517483418732126.addLabel(\"C6\",{\"position\": {\"x\": 1.84213439769398, \"y\": 0.0146903551408, \"z\": 0.08020438301119}, \"fontSize\": 18, \"fontColor\": \"black\", \"backgroundColor\": \"white\", \"showBackground\": false, \"id\": \"ts_opt result_atom_6\"});\n",
       "\tviewer_17517483418732126.addLabel(\"O7\",{\"position\": {\"x\": 2.61300282264422, \"y\": -0.34481647414168, \"z\": 1.09535239192445}, \"fontSize\": 18, \"fontColor\": \"black\", \"backgroundColor\": \"white\", \"showBackground\": false, \"id\": \"ts_opt result_atom_7\"});\n",
       "\tviewer_17517483418732126.addLabel(\"H8\",{\"position\": {\"x\": 0.49008752053435, \"y\": -0.38399648358988, \"z\": 2.36412112725689}, \"fontSize\": 18, \"fontColor\": \"black\", \"backgroundColor\": \"white\", \"showBackground\": false, \"id\": \"ts_opt result_atom_8\"});\n",
       "\tviewer_17517483418732126.addLabel(\"H9\",{\"position\": {\"x\": -1.96530247213722, \"y\": -0.4739987254119, \"z\": 2.62490535395196}, \"fontSize\": 18, \"fontColor\": \"black\", \"backgroundColor\": \"white\", \"showBackground\": false, \"id\": \"ts_opt result_atom_9\"});\n",
       "\tviewer_17517483418732126.addLabel(\"H10\",{\"position\": {\"x\": -3.42336491757298, \"y\": -0.14871576119255, \"z\": 0.66373007599767}, \"fontSize\": 18, \"fontColor\": \"black\", \"backgroundColor\": \"white\", \"showBackground\": false, \"id\": \"ts_opt result_atom_10\"});\n",
       "\tviewer_17517483418732126.addLabel(\"H11\",{\"position\": {\"x\": -2.4393573961788, \"y\": 0.26223110572845, \"z\": -1.55755057853145}, \"fontSize\": 18, \"fontColor\": \"black\", \"backgroundColor\": \"white\", \"showBackground\": false, \"id\": \"ts_opt result_atom_11\"});\n",
       "\tviewer_17517483418732126.addLabel(\"H12\",{\"position\": {\"x\": 0.00837927352986, \"y\": 0.35870391025314, \"z\": -1.82531367574961}, \"fontSize\": 18, \"fontColor\": \"black\", \"backgroundColor\": \"white\", \"showBackground\": false, \"id\": \"ts_opt result_atom_12\"});\n",
       "\tviewer_17517483418732126.addLabel(\"H13\",{\"position\": {\"x\": 2.01389295039067, \"y\": 1.51080873995595, \"z\": 0.02033239971451}, \"fontSize\": 18, \"fontColor\": \"black\", \"backgroundColor\": \"white\", \"showBackground\": false, \"id\": \"ts_opt result_atom_13\"});\n",
       "\tviewer_17517483418732126.addLabel(\"H14\",{\"position\": {\"x\": 2.22154826153922, \"y\": -0.10614046995908, \"z\": -0.93135034187715}, \"fontSize\": 18, \"fontColor\": \"black\", \"backgroundColor\": \"white\", \"showBackground\": false, \"id\": \"ts_opt result_atom_14\"});\n",
       "\tviewer_17517483418732126.addLabel(\"H15\",{\"position\": {\"x\": 3.55196955988211, \"y\": -0.44443408347612, \"z\": 0.86060364326633}, \"fontSize\": 18, \"fontColor\": \"black\", \"backgroundColor\": \"white\", \"showBackground\": false, \"id\": \"ts_opt result_atom_15\"});\n",
       "\tviewer_17517483418732126.addLabel(\"O16\",{\"position\": {\"x\": 2.31080720489615, \"y\": 2.49942024784389, \"z\": -0.14065602226711}, \"fontSize\": 18, \"fontColor\": \"black\", \"backgroundColor\": \"white\", \"showBackground\": false, \"id\": \"ts_opt result_atom_16\"});\n",
       "\tviewer_17517483418732126.addLabel(\"O17\",{\"position\": {\"x\": 2.90630203860817, \"y\": 4.4215458222276, \"z\": -0.60638768736794}, \"fontSize\": 18, \"fontColor\": \"black\", \"backgroundColor\": \"white\", \"showBackground\": false, \"id\": \"ts_opt result_atom_17\"});\n",
       "\tviewer_17517483418732126.addLabel(\"H18\",{\"position\": {\"x\": 2.17599054690236, \"y\": 2.98285887641167, \"z\": 0.68025495849204}, \"fontSize\": 18, \"fontColor\": \"black\", \"backgroundColor\": \"white\", \"showBackground\": false, \"id\": \"ts_opt result_atom_18\"});\n",
       "\tviewer_17517483418732126.addLabel(\"H19\",{\"position\": {\"x\": 2.89653017895486, \"y\": 4.30067967591886, \"z\": -1.5567761371929}, \"fontSize\": 18, \"fontColor\": \"black\", \"backgroundColor\": \"white\", \"showBackground\": false, \"id\": \"ts_opt result_atom_19\"});\n",
       "\tviewer_17517483418732126.addLabel(\"1.38\",{\"position\": {\"x\": -0.8447164091541199, \"y\": -0.26976096895001, \"z\": 1.58435500927815}, \"fontSize\": 18, \"fontColor\": \"black\", \"backgroundColor\": \"white\", \"showBackground\": false});\n",
       "\tviewer_17517483418732126.addLabel(\"1.40\",{\"position\": {\"x\": 0.12573116953931998, \"y\": -0.132483558396455, \"z\": 0.8833510365577151}, \"fontSize\": 18, \"fontColor\": \"black\", \"backgroundColor\": \"white\", \"showBackground\": false});\n",
       "\tviewer_17517483418732126.addLabel(\"1.08\",{\"position\": {\"x\": 0.165392042113995, \"y\": -0.31400168103355, \"z\": 1.93934047535796}, \"fontSize\": 18, \"fontColor\": \"black\", \"backgroundColor\": \"white\", \"showBackground\": false});\n",
       "\tviewer_17517483418732126.addLabel(\"1.39\",{\"position\": {\"x\": -1.940668304082675, \"y\": -0.20459804764616, \"z\": 1.101794035432145}, \"fontSize\": 18, \"fontColor\": \"black\", \"backgroundColor\": \"white\", \"showBackground\": false});\n",
       "\tviewer_17517483418732126.addLabel(\"1.08\",{\"position\": {\"x\": -1.74771592706955, \"y\": -0.38475689241735, \"z\": 2.139527774524615}, \"fontSize\": 18, \"fontColor\": \"black\", \"backgroundColor\": \"white\", \"showBackground\": false});\n",
       "\tviewer_17517483418732126.addLabel(\"1.39\",{\"position\": {\"x\": -2.07382705875473, \"y\": 0.002186814104170001, \"z\": -0.07698357928797}, \"fontSize\": 18, \"fontColor\": \"black\", \"backgroundColor\": \"white\", \"showBackground\": false});\n",
       "\tviewer_17517483418732126.addLabel(\"1.08\",{\"position\": {\"x\": -2.887286071868225, \"y\": -0.131198398531035, \"z\": 0.606583975882345}, \"fontSize\": 18, \"fontColor\": \"black\", \"backgroundColor\": \"white\", \"showBackground\": false});\n",
       "\tviewer_17517483418732126.addLabel(\"1.38\",{\"position\": {\"x\": -1.11207696316795, \"y\": 0.142976700773835, \"z\": -0.780332078381105}, \"fontSize\": 18, \"fontColor\": \"black\", \"backgroundColor\": \"white\", \"showBackground\": false});\n",
       "\tviewer_17517483418732126.addLabel(\"1.08\",{\"position\": {\"x\": -2.117902143762395, \"y\": 0.190142884903155, \"z\": -1.130477806437205}, \"fontSize\": 18, \"fontColor\": \"black\", \"backgroundColor\": \"white\", \"showBackground\": false});\n",
       "\tviewer_17517483418732126.addLabel(\"1.40\",{\"position\": {\"x\": -0.008470629802454999, \"y\": 0.07346924957706, \"z\": -0.302558436381425}, \"fontSize\": 18, \"fontColor\": \"black\", \"backgroundColor\": \"white\", \"showBackground\": false});\n",
       "\tviewer_17517483418732126.addLabel(\"1.08\",{\"position\": {\"x\": -0.20966388073002498, \"y\": 0.263301323861475, \"z\": -1.34128639908443}, \"fontSize\": 18, \"fontColor\": \"black\", \"backgroundColor\": \"white\", \"showBackground\": false});\n",
       "\tviewer_17517483418732126.addLabel(\"1.44\",{\"position\": {\"x\": 1.12645008653949, \"y\": -0.0031349415874450002, \"z\": 0.16617331633379498}, \"fontSize\": 18, \"fontColor\": \"black\", \"backgroundColor\": \"white\", \"showBackground\": false});\n",
       "\tviewer_17517483418732126.addLabel(\"1.32\",{\"position\": {\"x\": 2.2275686101691, \"y\": -0.16506305950043998, \"z\": 0.5877783874678201}, \"fontSize\": 18, \"fontColor\": \"black\", \"backgroundColor\": \"white\", \"showBackground\": false});\n",
       "\tviewer_17517483418732126.addLabel(\"1.09\",{\"position\": {\"x\": 2.0318413296166, \"y\": -0.04572505740914, \"z\": -0.42557297943298}, \"fontSize\": 18, \"fontColor\": \"black\", \"backgroundColor\": \"white\", \"showBackground\": false});\n",
       "\tviewer_17517483418732126.addLabel(\"0.97\",{\"position\": {\"x\": 3.082486191263165, \"y\": -0.39462527880889997, \"z\": 0.97797801759539}, \"fontSize\": 18, \"fontColor\": \"black\", \"backgroundColor\": \"white\", \"showBackground\": false});\n",
       "\tviewer_17517483418732126.addLabel(\"1.04\",{\"position\": {\"x\": 2.16235007764341, \"y\": 2.00511449389992, \"z\": -0.06016181127629999}, \"fontSize\": 18, \"fontColor\": \"black\", \"backgroundColor\": \"white\", \"showBackground\": false});\n",
       "\tviewer_17517483418732126.addLabel(\"0.96\",{\"position\": {\"x\": 2.243398875899255, \"y\": 2.7411395621277803, \"z\": 0.269799468112465}, \"fontSize\": 18, \"fontColor\": \"black\", \"backgroundColor\": \"white\", \"showBackground\": false});\n",
       "\tviewer_17517483418732126.addLabel(\"0.96\",{\"position\": {\"x\": 2.901416108781515, \"y\": 4.36111274907323, \"z\": -1.08158191228042}, \"fontSize\": 18, \"fontColor\": \"black\", \"backgroundColor\": \"white\", \"showBackground\": false});\n",
       "\tviewer_17517483418732126.zoomTo();\n",
       "viewer_17517483418732126.render();\n",
       "});\n",
       "</script>"
      ]
     },
     "metadata": {},
     "output_type": "display_data"
    }
   ],
   "source": [
    "# Get the TS geometry\n",
    "output = calc.get_output()\n",
    "if output.terminated_normally():\n",
    "    print(\"Calculation completed successfully.\")\n",
    "    ts_geom = ts_opt_dir / \"BnOH_H2O2_ts_opt.xyz\"\n",
    "    show_structure(ts_geom, title=\"TS_opt result\")\n",
    "    \n",
    "else:\n",
    "    print(\"Calculation did not terminate normally.\")"
   ]
  }
 ],
 "metadata": {
  "kernelspec": {
   "display_name": "orca_env",
   "language": "python",
   "name": "python3"
  },
  "language_info": {
   "codemirror_mode": {
    "name": "ipython",
    "version": 3
   },
   "file_extension": ".py",
   "mimetype": "text/x-python",
   "name": "python",
   "nbconvert_exporter": "python",
   "pygments_lexer": "ipython3",
   "version": "3.12.3"
  }
 },
 "nbformat": 4,
 "nbformat_minor": 2
}
